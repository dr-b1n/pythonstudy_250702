{
 "cells": [
  {
   "cell_type": "markdown",
   "id": "bb9cba64-9a75-4aba-b7e3-c5e8c07f3d84",
   "metadata": {},
   "source": [
    "#### 다음 사이트를 크롤링 할 수 있도록 기본 세팅 bs4와 requests를 활용하여 기본 세팅 해주세요\n",
    "- http://davelee-fun.github.io/"
   ]
  },
  {
   "cell_type": "code",
   "execution_count": 3,
   "id": "d00c0748-e8fb-4690-bafa-efe05ba9d3a7",
   "metadata": {},
   "outputs": [
    {
     "name": "stdout",
     "output_type": "stream",
     "text": [
      "Blog\n",
      "About\n"
     ]
    }
   ],
   "source": [
    "import requests\n",
    "from bs4 import BeautifulSoup\n",
    "\n",
    "res = requests.get(\"https://davelee-fun.github.io/\")\n",
    "soup = BeautifulSoup(res.content, \"html.parser\")\n",
    "\n",
    "navi = soup.find_all(\"a\", attrs = {\"class\":\"nav-link\"})\n",
    "\n",
    "for navigation in navi :\n",
    "    print(navigation.get_text())"
   ]
  },
  {
   "cell_type": "markdown",
   "id": "a52741e9-ac2d-4efe-bf2f-e8be1e465c95",
   "metadata": {},
   "source": [
    "#### 2. 현재 쇼핑몰 내 우측 상단 blog, about 메뉴명을 크롤링해서 출력해주세요!"
   ]
  },
  {
   "cell_type": "code",
   "execution_count": 8,
   "id": "7a41c987-1170-422b-b7eb-b2462236126a",
   "metadata": {},
   "outputs": [
    {
     "name": "stdout",
     "output_type": "stream",
     "text": [
      "\n",
      "Blog\n",
      "\n",
      "\n",
      "About\n",
      "\n"
     ]
    }
   ],
   "source": [
    "# 정답\n",
    "\n",
    "import requests\n",
    "from bs4 import BeautifulSoup\n",
    "\n",
    "url = \"https://davelee-fun.github.io/\"\n",
    "\n",
    "res = requests.get(url)\n",
    "soup = BeautifulSoup(res.content, \"html.parser\")\n",
    "\n",
    "# res = requests.get(f\"{url}product-83\")\n",
    "\n",
    "items = soup.select(\"li.nav-item\")\n",
    "\n",
    "for item in items :\n",
    "    print(item.get_text())"
   ]
  },
  {
   "cell_type": "markdown",
   "id": "9457c6cf-c088-414a-9729-1f5c557ce201",
   "metadata": {},
   "source": [
    "#### 3. 현재 찾아온 메뉴명 중에서 가상 클래스 active가 적용된 메뉴명만 출력해주세요!"
   ]
  },
  {
   "cell_type": "code",
   "execution_count": 17,
   "id": "8040f67b-a8af-4cab-813d-5d0648b1feff",
   "metadata": {},
   "outputs": [
    {
     "name": "stdout",
     "output_type": "stream",
     "text": [
      "\n",
      "Blog\n",
      "\n"
     ]
    }
   ],
   "source": [
    "import requests\n",
    "from bs4 import BeautifulSoup\n",
    "\n",
    "url = \"https://davelee-fun.github.io/\"\n",
    "\n",
    "res = requests.get(url)\n",
    "soup = BeautifulSoup(res.content, \"html.parser\")\n",
    "\n",
    "item = soup.select_one(\"li.nav-item.active\")\n",
    "\n",
    "print(item.get_text())"
   ]
  },
  {
   "cell_type": "markdown",
   "id": "24350a12-9f75-4584-846e-a8c7d9c3db25",
   "metadata": {},
   "source": [
    "#### 4. 현재 사이트에서 sitetitle이라는 클래스 값을 가지고 있는 h1 태그 안 텍스트를 출력해주세요"
   ]
  },
  {
   "cell_type": "code",
   "execution_count": 23,
   "id": "339a5c4b-e7ed-4797-9eb3-7e9d5af3f6f4",
   "metadata": {},
   "outputs": [
    {
     "name": "stdout",
     "output_type": "stream",
     "text": [
      "Teddy의 선물 블로그\n"
     ]
    }
   ],
   "source": [
    "import requests\n",
    "from bs4 import BeautifulSoup\n",
    "\n",
    "url = \"https://davelee-fun.github.io/\"\n",
    "\n",
    "res = requests.get(url)\n",
    "soup = BeautifulSoup(res.content, \"html.parser\")\n",
    "\n",
    "# item = soup.find(\"h1\", \"sitetitle\")\n",
    "item = soup.select_one(\"h1.sitetitle\")\n",
    "print(item.get_text())"
   ]
  },
  {
   "cell_type": "markdown",
   "id": "0374cb1d-bfd3-42f5-8037-140279a4db6b",
   "metadata": {},
   "source": [
    "#### 5. 현재 사이트에서 \"선물하기 좋은 선물을 고르고 골라서 소개하는 블로그입니다.\" 라는 서브타이틀을 찾아서 크롤링해서 출력해주세요"
   ]
  },
  {
   "cell_type": "code",
   "execution_count": 27,
   "id": "cb75f4bc-cf7e-4649-8cd6-961d01c18cbc",
   "metadata": {},
   "outputs": [
    {
     "name": "stdout",
     "output_type": "stream",
     "text": [
      "선물하기 좋은 선물을 고르고 골라서 소개하는 블로그입니다.\n"
     ]
    }
   ],
   "source": [
    "import requests\n",
    "from bs4 import BeautifulSoup\n",
    "\n",
    "url = \"https://davelee-fun.github.io/\"\n",
    "\n",
    "res = requests.get(url)\n",
    "soup = BeautifulSoup(res.content, \"html.parser\")\n",
    "\n",
    "item = soup.select_one(\"p.lead\")\n",
    "# print(item.get_text())\n",
    "print(item.string.strip())"
   ]
  },
  {
   "cell_type": "markdown",
   "id": "721f1193-e57a-4bc7-9d25-c0fec3ab9d73",
   "metadata": {},
   "source": [
    "#### 6. 현재 사이트에서 Featured 카테고리에 속해있는 상품들의 상품명만 가져와서 출력해주세요"
   ]
  },
  {
   "cell_type": "code",
   "execution_count": 40,
   "id": "663a7644-0281-4bba-9709-0c90ba971545",
   "metadata": {},
   "outputs": [
    {
     "name": "stdout",
     "output_type": "stream",
     "text": [
      "상품명: 보몽드 순면스퀘어 솔리드 누빔매트커버, 다크블루\n",
      "\n",
      "\n",
      "상품명: 슈에뜨룸 선인장 리플 침구 세트, 베이지\n",
      "\n",
      "\n",
      "상품명: 선우랜드 레인보우 2단 문걸이용 옷걸이 _중형, 화이트, 상세페이지참조\n",
      "\n",
      "\n",
      "상품명: 보드래 헬로우 누빔 매트리스커버, 핑크\n",
      "\n",
      "\n",
      "상품명: 보드래 퍼펙트 누빔 매트리스커버, 차콜\n",
      "\n",
      "\n",
      "상품명: 피아블 클래식 방수 매트리스커버, 화이트\n",
      "\n",
      "\n",
      "상품명: 더자리 에코항균 마이크로 매트리스커버, 밀키차콜그레이\n",
      "\n",
      "\n",
      "상품명: 더자리 프레쉬 퓨어 매트리스 커버, 퓨어 차콜그레이\n",
      "\n",
      "\n",
      "상품명: 몽쉐어 알러스킨 항균 매트리스 커버, 카키그레이\n",
      "\n",
      "\n",
      "상품명: 쿠팡 브랜드 - 코멧 홈 40수 트윌 순면 100% 홑겹 매트리스커버, 그레이\n",
      "\n",
      "\n",
      "상품명: 패브릭아트 항균 마이크로 원단 매트리스 커버, 아이보리\n",
      "\n",
      "\n",
      "상품명: 바숨 순면 누빔 침대 매트리스커버, 차콜\n",
      "\n",
      "\n",
      "상품명: WEMAX 다용도 문옷걸이, 화이트, 1개\n",
      "\n",
      "\n",
      "상품명: 타카타카 프리미엄 나노 화이바 누빔 매트리스 커버, 젠틀핑핑\n",
      "\n",
      "\n",
      "상품명: 보몽드 순면스퀘어 누빔매트커버, 다크그레이\n",
      "\n",
      "\n",
      "상품명: 보드래 국내산 순면 60수 누빔 매트리스커버, 그레이\n",
      "\n",
      "\n"
     ]
    }
   ],
   "source": [
    "import requests\n",
    "from bs4 import BeautifulSoup\n",
    "\n",
    "url = \"https://davelee-fun.github.io/\"\n",
    "\n",
    "res = requests.get(url)\n",
    "soup = BeautifulSoup(res.content, \"html.parser\")\n",
    "\n",
    "# item = soup.select(\"h4\" , attrs = {\"class\":\"card-text\"})\n",
    "item = soup.select(\".card-text\")\n",
    "for items in item :\n",
    "    print(items.get_text())"
   ]
  },
  {
   "cell_type": "code",
   "execution_count": 44,
   "id": "4268738f-dd74-4b77-b85c-fef651d3bd17",
   "metadata": {},
   "outputs": [
    {
     "name": "stdout",
     "output_type": "stream",
     "text": [
      " 보몽드 순면스퀘어 솔리드 누빔매트커버, 다크블루\n",
      " 슈에뜨룸 선인장 리플 침구 세트, 베이지\n",
      " 선우랜드 레인보우 2단 문걸이용 옷걸이 _중형, 화이트, 상세페이지참조\n",
      " 보드래 헬로우 누빔 매트리스커버, 핑크\n",
      " 보드래 퍼펙트 누빔 매트리스커버, 차콜\n",
      " 피아블 클래식 방수 매트리스커버, 화이트\n",
      " 더자리 에코항균 마이크로 매트리스커버, 밀키차콜그레이\n",
      " 더자리 프레쉬 퓨어 매트리스 커버, 퓨어 차콜그레이\n",
      " 몽쉐어 알러스킨 항균 매트리스 커버, 카키그레이\n",
      " 쿠팡 브랜드 - 코멧 홈 40수 트윌 순면 100% 홑겹 매트리스커버, 그레이\n",
      " 패브릭아트 항균 마이크로 원단 매트리스 커버, 아이보리\n",
      " 바숨 순면 누빔 침대 매트리스커버, 차콜\n",
      " WEMAX 다용도 문옷걸이, 화이트, 1개\n",
      " 타카타카 프리미엄 나노 화이바 누빔 매트리스 커버, 젠틀핑핑\n",
      " 보몽드 순면스퀘어 누빔매트커버, 다크그레이\n",
      " 보드래 국내산 순면 60수 누빔 매트리스커버, 그레이\n"
     ]
    }
   ],
   "source": [
    "# 정답\n",
    "\n",
    "import requests\n",
    "from bs4 import BeautifulSoup\n",
    "\n",
    "url = \"https://davelee-fun.github.io/\"\n",
    "\n",
    "res = requests.get(url)\n",
    "soup = BeautifulSoup(res.content, \"html.parser\")\n",
    "\n",
    "items = soup.select(\"h4.card-text\")\n",
    "for item in items :\n",
    "    print(item.string.strip().split(\":\")[1])"
   ]
  },
  {
   "cell_type": "markdown",
   "id": "7b9a8b4f-f392-4c89-b840-59c4d7c8f85e",
   "metadata": {},
   "source": [
    "#### 7. 현재 사이트에서 All stories 카테고리에 속해있는 상품들의 상품명만 가져와서 출력해주세요"
   ]
  },
  {
   "cell_type": "code",
   "execution_count": 58,
   "id": "9d3ef253-0dff-4bcc-b212-79320707c3ae",
   "metadata": {},
   "outputs": [],
   "source": [
    "import requests\n",
    "from bs4 import BeautifulSoup\n",
    "\n",
    "url = \"https://davelee-fun.github.io/\"\n",
    "\n",
    "res = requests.get(url)\n",
    "soup = BeautifulSoup(res.content, \"html.parser\")\n",
    "\n",
    "items = soup.select(\"div.card-body > h2.card > h4.card-text\")\n"
   ]
  },
  {
   "cell_type": "code",
   "execution_count": 62,
   "id": "48f68d33-35a7-4f1d-81db-c9b139dba0df",
   "metadata": {},
   "outputs": [
    {
     "name": "stdout",
     "output_type": "stream",
     "text": [
      " 보드래 퍼펙트 누빔 매트리스커버, 차콜\n",
      " 피아블 클래식 방수 매트리스커버, 화이트\n",
      " 더자리 에코항균 마이크로 매트리스커버, 밀키차콜그레이\n",
      " 더자리 프레쉬 퓨어 매트리스 커버, 퓨어 차콜그레이\n",
      " 몽쉐어 알러스킨 항균 매트리스 커버, 카키그레이\n",
      " 쿠팡 브랜드 - 코멧 홈 40수 트윌 순면 100% 홑겹 매트리스커버, 그레이\n",
      " 패브릭아트 항균 마이크로 원단 매트리스 커버, 아이보리\n",
      " 바숨 순면 누빔 침대 매트리스커버, 차콜\n",
      " WEMAX 다용도 문옷걸이, 화이트, 1개\n",
      " 타카타카 프리미엄 나노 화이바 누빔 매트리스 커버, 젠틀핑핑\n",
      " 보몽드 순면스퀘어 누빔매트커버, 다크그레이\n",
      " 보드래 국내산 순면 60수 누빔 매트리스커버, 그레이\n"
     ]
    }
   ],
   "source": [
    "# 정답\n",
    "\n",
    "import requests\n",
    "from bs4 import BeautifulSoup\n",
    "\n",
    "url = \"https://davelee-fun.github.io/\"\n",
    "\n",
    "res = requests.get(url)\n",
    "soup = BeautifulSoup(res.content, \"html.parser\")\n",
    "\n",
    "allstories = soup.select_one(\".recent-posts\")\n",
    "items = allstories.select(\"h4.card-text\")\n",
    "\n",
    "for item in items :\n",
    "    print(item.string.strip().split(\":\")[1])"
   ]
  },
  {
   "cell_type": "markdown",
   "id": "19b8b75d-19f6-42a3-9969-222bd22bab98",
   "metadata": {},
   "source": [
    "#### 8. 현재 사이트에서 Never miss a story from us, subscribe to our newsletter 가져와서 출력해주세요"
   ]
  },
  {
   "cell_type": "code",
   "execution_count": 79,
   "id": "a8badbd6-1129-442d-9c4d-37eb530ed34d",
   "metadata": {},
   "outputs": [
    {
     "name": "stdout",
     "output_type": "stream",
     "text": [
      "\n",
      "\n",
      "   Never miss a story from us, subscribe to our newsletter\n",
      "\n",
      "\n",
      "\n",
      "\n",
      "\n",
      "\n",
      "\n",
      "\n"
     ]
    }
   ],
   "source": [
    "import requests\n",
    "from bs4 import BeautifulSoup\n",
    "\n",
    "url = \"https://davelee-fun.github.io/\"\n",
    "\n",
    "res = requests.get(url)\n",
    "soup = BeautifulSoup(res.content, \"html.parser\")\n",
    "\n",
    "items = soup.select(\"div.alertbar\")\n",
    "for item in items :\n",
    "    print(item.get_text())"
   ]
  },
  {
   "cell_type": "code",
   "execution_count": 82,
   "id": "0334935d-eee5-43c7-a76c-cf81994d03a0",
   "metadata": {},
   "outputs": [
    {
     "name": "stdout",
     "output_type": "stream",
     "text": [
      "Never miss a story from us, subscribe to our newsletter\n"
     ]
    }
   ],
   "source": [
    "# 정답\n",
    "\n",
    "import requests\n",
    "from bs4 import BeautifulSoup\n",
    "\n",
    "url = \"https://davelee-fun.github.io/\"\n",
    "\n",
    "res = requests.get(url)\n",
    "soup = BeautifulSoup(res.content, \"html.parser\")\n",
    "\n",
    "items = soup.select_one(\"div.container.text-center\")\n",
    "print(items.get_text().strip())"
   ]
  }
 ],
 "metadata": {
  "kernelspec": {
   "display_name": "Python 3 (ipykernel)",
   "language": "python",
   "name": "python3"
  },
  "language_info": {
   "codemirror_mode": {
    "name": "ipython",
    "version": 3
   },
   "file_extension": ".py",
   "mimetype": "text/x-python",
   "name": "python",
   "nbconvert_exporter": "python",
   "pygments_lexer": "ipython3",
   "version": "3.13.5"
  }
 },
 "nbformat": 4,
 "nbformat_minor": 5
}
