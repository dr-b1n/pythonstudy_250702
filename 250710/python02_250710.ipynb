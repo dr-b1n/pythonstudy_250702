{
 "cells": [
  {
   "cell_type": "code",
   "execution_count": 5,
   "id": "3524ab5c-0e1c-4511-a62f-1ac54f8c4b5e",
   "metadata": {},
   "outputs": [
    {
     "name": "stdout",
     "output_type": "stream",
     "text": [
      "나만의 엣지있는 블로그 사이트 만들기\n",
      "당신의 커리어에 파이썬을 입히세요! 자신만의 자동 프로그램까지 가져가는\n",
      "      특별한 강의\n"
     ]
    }
   ],
   "source": [
    "import requests\n",
    "from bs4 import BeautifulSoup\n",
    "\n",
    "res = requests.get(\"https://crawlingtest.netlify.app/\")\n",
    "soup = BeautifulSoup(res.content, \"html.parser\")\n",
    "\n",
    "items = soup.select(\"h3\") \n",
    "\n",
    "for item in items :\n",
    "    print(item.get_text().strip())"
   ]
  },
  {
   "cell_type": "code",
   "execution_count": 9,
   "id": "a82294b6-77c4-4f34-80b4-7c107b00f2cd",
   "metadata": {},
   "outputs": [
    {
     "data": {
      "text/plain": [
       "[<h1>메가스터디 크롤링 테스트 페이지</h1>]"
      ]
     },
     "execution_count": 9,
     "metadata": {},
     "output_type": "execute_result"
    }
   ],
   "source": [
    "import requests\n",
    "from bs4 import BeautifulSoup\n",
    "\n",
    "res = requests.get(\"https://crawlingtest.netlify.app/\")\n",
    "soup = BeautifulSoup(res.content, \"html.parser\")\n",
    "\n",
    "items = soup.select(\"body > h1\") # >는 직계 자식 요소, 이렇게는 잘 쓰지 않는다\n",
    "items"
   ]
  },
  {
   "cell_type": "code",
   "execution_count": 13,
   "id": "d5ac924b-4030-4fda-a100-cb46919e2d18",
   "metadata": {},
   "outputs": [
    {
     "name": "stdout",
     "output_type": "stream",
     "text": [
      "<li class=\"course\">\n",
      "<a href=\"#\">(왕초보) - 클래스 소개</a>\n",
      "</li>\n",
      "<li class=\"course\">\n",
      "<a href=\"#\">(왕초보) - 블로그 개발 필요한 준비물 준비하기</a>\n",
      "</li>\n",
      "<li class=\"course\">\n",
      "<a href=\"#\">(왕초보) - Github pages 설정해서 블로그 첫 페이지 만들어보기</a>\n",
      "</li>\n",
      "<li class=\"course\">\n",
      "<a href=\"#\">(왕초보) - 초간단 페이지 만들어보기</a>\n",
      "</li>\n",
      "<li class=\"course\">\n",
      "<a href=\"#\">(왕초보) - 이쁘게 테마 적용해보기</a>\n",
      "</li>\n",
      "<li class=\"course\">\n",
      "<a href=\"#\">(왕초보) - 마크다운 기초 이해하고, 실제 나만의 블로그 페이지\n",
      "          만들기</a>\n",
      "</li>\n",
      "<li class=\"course\">\n",
      "<a href=\"#\">(왕초보) - 다양한 마크다운 기법 익혀보며, 나만의 블로그 페이지\n",
      "          꾸며보기</a>\n",
      "</li>\n",
      "<li class=\"course\">\n",
      "<a href=\"#\">(초급) - 강사가 실제 사용하는 자동 프로그램 소개 [2]</a>\n",
      "</li>\n",
      "<li class=\"course\">\n",
      "<a href=\"#\">(초급) - 필요한 프로그램 설치 시연 [5]</a>\n",
      "</li>\n",
      "<li class=\"course\">\n",
      "<a href=\"#\">(초급) - 데이터를 엑셀 파일로 만들기 [9]</a>\n",
      "</li>\n",
      "<li class=\"course\">\n",
      "<a href=\"#\">(초급) -     엑셀 파일 이쁘게! 이쁘게! [8]</a>\n",
      "</li>\n",
      "<li class=\"course\">\n",
      "<a href=\"#\">(초급) -     나대신 주기적으로 파이썬 프로그램\n",
      "          실행하기 [7]</a>\n",
      "</li>\n",
      "<li class=\"course\">\n",
      "<a href=\"#\">(초급) - 파이썬으로 슬랙(slack) 메신저에 글쓰기 [40]</a>\n",
      "</li>\n",
      "<li class=\"course\">\n",
      "<a href=\"#\">(초급) - 웹사이트 변경사항 주기적으로 체크해서, 메신저로 알람주기\n",
      "          [12]</a>\n",
      "</li>\n",
      "<li class=\"course\">\n",
      "<a href=\"#\">(초급) - 네이버 API 사용해서, 블로그에 글쓰기 [42]</a>\n",
      "</li>\n",
      "<li class=\"course\">\n",
      "<a href=\"#\">(중급) - 자동으로 쿠팡파트너스 API 로 가져온 상품 정보, 네이버\n",
      "          블로그/트위터에 홍보하기 [412]</a>\n",
      "</li>\n"
     ]
    }
   ],
   "source": [
    "import requests\n",
    "from bs4 import BeautifulSoup\n",
    "\n",
    "res = requests.get(\"https://crawlingtest.netlify.app/\")\n",
    "soup = BeautifulSoup(res.content, \"html.parser\")\n",
    "\n",
    "items = soup.select(\"ul > li\")\n",
    "for item in items :\n",
    "    print(item)"
   ]
  },
  {
   "cell_type": "code",
   "execution_count": 15,
   "id": "e60846cb-d8a3-4a3d-9f9f-67074f1ec70f",
   "metadata": {},
   "outputs": [
    {
     "name": "stdout",
     "output_type": "stream",
     "text": [
      "\n",
      "(왕초보) - 클래스 소개\n",
      "\n",
      "\n",
      "(왕초보) - 블로그 개발 필요한 준비물 준비하기\n",
      "\n",
      "\n",
      "(왕초보) - Github pages 설정해서 블로그 첫 페이지 만들어보기\n",
      "\n",
      "\n",
      "(왕초보) - 초간단 페이지 만들어보기\n",
      "\n",
      "\n",
      "(왕초보) - 이쁘게 테마 적용해보기\n",
      "\n",
      "\n",
      "(왕초보) - 마크다운 기초 이해하고, 실제 나만의 블로그 페이지\n",
      "          만들기\n",
      "\n",
      "\n",
      "(왕초보) - 다양한 마크다운 기법 익혀보며, 나만의 블로그 페이지\n",
      "          꾸며보기\n",
      "\n",
      "\n",
      "(초급) - 강사가 실제 사용하는 자동 프로그램 소개 [2]\n",
      "\n",
      "\n",
      "(초급) - 필요한 프로그램 설치 시연 [5]\n",
      "\n",
      "\n",
      "(초급) - 데이터를 엑셀 파일로 만들기 [9]\n",
      "\n",
      "\n",
      "(초급) -     엑셀 파일 이쁘게! 이쁘게! [8]\n",
      "\n",
      "\n",
      "(초급) -     나대신 주기적으로 파이썬 프로그램\n",
      "          실행하기 [7]\n",
      "\n",
      "\n",
      "(초급) - 파이썬으로 슬랙(slack) 메신저에 글쓰기 [40]\n",
      "\n",
      "\n",
      "(초급) - 웹사이트 변경사항 주기적으로 체크해서, 메신저로 알람주기\n",
      "          [12]\n",
      "\n",
      "\n",
      "(초급) - 네이버 API 사용해서, 블로그에 글쓰기 [42]\n",
      "\n",
      "\n",
      "(중급) - 자동으로 쿠팡파트너스 API 로 가져온 상품 정보, 네이버\n",
      "          블로그/트위터에 홍보하기 [412]\n",
      "\n"
     ]
    }
   ],
   "source": [
    "import requests\n",
    "from bs4 import BeautifulSoup\n",
    "\n",
    "res = requests.get(\"https://crawlingtest.netlify.app/\")\n",
    "soup = BeautifulSoup(res.content, \"html.parser\")\n",
    "\n",
    "\n",
    "items = soup.select(\".course\")\n",
    "# 클래스를 선택자로서 찾아오기 때문에 .을 찍어야한다\n",
    "\n",
    "for item in items :\n",
    "    print(item.get_text())"
   ]
  },
  {
   "cell_type": "code",
   "execution_count": 18,
   "id": "08282881-7efc-4ca4-a89a-c55a9a8790a6",
   "metadata": {},
   "outputs": [
    {
     "data": {
      "text/plain": [
       "[<li class=\"course\">\n",
       " <a href=\"#\">(왕초보) - 클래스 소개</a>\n",
       " </li>,\n",
       " <li class=\"course\">\n",
       " <a href=\"#\">(왕초보) - 블로그 개발 필요한 준비물 준비하기</a>\n",
       " </li>,\n",
       " <li class=\"course\">\n",
       " <a href=\"#\">(왕초보) - Github pages 설정해서 블로그 첫 페이지 만들어보기</a>\n",
       " </li>,\n",
       " <li class=\"course\">\n",
       " <a href=\"#\">(왕초보) - 초간단 페이지 만들어보기</a>\n",
       " </li>,\n",
       " <li class=\"course\">\n",
       " <a href=\"#\">(왕초보) - 이쁘게 테마 적용해보기</a>\n",
       " </li>,\n",
       " <li class=\"course\">\n",
       " <a href=\"#\">(왕초보) - 마크다운 기초 이해하고, 실제 나만의 블로그 페이지\n",
       "           만들기</a>\n",
       " </li>,\n",
       " <li class=\"course\">\n",
       " <a href=\"#\">(왕초보) - 다양한 마크다운 기법 익혀보며, 나만의 블로그 페이지\n",
       "           꾸며보기</a>\n",
       " </li>]"
      ]
     },
     "execution_count": 18,
     "metadata": {},
     "output_type": "execute_result"
    }
   ],
   "source": [
    "import requests\n",
    "from bs4 import BeautifulSoup\n",
    "\n",
    "res = requests.get(\"https://crawlingtest.netlify.app/\")\n",
    "soup = BeautifulSoup(res.content, \"html.parser\")\n",
    "\n",
    "\n",
    "items = soup.select(\"#hobby_course_list > .course\")\n",
    "# 클래스를 선택자로서 찾아오기 때문에 .을 찍어야한다\n",
    "# 공백이 의미하는 것을 후손을 찾아오는 것\n",
    "# 붙이는 것도 오류가 아님 id도 cours인 경우\n",
    "\n",
    "items"
   ]
  },
  {
   "cell_type": "code",
   "execution_count": 25,
   "id": "f746d320-f8fe-4c60-ad53-6fc3c44cc38c",
   "metadata": {},
   "outputs": [
    {
     "data": {
      "text/plain": [
       "[<li class=\"course\" id=\"specialad\">\n",
       " <a href=\"#\">(왕초보) - 클래스 소개</a>\n",
       " </li>]"
      ]
     },
     "execution_count": 25,
     "metadata": {},
     "output_type": "execute_result"
    }
   ],
   "source": [
    "import requests\n",
    "from bs4 import BeautifulSoup\n",
    "\n",
    "res = requests.get(\"https://crawlingtest.netlify.app/\")\n",
    "soup = BeautifulSoup(res.content, \"html.parser\")\n",
    "\n",
    "# items = soup.select(\".course#specialad\")\n",
    "# items = soup.select(\".course.maintitle\")\n",
    "\n",
    "# items = soup.select(\"body #hobby_course_list > .course#specialad\")\n",
    "#items = soup.select(\"body #hobby_course_list > .course#specialad\")\n",
    "items = soup.select_one(\"#specialad\")\n",
    "#select에서는 띄어쓰기가 매우 중요하다\n",
    "#띄어쓰기를 하게 되면 course라는 클래스 안에 specialad라는 id값을 가져오라는 것인데, 문법에 안 맞는다.\n",
    "items\n"
   ]
  },
  {
   "cell_type": "code",
   "execution_count": 54,
   "id": "ce942a3d-a72e-40e1-8e10-010701f12aba",
   "metadata": {},
   "outputs": [
    {
     "name": "stdout",
     "output_type": "stream",
     "text": [
      " 일정 / 커리큘럼 타이틀 / 난이도\n",
      " 5.1 ~ 6.15 / 나만의 엣지있는 블로그 사이트 만들기 (취미로 익히는 IT) / 초급\n",
      " 6.16 ~ 7.31 / 파이썬과 데이터과학 첫걸음 (IT 기본기 익히기) / 중급\n"
     ]
    }
   ],
   "source": [
    "import requests\n",
    "from bs4 import BeautifulSoup\n",
    "\n",
    "res = requests.get(\"https://crawlingtest.netlify.app/\")\n",
    "soup = BeautifulSoup(res.content, \"html.parser\")\n",
    "\n",
    "trs = soup.select(\"tr\")\n",
    "\n",
    "# for tr in trs :\n",
    "#     tds = tr.select(\"td\")\n",
    "#     for td in tds :\n",
    "#         print(td.get_text())\n",
    "\n",
    "for tr in trs :\n",
    "    tds = tr.find_all(\"td\")\n",
    "    row_str = \"\" \n",
    "    for td in tds :\n",
    "        row_str += f\" / {td.get_text()}\"\n",
    "    print(row_str[2:])"
   ]
  },
  {
   "cell_type": "code",
   "execution_count": null,
   "id": "95ca46b8-520b-4dfc-8954-57619d198c0d",
   "metadata": {},
   "outputs": [],
   "source": []
  }
 ],
 "metadata": {
  "kernelspec": {
   "display_name": "Python 3 (ipykernel)",
   "language": "python",
   "name": "python3"
  },
  "language_info": {
   "codemirror_mode": {
    "name": "ipython",
    "version": 3
   },
   "file_extension": ".py",
   "mimetype": "text/x-python",
   "name": "python",
   "nbconvert_exporter": "python",
   "pygments_lexer": "ipython3",
   "version": "3.13.5"
  }
 },
 "nbformat": 4,
 "nbformat_minor": 5
}
