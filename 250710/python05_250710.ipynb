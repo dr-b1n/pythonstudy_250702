{
 "cells": [
  {
   "cell_type": "code",
   "execution_count": 1,
   "id": "56b50b13-b615-4041-ab49-3625b595ed46",
   "metadata": {},
   "outputs": [
    {
     "name": "stdout",
     "output_type": "stream",
     "text": [
      "Requirement already satisfied: openpyxl in c:\\users\\user\\anaconda3\\lib\\site-packages (3.1.5)\n",
      "Requirement already satisfied: et-xmlfile in c:\\users\\user\\anaconda3\\lib\\site-packages (from openpyxl) (1.1.0)\n"
     ]
    }
   ],
   "source": [
    "!pip install openpyxl"
   ]
  },
  {
   "cell_type": "code",
   "execution_count": 3,
   "id": "fafd05b6-de95-48ab-8b50-9019f906d68f",
   "metadata": {},
   "outputs": [
    {
     "ename": "NameError",
     "evalue": "name 'tmp' is not defined",
     "output_type": "error",
     "traceback": [
      "\u001b[1;31m---------------------------------------------------------------------------\u001b[0m",
      "\u001b[1;31mNameError\u001b[0m                                 Traceback (most recent call last)",
      "Cell \u001b[1;32mIn[3], line 14\u001b[0m\n\u001b[0;32m     11\u001b[0m excel_sheet\u001b[38;5;241m.\u001b[39mappend([\u001b[38;5;124m\"\u001b[39m\u001b[38;5;124mdata1, data2, data3\u001b[39m\u001b[38;5;124m\"\u001b[39m])\n\u001b[0;32m     13\u001b[0m \u001b[38;5;66;03m#엑셀 파일 저장하기\u001b[39;00m\n\u001b[1;32m---> 14\u001b[0m excel_file\u001b[38;5;241m.\u001b[39msave(tmp\u001b[38;5;241m.\u001b[39mxlsx)\n\u001b[0;32m     16\u001b[0m \u001b[38;5;66;03m#엑셀파일 종료하기\u001b[39;00m\n\u001b[0;32m     17\u001b[0m excel_file\u001b[38;5;241m.\u001b[39mclose()\n",
      "\u001b[1;31mNameError\u001b[0m: name 'tmp' is not defined"
     ]
    }
   ],
   "source": [
    "#openpyxl 라이브러리 찾아오기\n",
    "import openpyxl\n",
    "\n",
    "#Workbook() 프로토타입 객체를 실행시켜서 하나의 엑셀파일을 생성하겠다는 의미\n",
    "excel_file = openpyxl.Workbook()\n",
    "\n",
    "# 엑셀파일 내부에는 기본적으로 sheet가 1개 존재 = 해당 시트를 선택 (*active)\n",
    "excel_sheet = excel_file.active\n",
    "\n",
    "# 선택한 엑셀시트 내부에 데이터 추가 및 삽입하기\n",
    "excel_sheet.append([\"data1, data2, data3\"])\n",
    "\n",
    "#엑셀 파일 저장하기\n",
    "excel_file.save(tmp.xlsx)\n",
    "\n",
    "#엑셀파일 종료하기\n",
    "excel_file.close()"
   ]
  },
  {
   "cell_type": "code",
   "execution_count": 26,
   "id": "24aee812-d55c-4905-b5c5-14d01907b1f6",
   "metadata": {},
   "outputs": [],
   "source": [
    "#데이터 크롤링 파트\n",
    "\n",
    "import requests\n",
    "from bs4 import BeautifulSoup\n",
    "\n",
    "url = \"https://davelee-fun.github.io/\"\n",
    "product_lists = list()\n",
    "\n",
    "for page_num in range(10) :\n",
    "    if page_num == 0 :\n",
    "        res = requests.get(url)\n",
    "    else :\n",
    "        res = requests.get(f\"{url}page{page_num + 1}\")\n",
    "    soup = BeautifulSoup(res.content, \"html.parser\")\n",
    "    datas = soup.select(\"div.card\")\n",
    "\n",
    "    for data in datas :\n",
    "        product_name = data.select_one(\"div.card-body > h4.card-text\")\n",
    "        product_date = data.select_one(\"div.wrapfooter span.post-date\")\n",
    "        product_info = [product_name.get_text().strip(), product_date.get_text().strip()]\n",
    "        product_lists.append(product_info)"
   ]
  },
  {
   "cell_type": "code",
   "execution_count": 32,
   "id": "5d0fa0e8-b547-4bf6-8fef-3aeee148dcde",
   "metadata": {},
   "outputs": [],
   "source": [
    "# 2. 엑셀시트 저장용 함수 생성 파트\n",
    "\n",
    "import openpyxl\n",
    "\n",
    "def write_excel_templete(filename, sheetname, listdata) :\n",
    "    excel_file = openpyxl.Workbook() # 하나의 엑셀파일 생성, 인스턴스 객체\n",
    "    excel_sheet = excel_file.active\n",
    "    excel_sheet.column_dimensions[\"A\"].width = 100\n",
    "\n",
    "    if sheetname != \"\" :\n",
    "        excel_sheet.title = sheetname\n",
    "    \n",
    "    for item in listdata :\n",
    "        excel_sheet.append(item)\n",
    "    \n",
    "    excel_file.save(filename)\n",
    "    excel_file.close()"
   ]
  },
  {
   "cell_type": "code",
   "execution_count": 33,
   "id": "41331b70-5b0b-47cf-a8ff-aae0ccd4e815",
   "metadata": {},
   "outputs": [],
   "source": [
    "# 3. 엑셀시트 저장용 함수를 호출 파트\n",
    "\n",
    "write_excel_templete(\"tmp.xlsx\", \"상품정보\", product_lists)"
   ]
  }
 ],
 "metadata": {
  "kernelspec": {
   "display_name": "Python 3 (ipykernel)",
   "language": "python",
   "name": "python3"
  },
  "language_info": {
   "codemirror_mode": {
    "name": "ipython",
    "version": 3
   },
   "file_extension": ".py",
   "mimetype": "text/x-python",
   "name": "python",
   "nbconvert_exporter": "python",
   "pygments_lexer": "ipython3",
   "version": "3.13.5"
  }
 },
 "nbformat": 4,
 "nbformat_minor": 5
}
