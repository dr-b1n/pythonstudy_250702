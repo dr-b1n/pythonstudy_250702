{
 "cells": [
  {
   "cell_type": "markdown",
   "id": "aa870fda-01d2-4166-bd7e-daf9fb9a1c48",
   "metadata": {},
   "source": [
    "# 조건문\n",
    "```\n",
    "if 조건 :\n",
    "          실행문 실행\n",
    "\n",
    "if 조건1 and 조건2 :\n",
    "          실행문 실행\n",
    "\n",
    "if 조건1 or 조건2 :\n",
    "          실행문 실행\n",
    "\n",
    "if 조건1 not 조건2 :\n",
    "          실행문 실행\n",
    "```\n",
    "\n",
    "```\n",
    "\n",
    "if 조건 :\n",
    "        실행문\n",
    "else : \n",
    "        실행문\n",
    "```\n"
   ]
  },
  {
   "cell_type": "code",
   "execution_count": 8,
   "id": "d8dcc31c-2d3d-4b08-9ac5-8fe75a7d2ecf",
   "metadata": {},
   "outputs": [
    {
     "name": "stdin",
     "output_type": "stream",
     "text": [
      "당신의 나이는? 24\n"
     ]
    },
    {
     "name": "stdout",
     "output_type": "stream",
     "text": [
      "당신은 성인입니다\n",
      "축하드립니다\n",
      "이제부터 인생은 시작입니다\n",
      "무엇이든 할 수 있습니다!\n",
      "응원합니다\n"
     ]
    }
   ],
   "source": [
    "age = int(input(\"당신의 나이는?\"))\n",
    "\n",
    "if age >= 19 :\n",
    "    print(\"당신은 성인입니다\")\n",
    "    print(\"축하드립니다\")\n",
    "    print(\"이제부터 인생은 시작입니다\")\n",
    "    print(\"무엇이든 할 수 있습니다!\")\n",
    "    print(\"응원합니다\")"
   ]
  },
  {
   "cell_type": "code",
   "execution_count": 11,
   "id": "786cdac1-2249-4ce5-9395-f4c27b2d5b37",
   "metadata": {},
   "outputs": [
    {
     "name": "stdin",
     "output_type": "stream",
     "text": [
      "인성이의 나이는? 18\n",
      "지성이의 나이는? 18\n"
     ]
    }
   ],
   "source": [
    "age1 = int(input(\"인성이의 나이는?\"))\n",
    "age2 = int(input(\"지성이의 나이는?\"))\n",
    "\n",
    "if age1 >=19 and age2 >= 19 :\n",
    "    print(\"영화관 입장 가능!\")"
   ]
  },
  {
   "cell_type": "code",
   "execution_count": 12,
   "id": "3ac6b7c9-c350-48e7-9bf7-5916d7bb3662",
   "metadata": {},
   "outputs": [
    {
     "name": "stdin",
     "output_type": "stream",
     "text": [
      "인성이의 나이는? 18\n",
      "지성이의 나이는? 24\n"
     ]
    },
    {
     "name": "stdout",
     "output_type": "stream",
     "text": [
      "영화관 입장 가능!\n"
     ]
    }
   ],
   "source": [
    "age1 = int(input(\"인성이의 나이는?\"))\n",
    "age2 = int(input(\"지성이의 나이는?\"))\n",
    "\n",
    "if age1 >=19 or age2 >= 19 :\n",
    "    print(\"영화관 입장 가능!\")"
   ]
  },
  {
   "cell_type": "code",
   "execution_count": 15,
   "id": "75573199-0705-4b02-91f8-c8d32aba6a44",
   "metadata": {},
   "outputs": [
    {
     "name": "stdin",
     "output_type": "stream",
     "text": [
      "승원이의 나이는? 20\n"
     ]
    },
    {
     "name": "stdout",
     "output_type": "stream",
     "text": [
      "영화관 입장 가능\n"
     ]
    }
   ],
   "source": [
    "age3 = int(input(\"승원이의 나이는?\"))\n",
    "\n",
    "if not age3 <= 19 :\n",
    "    print(\"영화관 입장 가능\")"
   ]
  },
  {
   "cell_type": "code",
   "execution_count": 16,
   "id": "4e98decb-f193-4716-8ed2-cc4575b8d1f6",
   "metadata": {},
   "outputs": [
    {
     "name": "stdin",
     "output_type": "stream",
     "text": [
      "현재 가지고 있는 현금은 얼마인가요? 200000\n"
     ]
    },
    {
     "name": "stdout",
     "output_type": "stream",
     "text": [
      "오늘 저녁은 빕스로 갑시당~~~~!\n"
     ]
    }
   ],
   "source": [
    "cash = int(input(\"현재 가지고 있는 현금은 얼마인가요?\"))\n",
    "\n",
    "if cash > 100000 :\n",
    "    print(\"오늘 저녁은 빕스로 갑시당~~~~!\")\n",
    "else :\n",
    "    print(\"오늘 저녁은 집에서 먹자\")"
   ]
  },
  {
   "cell_type": "code",
   "execution_count": 17,
   "id": "e4892fda-fd51-4492-834a-b52372ff155b",
   "metadata": {},
   "outputs": [],
   "source": [
    "사용자로부터 나이를 입력받아서, 나이가 19세 이상이면 \"당신은 성인입니다\" 출력 19세 미만이라고 한다면 \"당신은 청소년입니다\" 출력"
   ]
  },
  {
   "cell_type": "code",
   "execution_count": 20,
   "id": "57f6ab1e-200b-4f3e-8d73-1458565c4224",
   "metadata": {},
   "outputs": [
    {
     "name": "stdin",
     "output_type": "stream",
     "text": [
      "당신의 나이는 몇 세이신가요? 27\n"
     ]
    },
    {
     "name": "stdout",
     "output_type": "stream",
     "text": [
      "당신은 성인입니다\n"
     ]
    }
   ],
   "source": [
    "age = int(input(\"당신의 나이는 몇 세이신가요?\"))\n",
    "\n",
    "if age >= 19 :\n",
    "    print(\"당신은 성인입니다\")\n",
    "else :\n",
    "    print(\"당신은 청소년입니다\")"
   ]
  },
  {
   "cell_type": "code",
   "execution_count": 19,
   "id": "ccef755a-5266-4081-ab2e-71e28c7d0847",
   "metadata": {},
   "outputs": [
    {
     "name": "stdin",
     "output_type": "stream",
     "text": [
      "당신의 나이는? 5\n"
     ]
    },
    {
     "name": "stdout",
     "output_type": "stream",
     "text": [
      "5\n"
     ]
    }
   ],
   "source": [
    "age = input (\"당신의 나이는?\")\n",
    "\n",
    "userAge = int(age)\n",
    "print(userAge)"
   ]
  },
  {
   "cell_type": "markdown",
   "id": "e23bea2b-ff56-48da-ab4b-fd7968618242",
   "metadata": {},
   "source": [
    "## else문 유의사항\n",
    "- 어떠한 조건문 안에서도 1회만 사용할 수 있음\n",
    "- else문은 조건문 중간에 절대 입력할 수 없음\n",
    "- else문은 독립적으로 조건식을 받을 수 없음\n",
    "- else문은 조건문 내 반드시 작성해야하는 필수값은 아님"
   ]
  },
  {
   "cell_type": "code",
   "execution_count": null,
   "id": "b4fa1c35-2bd2-4d6f-bb9e-69180220524b",
   "metadata": {},
   "outputs": [],
   "source": [
    "사용자로부터 나이를 입력 받아서, 나이가 19세 미만이면 \"당신은 성인입니다\" , 13세 이상 19세 이하이면 \"당신은 청소년 입니다\" ,\n",
    "13세 이하이면 당신은 아동입니다 출력"
   ]
  },
  {
   "cell_type": "code",
   "execution_count": 38,
   "id": "735d0579-8e7b-4fce-8dcb-bb935ea50d42",
   "metadata": {},
   "outputs": [
    {
     "name": "stdin",
     "output_type": "stream",
     "text": [
      "당신의 나이는? 25\n"
     ]
    },
    {
     "name": "stdout",
     "output_type": "stream",
     "text": [
      "당신은 성인입니다\n"
     ]
    }
   ],
   "source": [
    "age = int(input(\"당신의 나이는?\"))\n",
    "\n",
    "if age > 19 :\n",
    "    print (\"당신은 성인입니다\")\n",
    "elif age <= 13 and age < 19 :\n",
    "    print (\"당신은 청소년 입니다\")\n",
    "else :\n",
    "    print(\"당신은 아동입니다\")"
   ]
  },
  {
   "cell_type": "code",
   "execution_count": 49,
   "id": "659327c3-d2a3-493c-a968-c9eb6119e961",
   "metadata": {},
   "outputs": [
    {
     "name": "stdin",
     "output_type": "stream",
     "text": [
      "당신의 나이는? 6\n"
     ]
    }
   ],
   "source": [
    "age = int(input(\"당신의 나이는?\"))\n",
    "\n",
    "if age > 19 :\n",
    "    print (\"당신은 성인입니다\")\n",
    "elif age >= 13 and age < 19 :\n",
    "    print (\"당신은 청소년 입니다\")\n",
    "elif age >= 5 and age > 13 :\n",
    "    print(\"당신은 아동입니다\")"
   ]
  },
  {
   "cell_type": "code",
   "execution_count": null,
   "id": "7d9d612e-e5af-4f17-ab6d-d032ab21a81b",
   "metadata": {},
   "outputs": [],
   "source": [
    "사용자로부터 현재 현금이 얼마 있는지 확인 후 10만원 이상이라면 레스토랑으로 갑시다 문장 출력, \n",
    "그렇지 않고 만약 5만원 이상이라면 뷔페로 갑시다 라고 출력 5만원 이하라면 집으로 가세요 라고 출력"
   ]
  },
  {
   "cell_type": "code",
   "execution_count": 58,
   "id": "1213153e-0d42-47be-95bb-7bfae658c7ee",
   "metadata": {},
   "outputs": [
    {
     "name": "stdin",
     "output_type": "stream",
     "text": [
      "현재 현금이 얼마 있나요? 30\n"
     ]
    },
    {
     "name": "stdout",
     "output_type": "stream",
     "text": [
      "집으로 가세용!\n"
     ]
    }
   ],
   "source": [
    "cash = int(input(\"현재 현금이 얼마 있나요?\"))\n",
    "\n",
    "if cash >= 100000 :\n",
    "    print(\"레스토랑으로 갑시다~~!\")\n",
    "elif cash >= 50000 :\n",
    "    print(\"뷔페로 갑시다~~~~!\")\n",
    "elif cash <= 50000 :\n",
    "    print(\"집으로 가세용!\")"
   ]
  },
  {
   "cell_type": "code",
   "execution_count": 61,
   "id": "ba9e406c-5248-4dac-ab07-e75ee48479b5",
   "metadata": {},
   "outputs": [
    {
     "name": "stdin",
     "output_type": "stream",
     "text": [
      "당신의 현금은? 20\n"
     ]
    },
    {
     "name": "stdout",
     "output_type": "stream",
     "text": [
      "집으로 가세요!\n"
     ]
    }
   ],
   "source": [
    "## 정답\n",
    "cash1 = int(input(\"당신의 현금은?\"))\n",
    "\n",
    "if cash >= 100000 :\n",
    "    print(\"레스토랑으로 갑시다\")\n",
    "else :\n",
    "    if cash >= 50000 :\n",
    "        print(\"뷔페로 갑시다\")\n",
    "    else :\n",
    "        print(\"집으로 가세요!\")"
   ]
  },
  {
   "cell_type": "code",
   "execution_count": null,
   "id": "dd9fba9a-06b8-4c9e-9b1c-4210fc9d3839",
   "metadata": {},
   "outputs": [],
   "source": [
    "사용자로부터 얼마의 현금이 있는지 확인 후 10만원 초과인 경우, 레스토랑 출력,\n",
    "그렇지 않고 5만원 미만인 경우 집 출력,\n",
    "7만원 초과인 경우 패밀리 레스토랑 출력\n",
    "6만원 초과인 경우 한식집 출력\n",
    "그렇지 않으면 분식집 출력"
   ]
  },
  {
   "cell_type": "code",
   "execution_count": 77,
   "id": "a04c3a5e-8b9f-42b6-92db-ee2d77838949",
   "metadata": {},
   "outputs": [
    {
     "name": "stdin",
     "output_type": "stream",
     "text": [
      "당신 현금 얼마 있나요? 456\n"
     ]
    },
    {
     "name": "stdout",
     "output_type": "stream",
     "text": [
      "레스토랑으로 갑시당\n"
     ]
    }
   ],
   "source": [
    "cash2 = int(input(\"당신 현금 얼마 있나요?\"))\n",
    "\n",
    "if cash < 100000 :\n",
    "    print(\"레스토랑으로 갑시당\")\n",
    "\n",
    "else :\n",
    "    if cash > 50000 :\n",
    "        print(\"집으로 갑시당\")\n",
    "    elif cash < 70000 :\n",
    "        print(\"패밀리 레스토랑으로 갑시당\")\n",
    "    elif cash < 60000 :\n",
    "        print(\"한식집으로 갑시다\")\n",
    "    else :\n",
    "        print(\"분식집 가용\")"
   ]
  },
  {
   "cell_type": "code",
   "execution_count": 81,
   "id": "84abf245-f913-4e17-a35f-6128dbb147b4",
   "metadata": {},
   "outputs": [
    {
     "ename": "SyntaxError",
     "evalue": "invalid syntax (3879676698.py, line 12)",
     "output_type": "error",
     "traceback": [
      "\u001b[1;36m  Cell \u001b[1;32mIn[81], line 12\u001b[1;36m\u001b[0m\n\u001b[1;33m    else :\u001b[0m\n\u001b[1;37m    ^\u001b[0m\n\u001b[1;31mSyntaxError\u001b[0m\u001b[1;31m:\u001b[0m invalid syntax\n"
     ]
    }
   ],
   "source": [
    "# 정답\n",
    "cash = int(input(\"당신의 현금은?\"))\n",
    "\n",
    "if cash > 100000 :\n",
    "    print(\"레스토랑\")\n",
    "else :\n",
    "    if cash > 50000 :\n",
    "        if cash > 70000 :\n",
    "            print (\"패밀리 레스토랑\")\n",
    "        elif cash > 60000 :\n",
    "            print(\"한식집\")\n",
    "            else :\n",
    "                print(\"분식집\")\n",
    "        else :\n",
    "            print(\"집\")"
   ]
  },
  {
   "cell_type": "code",
   "execution_count": 93,
   "id": "e5572f60-e6ef-4cbb-af0e-4568e6468209",
   "metadata": {},
   "outputs": [
    {
     "name": "stdin",
     "output_type": "stream",
     "text": [
      "아무숫자 입력해주세요 4\n"
     ]
    },
    {
     "name": "stdout",
     "output_type": "stream",
     "text": [
      "짝수입니다\n"
     ]
    }
   ],
   "source": [
    "#사용자로부터 특정 숫자를 입력 받은 후 해당 숫자가 홀수인지 짝수인지 분별해서 출력해주세요\n",
    "\n",
    "num = int(input(\"아무숫자 입력해주세요\"))\n",
    "\n",
    "# 만약에 2로 나누고 나머지가 0으로 떨어진다면\n",
    "if num % 2 == 0 :\n",
    "    print(\"짝수입니다\")\n",
    "else :\n",
    "    print(\"홀수입니다\")"
   ]
  },
  {
   "cell_type": "code",
   "execution_count": 94,
   "id": "64d10338-5523-496e-9b2b-357ac2b5b34f",
   "metadata": {},
   "outputs": [
    {
     "name": "stdin",
     "output_type": "stream",
     "text": [
      "아무 숫자 입력해주세요 5\n",
      "아무 숫자 입력해주세요 6\n",
      "아무 숫자 입력해주세요 3\n"
     ]
    },
    {
     "name": "stdout",
     "output_type": "stream",
     "text": [
      "3\n"
     ]
    }
   ],
   "source": [
    "# 사용자로부터 3개의 숫자를 입력 받은 후 가장 작은 숫자 하나를 출력해주세요\n",
    "\n",
    "num1 = int(input(\"아무 숫자 입력해주세요\"))\n",
    "num2 = int(input(\"아무 숫자 입력해주세요\"))\n",
    "num3 = int(input(\"아무 숫자 입력해주세요\"))\n",
    "\n",
    "if num1<= num2 and num1 <= num3 :\n",
    "    print(num1)\n",
    "elif num2 <= num1 and num2 <= num3 :\n",
    "    print(num2)\n",
    "elif num3 <= num1 and num3 <= num2 :\n",
    "    print(num3)"
   ]
  },
  {
   "cell_type": "code",
   "execution_count": 95,
   "id": "2d691724-cd20-4ded-9215-d9cc62f22e81",
   "metadata": {},
   "outputs": [
    {
     "name": "stdin",
     "output_type": "stream",
     "text": [
      "아무 숫자 입력해주세요 10\n",
      "아무 숫자 입력해주세요 9\n",
      "아무 숫자 입력해주세요 8\n"
     ]
    },
    {
     "data": {
      "text/plain": [
       "8"
      ]
     },
     "execution_count": 95,
     "metadata": {},
     "output_type": "execute_result"
    }
   ],
   "source": [
    "num1 = int(input(\"아무 숫자 입력해주세요\"))\n",
    "num2 = int(input(\"아무 숫자 입력해주세요\"))\n",
    "num3 = int(input(\"아무 숫자 입력해주세요\"))\n",
    "\n",
    "min(num1, num2, num3)"
   ]
  },
  {
   "cell_type": "code",
   "execution_count": 97,
   "id": "df417bd1-9ed8-4264-9c86-68d709e7d685",
   "metadata": {},
   "outputs": [
    {
     "name": "stdin",
     "output_type": "stream",
     "text": [
      " 6\n",
      " 7\n",
      " 8\n"
     ]
    },
    {
     "data": {
      "text/plain": [
       "6"
      ]
     },
     "execution_count": 97,
     "metadata": {},
     "output_type": "execute_result"
    }
   ],
   "source": [
    "nums = [int(input()) for _ in range(3)]\n",
    "min(nums)"
   ]
  }
 ],
 "metadata": {
  "kernelspec": {
   "display_name": "Python 3 (ipykernel)",
   "language": "python",
   "name": "python3"
  },
  "language_info": {
   "codemirror_mode": {
    "name": "ipython",
    "version": 3
   },
   "file_extension": ".py",
   "mimetype": "text/x-python",
   "name": "python",
   "nbconvert_exporter": "python",
   "pygments_lexer": "ipython3",
   "version": "3.13.5"
  }
 },
 "nbformat": 4,
 "nbformat_minor": 5
}
