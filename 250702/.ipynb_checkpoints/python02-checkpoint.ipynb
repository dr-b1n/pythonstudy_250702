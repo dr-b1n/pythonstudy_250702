{
 "cells": [
  {
   "cell_type": "code",
   "execution_count": null,
   "id": "e4907e17-4aa3-4573-8162-e038bd34a2a1",
   "metadata": {},
   "outputs": [],
   "source": []
  },
  {
   "cell_type": "code",
   "execution_count": 2,
   "id": "dcf6ff1e-d1c1-4037-895d-86eb80633729",
   "metadata": {},
   "outputs": [
    {
     "name": "stdin",
     "output_type": "stream",
     "text": [
      " 5\n",
      " 6\n"
     ]
    },
    {
     "name": "stdout",
     "output_type": "stream",
     "text": [
      "합계 : 11\n"
     ]
    }
   ],
   "source": [
    "num1 = int(input())\n",
    "num2 = int(input())\n",
    "\n",
    "print(\"합계 :\", num1 + num2)"
   ]
  },
  {
   "cell_type": "markdown",
   "id": "6f7d208b-76d6-4695-8b4f-40c8578d33a7",
   "metadata": {},
   "source": [
    "# 사용자로부터 두 개의 숫자를 입력받은 후 곱한 값, 나눈 값, 나머지값을 각각 출력하는 프로그램을 작성해보세요"
   ]
  },
  {
   "cell_type": "code",
   "execution_count": 4,
   "id": "f73ce1da-075b-4361-8736-047c3e086050",
   "metadata": {},
   "outputs": [
    {
     "name": "stdin",
     "output_type": "stream",
     "text": [
      "첫 번째 숫자를 입력하세요 1\n",
      "두 번째 숫자를 입력하세요 5\n"
     ]
    },
    {
     "name": "stdout",
     "output_type": "stream",
     "text": [
      "곱한 값 1 5\n",
      "나눈 값 : 5.0\n",
      "1 // 5 = 0\n",
      "나머지값 : 1 % 5 = 1\n"
     ]
    }
   ],
   "source": [
    "num1 = int(input(\"첫 번째 숫자를 입력하세요\"))\n",
    "num2 = int(input(\"두 번째 숫자를 입력하세요\"))\n",
    "\n",
    "print(\"곱한 값 1\", num1 * num2)\n",
    "print(f\"나눈 값 : {num2 / num1}\")\n",
    "print(num1, \"//\", num2, \"=\" , num1//num2)\n",
    "print(f\"나머지값 : {num1} % {num2} = {num1 % num2}\")"
   ]
  },
  {
   "cell_type": "markdown",
   "id": "8e72e487-6121-47c3-a988-047773eb4887",
   "metadata": {},
   "source": [
    "## 리스트 자료구조 생성하는 방법\n",
    "변수 선언과 함께 직접 대괄호 입력 후 내부에 요소들을 입력하는 방법 \n"
   ]
  },
  {
   "cell_type": "code",
   "execution_count": 11,
   "id": "d537a854-dce9-406f-84dd-60d80dafb86e",
   "metadata": {},
   "outputs": [],
   "source": [
    "mydata = [\"hello\", 1, 2, \"world\"]\n",
    "news = [\"오마이뉴스\", \"한국일보\", \"시사인\", \"뉴시스\", \"KBSNEWS\", \"스포츠조선\"]"
   ]
  },
  {
   "cell_type": "code",
   "execution_count": 10,
   "id": "59f8eaa7-2051-46c1-9e2b-d2d8d9603ba0",
   "metadata": {},
   "outputs": [
    {
     "name": "stdout",
     "output_type": "stream",
     "text": [
      "서울시\n",
      "경기도\n",
      "인천시\n",
      "['서울시', '경기도', '인천시']\n",
      "<class 'list'>\n"
     ]
    }
   ],
   "source": [
    "location = [\"서울시\", \"경기도\", \"인천시\"]\n",
    "\n",
    "print(location[0])\n",
    "print(location[1])\n",
    "print(location[2])\n",
    "print(location)\n",
    "print(type(location))"
   ]
  },
  {
   "cell_type": "code",
   "execution_count": 14,
   "id": "d2cbd027-ed1f-43e5-8754-98c4c4932cb9",
   "metadata": {},
   "outputs": [],
   "source": [
    "location.append(\"부산시\")\n",
    "\n",
    "print(location)\n",
    "# location"
   ]
  },
  {
   "cell_type": "code",
   "execution_count": 15,
   "id": "09e5af1d-d33f-4ffd-845d-c9f058bea37f",
   "metadata": {},
   "outputs": [],
   "source": [
    "location.append(\"완도군\") # append 함수는 값을 하나 밖에 못 넣는다"
   ]
  },
  {
   "cell_type": "code",
   "execution_count": 16,
   "id": "b176cb21-09eb-4cfb-a998-b104f9eca6c6",
   "metadata": {},
   "outputs": [
    {
     "data": {
      "text/plain": [
       "['서울시', '경기도', '인천시', '부산시', '부산시', '완도군']"
      ]
     },
     "execution_count": 16,
     "metadata": {},
     "output_type": "execute_result"
    }
   ],
   "source": [
    "location"
   ]
  },
  {
   "cell_type": "code",
   "execution_count": 17,
   "id": "59db8ccd-ab8c-4fed-839e-61d7efb41380",
   "metadata": {},
   "outputs": [
    {
     "data": {
      "text/plain": [
       "'부산시'"
      ]
     },
     "execution_count": 17,
     "metadata": {},
     "output_type": "execute_result"
    }
   ],
   "source": [
    "location[-2]"
   ]
  },
  {
   "cell_type": "code",
   "execution_count": 18,
   "id": "a0dd73a5-5f0e-4144-8f85-90403f9b33e7",
   "metadata": {},
   "outputs": [
    {
     "data": {
      "text/plain": [
       "['경기도', '인천시']"
      ]
     },
     "execution_count": 18,
     "metadata": {},
     "output_type": "execute_result"
    }
   ],
   "source": [
    "location[1:3]"
   ]
  },
  {
   "cell_type": "code",
   "execution_count": null,
   "id": "0ff5a2f3-91df-4ace-9565-c05a6ad04f98",
   "metadata": {},
   "outputs": [],
   "source": [
    "location.remove(\"부산시\")"
   ]
  },
  {
   "cell_type": "code",
   "execution_count": 19,
   "id": "078e6f0f-f110-4160-ab28-8ff95b7c25ed",
   "metadata": {},
   "outputs": [
    {
     "data": {
      "text/plain": [
       "['서울시', '경기도', '인천시', '부산시', '부산시', '완도군']"
      ]
     },
     "execution_count": 19,
     "metadata": {},
     "output_type": "execute_result"
    }
   ],
   "source": [
    "location"
   ]
  },
  {
   "cell_type": "code",
   "execution_count": 25,
   "id": "83313ab5-e4e4-4cba-aef9-1dc590b5c865",
   "metadata": {},
   "outputs": [],
   "source": [
    "location.remove(\"완도군\")"
   ]
  },
  {
   "cell_type": "code",
   "execution_count": 26,
   "id": "07c0b33c-a9a0-457a-bcf7-4c10b5b434e7",
   "metadata": {},
   "outputs": [
    {
     "data": {
      "text/plain": [
       "['서울시', '경기도', '인천시', '부산시', '부산시']"
      ]
     },
     "execution_count": 26,
     "metadata": {},
     "output_type": "execute_result"
    }
   ],
   "source": [
    "location"
   ]
  },
  {
   "cell_type": "code",
   "execution_count": 35,
   "id": "25e0fc68-0a6f-4d54-8d38-bbf77895ca7e",
   "metadata": {},
   "outputs": [],
   "source": [
    "del location[3]"
   ]
  },
  {
   "cell_type": "code",
   "execution_count": 34,
   "id": "bb0a808b-290a-4828-a517-9333dbab4709",
   "metadata": {},
   "outputs": [
    {
     "data": {
      "text/plain": [
       "['서울시', '경기도', '인천시', '부산시', '부산시']"
      ]
     },
     "execution_count": 34,
     "metadata": {},
     "output_type": "execute_result"
    }
   ],
   "source": [
    "location"
   ]
  },
  {
   "cell_type": "code",
   "execution_count": 45,
   "id": "13a2e6e4-eba3-4686-8e34-93fbbe2ac827",
   "metadata": {},
   "outputs": [],
   "source": [
    "location.extend([\"천안\", \"대구\"])"
   ]
  },
  {
   "cell_type": "code",
   "execution_count": 46,
   "id": "86b964d6-fb0c-4fd9-9293-21eb96f2def8",
   "metadata": {},
   "outputs": [
    {
     "data": {
      "text/plain": [
       "['서울시', '경기도', '인천시', '부산시', '천안', '대구']"
      ]
     },
     "execution_count": 46,
     "metadata": {},
     "output_type": "execute_result"
    }
   ],
   "source": [
    "location"
   ]
  },
  {
   "cell_type": "code",
   "execution_count": 48,
   "id": "def0fcff-313b-4615-b92d-9b2a04e855b7",
   "metadata": {},
   "outputs": [],
   "source": [
    "location.insert(0, \"제주도\")"
   ]
  },
  {
   "cell_type": "code",
   "execution_count": 49,
   "id": "32282ba9-785b-44f8-87e0-dc8d4c0172f1",
   "metadata": {},
   "outputs": [
    {
     "data": {
      "text/plain": [
       "['제주도', '서울시', '경기도', '인천시', '부산시', '천안', '대구']"
      ]
     },
     "execution_count": 49,
     "metadata": {},
     "output_type": "execute_result"
    }
   ],
   "source": [
    "location"
   ]
  },
  {
   "cell_type": "code",
   "execution_count": 50,
   "id": "dfd9c307-4cdc-451c-9651-90ad22cd8f76",
   "metadata": {},
   "outputs": [
    {
     "data": {
      "text/plain": [
       "list"
      ]
     },
     "execution_count": 50,
     "metadata": {},
     "output_type": "execute_result"
    }
   ],
   "source": [
    "location01 = []\n",
    "\n",
    "type(location01)"
   ]
  },
  {
   "cell_type": "code",
   "execution_count": 52,
   "id": "c3d2558d-d6a8-4d77-a09c-9aa0319924e9",
   "metadata": {},
   "outputs": [],
   "source": [
    "location01.append(\"강원도\")"
   ]
  },
  {
   "cell_type": "code",
   "execution_count": 55,
   "id": "43ca245d-100f-41d5-8bac-a06711f5df23",
   "metadata": {},
   "outputs": [
    {
     "data": {
      "text/plain": [
       "['강원도', '강원도']"
      ]
     },
     "execution_count": 55,
     "metadata": {},
     "output_type": "execute_result"
    }
   ],
   "source": [
    "location01"
   ]
  },
  {
   "cell_type": "code",
   "execution_count": 56,
   "id": "27108381-55e1-4470-912a-c5513eec7268",
   "metadata": {},
   "outputs": [],
   "source": [
    "del location01[1]"
   ]
  },
  {
   "cell_type": "code",
   "execution_count": 57,
   "id": "ff00e169-061b-4fe1-9257-9c30f2c50aa6",
   "metadata": {},
   "outputs": [
    {
     "data": {
      "text/plain": [
       "['강원도']"
      ]
     },
     "execution_count": 57,
     "metadata": {},
     "output_type": "execute_result"
    }
   ],
   "source": [
    "location01"
   ]
  },
  {
   "cell_type": "code",
   "execution_count": 58,
   "id": "40c5ef37-d05a-492c-89fa-3d96aacc728f",
   "metadata": {},
   "outputs": [
    {
     "name": "stdout",
     "output_type": "stream",
     "text": [
      "<class 'list'>\n"
     ]
    }
   ],
   "source": [
    "location02 = list()\n",
    "\n",
    "print(type(location02))"
   ]
  },
  {
   "cell_type": "code",
   "execution_count": 61,
   "id": "f7f1f50f-5891-4bf0-bb4c-2b7f4d4caec8",
   "metadata": {},
   "outputs": [
    {
     "name": "stdout",
     "output_type": "stream",
     "text": [
      "[2, 1, 4, 3]\n",
      "[1, 2, 3, 4]\n",
      "[4, 3, 2, 1]\n"
     ]
    }
   ],
   "source": [
    "numbers = [2, 1, 4, 3]\n",
    "print(numbers)\n",
    "\n",
    "numbers.sort()\n",
    "print(numbers)\n",
    "\n",
    "numbers.reverse()\n",
    "print(numbers)"
   ]
  },
  {
   "cell_type": "code",
   "execution_count": 64,
   "id": "89a183b2-e12e-44ea-8a60-7042e69d38e4",
   "metadata": {},
   "outputs": [
    {
     "data": {
      "text/plain": [
       "'python'"
      ]
     },
     "execution_count": 64,
     "metadata": {},
     "output_type": "execute_result"
    }
   ],
   "source": [
    "pythonBasic = \"python is easy\"\n",
    "pylist = pythonBasic.split()\n",
    "pylist[0]"
   ]
  }
 ],
 "metadata": {
  "kernelspec": {
   "display_name": "Python 3 (ipykernel)",
   "language": "python",
   "name": "python3"
  },
  "language_info": {
   "codemirror_mode": {
    "name": "ipython",
    "version": 3
   },
   "file_extension": ".py",
   "mimetype": "text/x-python",
   "name": "python",
   "nbconvert_exporter": "python",
   "pygments_lexer": "ipython3",
   "version": "3.13.5"
  }
 },
 "nbformat": 4,
 "nbformat_minor": 5
}
