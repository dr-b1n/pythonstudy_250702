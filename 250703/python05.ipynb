{
 "cells": [
  {
   "cell_type": "markdown",
   "id": "280438f5-b026-4368-b003-67f1c25887e8",
   "metadata": {},
   "source": [
    "- 구구단을 2단부터 9단까지 다음과 같이 출력해주세요 // 사용자에게 값을 받지 않는다\n",
    "  ```\n",
    "  2 x 1 = 2\n",
    "  2 x 2 = 4\n",
    "  ...\n",
    "  2 x 9 = 18\n",
    "  3 x 1 = 3\n",
    "  3 x 2 = 6\n",
    "  ...\n",
    "  9 x 9 = 81\n",
    "  ```"
   ]
  },
  {
   "cell_type": "code",
   "execution_count": 9,
   "id": "34abb8b4-6bfa-4036-aa80-c0eaf6597ecb",
   "metadata": {},
   "outputs": [
    {
     "ename": "IndentationError",
     "evalue": "expected an indented block after 'for' statement on line 6 (2655621445.py, line 7)",
     "output_type": "error",
     "traceback": [
      "\u001b[1;36m  Cell \u001b[1;32mIn[9], line 7\u001b[1;36m\u001b[0m\n\u001b[1;33m    print(f\"{multi} * {multi2} = {multi * multi2}\")\u001b[0m\n\u001b[1;37m    ^\u001b[0m\n\u001b[1;31mIndentationError\u001b[0m\u001b[1;31m:\u001b[0m expected an indented block after 'for' statement on line 6\n"
     ]
    }
   ],
   "source": [
    "# for문으로 반복해서 돌리기?\n",
    "\n",
    "\n",
    "\n",
    "for multi in range (2,10) :\n",
    "    for multi2 in range (2,10) :\n",
    "    print(f\"{multi} * {multi2} = {multi * multi2}\")"
   ]
  },
  {
   "cell_type": "code",
   "execution_count": null,
   "id": "16786aad-58a5-4e26-ab52-acd9146da4bf",
   "metadata": {},
   "outputs": [],
   "source": []
  }
 ],
 "metadata": {
  "kernelspec": {
   "display_name": "Python 3 (ipykernel)",
   "language": "python",
   "name": "python3"
  },
  "language_info": {
   "codemirror_mode": {
    "name": "ipython",
    "version": 3
   },
   "file_extension": ".py",
   "mimetype": "text/x-python",
   "name": "python",
   "nbconvert_exporter": "python",
   "pygments_lexer": "ipython3",
   "version": "3.13.5"
  }
 },
 "nbformat": 4,
 "nbformat_minor": 5
}
