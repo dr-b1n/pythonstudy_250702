{
 "cells": [
  {
   "cell_type": "code",
   "execution_count": null,
   "id": "b36bc892-1e44-4885-9224-a04299c6dd3f",
   "metadata": {},
   "outputs": [],
   "source": [
    "사용자로부터 정수를 입력받은 후 등급을 출력하세요\n",
    "- [A : 100~81, B: 80~61, C: 60~0]"
   ]
  },
  {
   "cell_type": "code",
   "execution_count": 5,
   "id": "a230f96e-841b-481e-8008-87ece2e6877a",
   "metadata": {},
   "outputs": [
    {
     "name": "stdin",
     "output_type": "stream",
     "text": [
      "점수를 입력해주세요 56\n"
     ]
    },
    {
     "name": "stdout",
     "output_type": "stream",
     "text": [
      "당신은 C등급입니다\n"
     ]
    }
   ],
   "source": [
    "score = int(input(\"점수를 입력해주세요\"))\n",
    "\n",
    "if score >= 81  :\n",
    "    print(\"당신은 A등급입니다\")\n",
    "elif score >= 61 :\n",
    "    print(\"당신은 B등급입니다\")\n",
    "else :\n",
    "    print(\"당신은 C등급입니다\")"
   ]
  },
  {
   "cell_type": "code",
   "execution_count": null,
   "id": "5a843fa1-536c-4061-9179-2e98fa5c2d57",
   "metadata": {},
   "outputs": [],
   "source": [
    "# 정답\n",
    "\n",
    "data = int(input(\"사용자의 점수\"))\n",
    "\n",
    "if data >= 81 and data <= 100 :\n",
    "    print(\"A\")\n",
    "elif data >= 61 and data <= 80 :\n",
    "    print(\"B\")\n",
    "elif data >= 0 and data <= 60 :\n",
    "    print(\"C\")    "
   ]
  },
  {
   "cell_type": "code",
   "execution_count": null,
   "id": "31fdd446-9b8f-46df-b4ff-d9c6699e41da",
   "metadata": {},
   "outputs": [],
   "source": [
    "- 사용자로부터 주민등록번호를 입력받아서 출생연도만 확인 후 출력해주세요\n",
    "예) 800000 - 1234567 => 80년생입니다!!"
   ]
  },
  {
   "cell_type": "code",
   "execution_count": 8,
   "id": "91f1d9f7-80a3-4197-af55-546694741901",
   "metadata": {},
   "outputs": [
    {
     "name": "stdin",
     "output_type": "stream",
     "text": [
      "주민등록번호 입력 980507\n"
     ]
    },
    {
     "name": "stdout",
     "output_type": "stream",
     "text": [
      "98 년생\n"
     ]
    }
   ],
   "source": [
    "data = input(\"주민등록번호 입력\")\n",
    "age = data[0:2]\n",
    "print(age, \"년생\")"
   ]
  },
  {
   "cell_type": "code",
   "execution_count": 15,
   "id": "a3d9430b-0622-4dcf-8bbe-fead5fa3591b",
   "metadata": {},
   "outputs": [
    {
     "name": "stdin",
     "output_type": "stream",
     "text": [
      "주민등록번호 입력 800000 - 1234567\n"
     ]
    },
    {
     "name": "stdout",
     "output_type": "stream",
     "text": [
      "80년생\n"
     ]
    }
   ],
   "source": [
    "data = input(\"주민등록번호 입력\")\n",
    "# age = data.split(\"-\")\n",
    "#age01 = age[7]\n",
    "#print(age01[0:2])\n",
    "print(f\"{data.split(\"-\")[0][0:2]}년생\")"
   ]
  },
  {
   "cell_type": "code",
   "execution_count": null,
   "id": "e5716dd6-b60f-4662-9e9b-a268ff2278c3",
   "metadata": {},
   "outputs": [],
   "source": [
    "- 사용자로부터 주민등록번호를 입력받아서 성별을 \"남성\" 또는 \"여성\"으로 출력해주세요\n",
    "- 주민등록번호 뒷자리 첫번째 숫자가 \"1\" => 남성\n",
    "- 주민등록번호 뒷자리 두번째 숫자가 \"2\" => 여성\n",
    "\n",
    "내가 하고 싶은 것 \n",
    "데이터를 받아서 split()으로 대쉬 구분을 한 후\n",
    "인덱스 [-5:8]의 값이 1, 2인지 "
   ]
  },
  {
   "cell_type": "code",
   "execution_count": 23,
   "id": "8891b708-c5a5-4088-8eb6-fa8b2d08aab6",
   "metadata": {},
   "outputs": [
    {
     "name": "stdin",
     "output_type": "stream",
     "text": [
      "주민등록번호를 입력해주세요  800000 - 1234567\n"
     ]
    },
    {
     "name": "stdout",
     "output_type": "stream",
     "text": [
      "당신은 여성입니다\n"
     ]
    }
   ],
   "source": [
    "data = input(\"주민등록번호를 입력해주세요\")\n",
    "\n",
    "g = data.split(\"-\")\n",
    "gen = g[-1][5:7]\n",
    "\n",
    "if gen == \"1\" :\n",
    "    print(\"당신은 남성입니다\")\n",
    "else :\n",
    "    print (\"당신은 여성입니다\")"
   ]
  },
  {
   "cell_type": "code",
   "execution_count": 25,
   "id": "10b43141-be09-4415-a885-be4d1a739faa",
   "metadata": {},
   "outputs": [
    {
     "name": "stdin",
     "output_type": "stream",
     "text": [
      "주민등록번호입력  800000-1234567\n"
     ]
    },
    {
     "name": "stdout",
     "output_type": "stream",
     "text": [
      "남성입니다\n"
     ]
    }
   ],
   "source": [
    "data = input(\"주민등록번호입력\")\n",
    "\n",
    "gender = data.split(\"-\")[1][0]\n",
    "\n",
    "if gender == \"1\" :\n",
    "    print(\"남성입니다\")\n",
    "else :\n",
    "    print(\"여성입니다\")"
   ]
  },
  {
   "cell_type": "code",
   "execution_count": 16,
   "id": "428dd8a8-42c0-4ac3-99e6-7032c736a27d",
   "metadata": {},
   "outputs": [
    {
     "data": {
      "text/plain": [
       "'a man goes into the room'"
      ]
     },
     "execution_count": 16,
     "metadata": {},
     "output_type": "execute_result"
    }
   ],
   "source": [
    "mystr = \"a man goes into the room...\"\n",
    "\n",
    "result = mystr.strip(\".\")\n",
    "result"
   ]
  },
  {
   "cell_type": "code",
   "execution_count": 27,
   "id": "b3926c50-24be-4d08-8517-cf7ad7bedb96",
   "metadata": {},
   "outputs": [
    {
     "data": {
      "text/plain": [
       "'000770'"
      ]
     },
     "execution_count": 27,
     "metadata": {},
     "output_type": "execute_result"
    }
   ],
   "source": [
    "code = \"000770\\n\"\n",
    "code.strip()\n",
    "\n",
    "# strip(): 문자열 앞,뒤 상관없이 공백이라고 판단되는 문자열(*공백, 개행, 탭 등)을 모두 제거하는 역할을 해주는 메서드 함수\n",
    "# \\n : 줄바꾸기\n",
    "# \\t : tab, 들여쓰기의 약자"
   ]
  },
  {
   "cell_type": "code",
   "execution_count": 32,
   "id": "f49e1c5d-debe-4f57-8314-4fdd9481d2ff",
   "metadata": {},
   "outputs": [
    {
     "name": "stdout",
     "output_type": "stream",
     "text": [
      "3\n",
      "0\n"
     ]
    }
   ],
   "source": [
    "python_desc = \"Installing Python is generally easy, and nowadays many Linux and UNIX distributions include a recent Python. Even some Windows computers (notably those from HP) now come with Python already installed.\"\n",
    "print(python_desc.count(\"Python\"))\n",
    "print(python_desc.count(\"python\"))"
   ]
  },
  {
   "cell_type": "code",
   "execution_count": null,
   "id": "c1221a0f-85bf-4e02-8859-83253b3829c8",
   "metadata": {},
   "outputs": [],
   "source": [
    "- 사용자로부터 note라는 문자열을 받았다고 가정하세요. \n",
    "그리고, 해당 문자열 안에 알파벳 n이 들어갔는지 확인 후 n이 들어가있으면 숫자 0을 출력하고, \n",
    "만약 그렇지 않다면 1을 출력하세요"
   ]
  },
  {
   "cell_type": "code",
   "execution_count": 40,
   "id": "c250d7d8-d080-4951-887b-c3abcd1c117a",
   "metadata": {},
   "outputs": [
    {
     "name": "stdin",
     "output_type": "stream",
     "text": [
      "노트를 영어로 입력해주세요 aarrr\n"
     ]
    },
    {
     "data": {
      "text/plain": [
       "0"
      ]
     },
     "execution_count": 40,
     "metadata": {},
     "output_type": "execute_result"
    }
   ],
   "source": [
    "str = input(\"노트를 영어로 입력해주세요\")\n",
    "\n",
    "result = str.find(\"a\") \n",
    "\n",
    "result\n",
    "#find는 특정 문자열을 찾아내주는 함수\n",
    "#일반적으로 프로그래밍 언어는 true, false\n",
    "# truethy falsy => 참인듯한 값, 거짓인듯한 값\n",
    "# 0, null, undefinded => falsy\n",
    "# 파이썬의 경우는 기존의 프로그래밍 언어와 조금 다르다\n",
    "# 파이썬 => 0 => truethy, -1 => falsy\n",
    "\n",
    "#if  result == 0 : \n",
    "#    print(0)\n",
    "#else :\n",
    "#    print(-1)"
   ]
  },
  {
   "cell_type": "markdown",
   "id": "57e1c27d-02ac-43b2-8858-bcc1290d388a",
   "metadata": {},
   "source": [
    "- 사용자로부터 주민등록번호르 입력 받은 후 사용자의 출생지가 어디인지 확인 후 출력해주세요\n",
    "    - 주민등록번호 중 뒤에 8자리 중에서 첫번째 숫자가 성별을 의미하고 , 두번째 숫자부터 세번째 숫자까지가 출생지를 의미\n",
    "\"00~08 : 서울\", \"09~12 : 부산\""
   ]
  },
  {
   "cell_type": "code",
   "execution_count": 55,
   "id": "e4ee0da0-d24c-49e8-a9ed-29726ba63fea",
   "metadata": {},
   "outputs": [
    {
     "name": "stdin",
     "output_type": "stream",
     "text": [
      "주민등록번호를 입력해주세요 980507-1234567\n"
     ]
    },
    {
     "name": "stdout",
     "output_type": "stream",
     "text": [
      "23\n",
      "23\n"
     ]
    }
   ],
   "source": [
    "data = input(\"주민등록번호를 입력해주세요\")\n",
    "\n",
    "result = data.split(\"-\")[1][1:3]\n",
    "print(result)\n",
    "result2 = int(result)\n",
    "print(result2)\n",
    "\n",
    "if result2 <= 8 and result2 >= 0 :\n",
    "    print(\"서울\")\n",
    "elif result2 <= 9 and result >= 12 :\n",
    "    print(\"부산\")"
   ]
  },
  {
   "cell_type": "code",
   "execution_count": 54,
   "id": "f6d48dae-4e9e-4849-9349-098a24f46f3d",
   "metadata": {},
   "outputs": [
    {
     "name": "stdout",
     "output_type": "stream",
     "text": [
      "부산 출생입니다\n"
     ]
    }
   ],
   "source": [
    "# 정답\n",
    "\n",
    "data = \"800000-2124567\"\n",
    "\n",
    "location = int(data.split(\"-\")[1][1:3])\n",
    "type(location)\n",
    "\n",
    "if location >= 0 and location <= 8 :\n",
    "    print (\"서울 출생입니다\")\n",
    "elif location >= 9 and location <= 12 :\n",
    "    print(\"부산 출생입니다\")"
   ]
  }
 ],
 "metadata": {
  "kernelspec": {
   "display_name": "Python 3 (ipykernel)",
   "language": "python",
   "name": "python3"
  },
  "language_info": {
   "codemirror_mode": {
    "name": "ipython",
    "version": 3
   },
   "file_extension": ".py",
   "mimetype": "text/x-python",
   "name": "python",
   "nbconvert_exporter": "python",
   "pygments_lexer": "ipython3",
   "version": "3.13.5"
  }
 },
 "nbformat": 4,
 "nbformat_minor": 5
}
