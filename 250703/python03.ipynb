{
 "cells": [
  {
   "cell_type": "markdown",
   "id": "9bb42129-927a-4b24-a3aa-5b2f4a0a999d",
   "metadata": {},
   "source": [
    "#### 함수(Function)\n",
    "- 함수는 선언 & 호출 개념\n",
    "- 인자값 혹은 인수 개념\n",
    "- 함수를 선언하는 단계에서는 매개변수를 지정한다고 부르고,\n",
    "  실제로 함수를 호출하는 단계에서는 이미 지정해놓은 매개변수의 공간에 입력할 값을 인자값 혹은 인수라고 부른다\n",
    "- 매개변수를 지정했다면 반드시 인자값이 필요\n",
    "- 매개변수와 인자값의 갯수는 반드시 일치해야한다\n",
    "  ```\n",
    "  def 함수이름(매개변수 = 인자값=인수) :\n",
    "      실행문\n",
    "      return 반환하고자 하는 값 입력\n",
    "  ```"
   ]
  },
  {
   "cell_type": "code",
   "execution_count": 7,
   "id": "87e5b091-1330-4b52-9ec3-9556b25e0d13",
   "metadata": {},
   "outputs": [],
   "source": [
    "def func1() :\n",
    "    print(\"Hello\")\n",
    "    print(\"Hello\")\n",
    "    print(\"Hello\")\n",
    "    print(\"Hello\")"
   ]
  },
  {
   "cell_type": "code",
   "execution_count": 8,
   "id": "e7539237-ba2e-4063-9f3b-c2f828c87ade",
   "metadata": {},
   "outputs": [
    {
     "name": "stdout",
     "output_type": "stream",
     "text": [
      "Hello\n",
      "Hello\n",
      "Hello\n",
      "Hello\n"
     ]
    }
   ],
   "source": [
    "func1()"
   ]
  },
  {
   "cell_type": "code",
   "execution_count": 11,
   "id": "13bb8f29-73a5-4df7-bbfa-be7a03c8c528",
   "metadata": {},
   "outputs": [
    {
     "ename": "SyntaxError",
     "evalue": "invalid syntax (2899336405.py, line 2)",
     "output_type": "error",
     "traceback": [
      "\u001b[1;36m  Cell \u001b[1;32mIn[11], line 2\u001b[1;36m\u001b[0m\n\u001b[1;33m    def func2(\"world\") :\u001b[0m\n\u001b[1;37m              ^\u001b[0m\n\u001b[1;31mSyntaxError\u001b[0m\u001b[1;31m:\u001b[0m invalid syntax\n"
     ]
    }
   ],
   "source": [
    "#함수 선언할 때 인자값 반드시 줘야함 안 그러면 오류남\n",
    "def func2(parameter) :\n",
    "    print(f\"Hello, {parameter}\")"
   ]
  },
  {
   "cell_type": "code",
   "execution_count": 12,
   "id": "e23a9e08-921c-4cdb-ba8e-ef3b0fc6d20b",
   "metadata": {},
   "outputs": [
    {
     "name": "stdout",
     "output_type": "stream",
     "text": [
      "Hello, world\n"
     ]
    }
   ],
   "source": [
    "func2(\"world\")"
   ]
  },
  {
   "cell_type": "code",
   "execution_count": 15,
   "id": "28ae9ad9-1ff7-4dae-bc48-8ba3d7e11208",
   "metadata": {},
   "outputs": [],
   "source": [
    "def func3(parameter01, parameter02) :\n",
    "    print(f\"Hello {parameter01}, {parameter02}\")\n",
    "    retu"
   ]
  },
  {
   "cell_type": "code",
   "execution_count": 16,
   "id": "6e1fb597-9e7c-49b5-8d3d-8bc46d56d943",
   "metadata": {},
   "outputs": [
    {
     "name": "stdout",
     "output_type": "stream",
     "text": [
      "Hello Python, World\n"
     ]
    }
   ],
   "source": [
    "func3(\"Python\", \"World\")"
   ]
  },
  {
   "cell_type": "code",
   "execution_count": 25,
   "id": "a8a2fa65-6309-4011-844b-4f5b0a4bb9a8",
   "metadata": {},
   "outputs": [],
   "source": [
    "def func3(parameter01, parameter02) :\n",
    "   # print(f\"Hello , {parameter01} {parameter02}\")\n",
    "    return f\"Hello , {parameter01} {parameter02}\"\n",
    "\n",
    "    #리턴은 함수를 종결하는 것"
   ]
  },
  {
   "cell_type": "code",
   "execution_count": 21,
   "id": "120e5352-1d92-4d3e-a689-7e7c482d2aa4",
   "metadata": {},
   "outputs": [
    {
     "name": "stdout",
     "output_type": "stream",
     "text": [
      "Hello Python, World\n"
     ]
    },
    {
     "data": {
      "text/plain": [
       "'Hello Python, World'"
      ]
     },
     "execution_count": 21,
     "metadata": {},
     "output_type": "execute_result"
    }
   ],
   "source": [
    "result = func3(\"Python\", \"World\")\n",
    "result"
   ]
  },
  {
   "cell_type": "code",
   "execution_count": 35,
   "id": "b1044ad9-bb5d-48e1-a023-bf710b8ca54c",
   "metadata": {},
   "outputs": [],
   "source": [
    "def sum(a, b) :\n",
    "    c = 1 #지역변수 = local\n",
    "    result02 = a + b\n",
    "    return(result02)\n",
    "a = 1 #전역변수 = global"
   ]
  },
  {
   "cell_type": "code",
   "execution_count": 29,
   "id": "76957347-d254-4ddd-80f9-fdaf8f836728",
   "metadata": {},
   "outputs": [
    {
     "data": {
      "text/plain": [
       "3"
      ]
     },
     "execution_count": 29,
     "metadata": {},
     "output_type": "execute_result"
    }
   ],
   "source": [
    "sum(1,2)"
   ]
  },
  {
   "cell_type": "code",
   "execution_count": 30,
   "id": "49b9e656-d7cf-462b-9ffc-1be0471f8587",
   "metadata": {},
   "outputs": [
    {
     "data": {
      "text/plain": [
       "1"
      ]
     },
     "execution_count": 30,
     "metadata": {},
     "output_type": "execute_result"
    }
   ],
   "source": [
    "a"
   ]
  },
  {
   "cell_type": "code",
   "execution_count": 38,
   "id": "7b28946c-d574-4b37-8a88-2adbb3852d73",
   "metadata": {},
   "outputs": [
    {
     "name": "stdout",
     "output_type": "stream",
     "text": [
      "1\n",
      "2\n",
      "3\n"
     ]
    }
   ],
   "source": [
    "for item in [1, 2, 3] :\n",
    "    print (item) #item => 블록변수 = block"
   ]
  },
  {
   "cell_type": "code",
   "execution_count": 39,
   "id": "051b71ce-b7ca-436e-82c3-1ce987534e48",
   "metadata": {},
   "outputs": [],
   "source": [
    "def func7(a) :\n",
    "    b = a + 1\n",
    "    return a, b"
   ]
  },
  {
   "cell_type": "code",
   "execution_count": 43,
   "id": "e711e2a5-9f43-4d6c-8355-0284d179376c",
   "metadata": {},
   "outputs": [
    {
     "name": "stdout",
     "output_type": "stream",
     "text": [
      "(4, 5)\n",
      "<class 'tuple'>\n"
     ]
    }
   ],
   "source": [
    "result07 = func7(4)\n",
    "print(result07)\n",
    "print(type(result07))"
   ]
  },
  {
   "cell_type": "code",
   "execution_count": 45,
   "id": "fa3a351d-5ced-45fa-80e2-dcb0001c1630",
   "metadata": {},
   "outputs": [
    {
     "name": "stdout",
     "output_type": "stream",
     "text": [
      "<class 'str'>\n",
      "<class 'int'>\n",
      "<class 'bool'>\n",
      "<class 'list'>\n"
     ]
    }
   ],
   "source": [
    "print(type(\"str\"))\n",
    "print(type(1))\n",
    "print(type(True))\n",
    "print(type([1,2,3]))"
   ]
  },
  {
   "cell_type": "code",
   "execution_count": 60,
   "id": "75fdfe7c-7cf3-49b3-88b1-e5d054e88ec4",
   "metadata": {},
   "outputs": [],
   "source": [
    "def id_check(id) :\n",
    "    if id == \"admin\" :\n",
    "        print(\"invalid id : admin\")\n",
    "        return \n",
    "    print(\"valid id : \", id)\n",
    "\n",
    "    #사실상 아니면 return에서 종결이기 때문에, else는 독립문인 것을 알 수 있다."
   ]
  },
  {
   "cell_type": "code",
   "execution_count": 62,
   "id": "2d0de949-913a-4fbb-87e4-1d6ce4af6e86",
   "metadata": {},
   "outputs": [
    {
     "name": "stdout",
     "output_type": "stream",
     "text": [
      "valid id :  admin02\n"
     ]
    }
   ],
   "source": [
    "id_check(\"admin02\")"
   ]
  }
 ],
 "metadata": {
  "kernelspec": {
   "display_name": "Python 3 (ipykernel)",
   "language": "python",
   "name": "python3"
  },
  "language_info": {
   "codemirror_mode": {
    "name": "ipython",
    "version": 3
   },
   "file_extension": ".py",
   "mimetype": "text/x-python",
   "name": "python",
   "nbconvert_exporter": "python",
   "pygments_lexer": "ipython3",
   "version": "3.13.5"
  }
 },
 "nbformat": 4,
 "nbformat_minor": 5
}
