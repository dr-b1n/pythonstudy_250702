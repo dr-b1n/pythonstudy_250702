{
 "cells": [
  {
   "cell_type": "markdown",
   "id": "ccd51539-40a0-4a1b-be50-7c7cb0c7a4fd",
   "metadata": {},
   "source": [
    "## 반복문\n",
    "```\n",
    "for 변수 in (리스트 || 문자열 => 이터러블한 객체 속성을 가지고 있는 자료 구조이다)\n",
    "\n",
    "    실행문 실행\n",
    "\n",
    "while 조건 :\n",
    "\n",
    "    실행문 실행\n",
    "```"
   ]
  },
  {
   "cell_type": "code",
   "execution_count": 3,
   "id": "73b9791b-bab3-4c67-a16e-5da464aa3ff6",
   "metadata": {},
   "outputs": [
    {
     "name": "stdout",
     "output_type": "stream",
     "text": [
      "python\n",
      "TS\n",
      "Node\n"
     ]
    }
   ],
   "source": [
    "lan = [\"python\", \"TS\", \"Node\"]\n",
    "\n",
    "for item in lan :\n",
    "    print(item)\n",
    "\n",
    "#반복 순회해서 출력했다"
   ]
  },
  {
   "cell_type": "code",
   "execution_count": 2,
   "id": "86cdcdbe-151c-4787-ae72-ca3414a71962",
   "metadata": {},
   "outputs": [
    {
     "name": "stdout",
     "output_type": "stream",
     "text": [
      "python\n",
      "TS\n",
      "Node\n"
     ]
    }
   ],
   "source": [
    "#for item in [\"python\", \"TS\", \"Node\"] :\n",
    "#    print(item)\n",
    "\n",
    "for item in lan :\n",
    "    print(item)"
   ]
  },
  {
   "cell_type": "code",
   "execution_count": 4,
   "id": "2393ac99-1837-4c5b-b682-f5ca9243c12d",
   "metadata": {},
   "outputs": [
    {
     "name": "stdout",
     "output_type": "stream",
     "text": [
      "1\n",
      "2\n",
      "3\n",
      "4\n",
      "5\n",
      "6\n",
      "7\n",
      "8\n",
      "9\n",
      "10\n"
     ]
    }
   ],
   "source": [
    "for num in [1, 2, 3, 4, 5, 6, 7, 8, 9, 10] :\n",
    "    print(num)"
   ]
  },
  {
   "cell_type": "code",
   "execution_count": 12,
   "id": "bce2fe69-96f2-4fb8-9910-ea716919ecaf",
   "metadata": {},
   "outputs": [
    {
     "name": "stdout",
     "output_type": "stream",
     "text": [
      "0\n",
      "1\n",
      "2\n",
      "3\n",
      "4\n",
      "5\n",
      "6\n",
      "7\n",
      "8\n",
      "9\n"
     ]
    }
   ],
   "source": [
    "for num in range(10) :\n",
    "    print(num)"
   ]
  },
  {
   "cell_type": "code",
   "execution_count": 15,
   "id": "48c0cce2-56fc-4e49-a62b-4107f9a8208f",
   "metadata": {},
   "outputs": [
    {
     "name": "stdout",
     "output_type": "stream",
     "text": [
      "1\n",
      "2\n",
      "3\n",
      "4\n",
      "5\n",
      "6\n",
      "7\n",
      "8\n",
      "9\n",
      "10\n"
     ]
    }
   ],
   "source": [
    "for num in range(1, 4) :\n",
    "    print(num)"
   ]
  },
  {
   "cell_type": "code",
   "execution_count": 17,
   "id": "6eceeb96-3191-4f3d-92c8-ee8181f88eaf",
   "metadata": {},
   "outputs": [
    {
     "name": "stdin",
     "output_type": "stream",
     "text": [
      "최애 음식은? 밥\n",
      "최애 음식은? 밥\n",
      "최애 음식은? 바ㅂ\n"
     ]
    }
   ],
   "source": [
    "for _ in range(1, 4) :\n",
    "    input(\"최애 음식은?\")\n",
    "\n",
    "\n",
    "# 근본적으로는 반복하는 것이 목적이니 변수를 선언하지 않아도 됨"
   ]
  },
  {
   "cell_type": "code",
   "execution_count": 19,
   "id": "ea5ce67d-79e6-4f56-bee0-7d84a0da325e",
   "metadata": {},
   "outputs": [
    {
     "data": {
      "text/plain": [
       "range(0, 3)"
      ]
     },
     "execution_count": 19,
     "metadata": {},
     "output_type": "execute_result"
    }
   ],
   "source": [
    "range(3)"
   ]
  },
  {
   "cell_type": "code",
   "execution_count": 23,
   "id": "d308cbf4-e136-492d-bc75-dc2e5ff3ff19",
   "metadata": {},
   "outputs": [
    {
     "ename": "SyntaxError",
     "evalue": "cannot assign to function call here. Maybe you meant '==' instead of '='? (2319105677.py, line 1)",
     "output_type": "error",
     "traceback": [
      "\u001b[1;36m  Cell \u001b[1;32mIn[23], line 1\u001b[1;36m\u001b[0m\n\u001b[1;33m    range(0, 3) = [1, 2, 3]\u001b[0m\n\u001b[1;37m    ^\u001b[0m\n\u001b[1;31mSyntaxError\u001b[0m\u001b[1;31m:\u001b[0m cannot assign to function call here. Maybe you meant '==' instead of '='?\n"
     ]
    }
   ],
   "source": [
    "range(0, 3) = [1, 2, 3]"
   ]
  },
  {
   "cell_type": "code",
   "execution_count": 27,
   "id": "8d45fa58-38dc-4c25-87e4-79eaabb03178",
   "metadata": {},
   "outputs": [
    {
     "name": "stdout",
     "output_type": "stream",
     "text": [
      "list1\n",
      "list2\n",
      "list3\n",
      "list1\n",
      "list2\n",
      "list3\n"
     ]
    }
   ],
   "source": [
    "data_list = [\"list1\", \"list2\", \"list3\"]\n",
    "\n",
    "print(data_list[0])\n",
    "print(data_list[1])\n",
    "print(data_list[2])\n",
    "\n",
    "for index in data_list : \n",
    "    print(index)"
   ]
  },
  {
   "cell_type": "code",
   "execution_count": 35,
   "id": "8f5cf909-6bb4-40a1-9de5-f135d2d490b9",
   "metadata": {},
   "outputs": [
    {
     "data": {
      "text/plain": [
       "-55"
      ]
     },
     "execution_count": 35,
     "metadata": {},
     "output_type": "execute_result"
    }
   ],
   "source": [
    "sum = 0 # 전역변수\n",
    "\n",
    "\n",
    "for index in range(1, 11) :\n",
    "    # sum = sum + index\n",
    "    # 복합대입연산자\n",
    "    # sum += index\n",
    "    sum -= index\n",
    "sum"
   ]
  },
  {
   "cell_type": "code",
   "execution_count": null,
   "id": "2a023c6b-67d8-4dcc-b718-1c3c64069fa9",
   "metadata": {},
   "outputs": [],
   "source": [
    "# 기저조건이 없다면 무한루프에 빠지게 되는 것이 While문\n",
    "\n",
    "while 1 :\n",
    "    print(\"Hello World\")"
   ]
  },
  {
   "cell_type": "code",
   "execution_count": 37,
   "id": "a87f9310-161a-4033-bbf3-aad244f1e59e",
   "metadata": {},
   "outputs": [
    {
     "name": "stdin",
     "output_type": "stream",
     "text": [
      "What's your name? Hazel\n"
     ]
    },
    {
     "name": "stdout",
     "output_type": "stream",
     "text": [
      "Hi~Hazel!! 'Where is foo?'\n"
     ]
    },
    {
     "name": "stdin",
     "output_type": "stream",
     "text": [
      "What's your name? Jung\n"
     ]
    },
    {
     "name": "stdout",
     "output_type": "stream",
     "text": [
      "Hi~Jung!! 'Where is foo?'\n"
     ]
    },
    {
     "name": "stdin",
     "output_type": "stream",
     "text": [
      "What's your name? foo\n"
     ]
    },
    {
     "name": "stdout",
     "output_type": "stream",
     "text": [
      "Hi~foo!! 'Where is foo?'\n"
     ]
    }
   ],
   "source": [
    "name = \"\"\n",
    "\n",
    "while name != \"foo\" :\n",
    "        name = input(\"What's your name?\")\n",
    "        print(f\"Hi~{name}!! 'Where is foo?'\")"
   ]
  },
  {
   "cell_type": "markdown",
   "id": "bb82380d-6d3f-429d-bf34-eb2be663e408",
   "metadata": {},
   "source": [
    "1-10까지의 숫자에 대해 모두 더한 값을 출력하는 프로그램을 for문을 활용하여 작성하시오"
   ]
  },
  {
   "cell_type": "code",
   "execution_count": 43,
   "id": "59ccba75-1ecd-4686-a9ad-e9c6077a388c",
   "metadata": {},
   "outputs": [
    {
     "name": "stdout",
     "output_type": "stream",
     "text": [
      "55\n"
     ]
    }
   ],
   "source": [
    "sum = 0\n",
    "\n",
    "for num in range(1,11) :\n",
    "    sum += num\n",
    "\n",
    "print(sum)"
   ]
  },
  {
   "cell_type": "code",
   "execution_count": 55,
   "id": "ffaadaaa-8efe-4c84-9a02-9b8cfc0b7db1",
   "metadata": {},
   "outputs": [
    {
     "name": "stdin",
     "output_type": "stream",
     "text": [
      "숫자를 입력해주세요 5\n"
     ]
    },
    {
     "name": "stdout",
     "output_type": "stream",
     "text": [
      "5\n"
     ]
    }
   ],
   "source": [
    "num1 = int(input(\"숫자를 입력해주세요\"))\n",
    "\n",
    "for num2 in range(1,10) :\n",
    "    num2 * num1\n",
    "print(num1)"
   ]
  },
  {
   "cell_type": "code",
   "execution_count": 58,
   "id": "31f5cbd9-2685-4585-8a71-9c26d27340e5",
   "metadata": {},
   "outputs": [
    {
     "name": "stdin",
     "output_type": "stream",
     "text": [
      "구구단을 위한 숫자를 입력해주세요 5\n"
     ]
    },
    {
     "name": "stdout",
     "output_type": "stream",
     "text": [
      "5*1 = 5\n",
      "5*2 = 10\n",
      "5*3 = 15\n",
      "5*4 = 20\n",
      "5*5 = 25\n",
      "5*6 = 30\n",
      "5*7 = 35\n",
      "5*8 = 40\n",
      "5*9 = 45\n"
     ]
    }
   ],
   "source": [
    "# 1. 사용자한테 값을 받는다\n",
    "# 2. 사용자한테 받은 값을 변수에 넣고 해당 변수의 값을 가지고 1~9까지 곱해본다\n",
    "# 3. 1~9까지 반복으로 곱해주기 위해서 반복문을 사용한다\n",
    "# 4. 반복문을 사용하기 위해서 range[1,10] 함수 및 인자값을 사용한다\n",
    "\n",
    "data = int(input(\"구구단을 위한 숫자를 입력해주세요\"))\n",
    "\n",
    "if data >= 2 and data <= 9 :\n",
    "    for digit in range(1,10) :\n",
    "        print(f\"{data}*{digit} = {data*digit}\")\n",
    "else :\n",
    "    print(\"2~9 사이의 숫자만 입력해주세요\")"
   ]
  },
  {
   "cell_type": "markdown",
   "id": "eb981fde-2dcc-471d-8b80-9afc394e84ef",
   "metadata": {},
   "source": [
    "- name = \"[Dave], [David], [Andy], [Juliet]\"\n",
    "- 위 name이라는 변수 안에 담긴 값을 다음처럼 화면에 출력해주세요\n",
    "  Dave\n",
    "  David\n",
    "  Andy\n",
    "  Juliet"
   ]
  },
  {
   "cell_type": "code",
   "execution_count": 87,
   "id": "8a29cbba-52ba-4031-9f3f-2c98cf53c595",
   "metadata": {},
   "outputs": [
    {
     "name": "stdout",
     "output_type": "stream",
     "text": [
      "[\n",
      "D\n",
      "a\n",
      "v\n",
      "e\n",
      "]\n",
      ",\n",
      " \n",
      "[\n",
      "D\n",
      "a\n",
      "v\n",
      "i\n",
      "d\n",
      "]\n",
      ",\n",
      " \n",
      "[\n",
      "A\n",
      "n\n",
      "d\n",
      "y\n",
      "]\n",
      ",\n",
      " \n",
      "[\n",
      "J\n",
      "u\n",
      "l\n",
      "i\n",
      "e\n",
      "t\n",
      "]\n"
     ]
    }
   ],
   "source": [
    "#for문에 이름 변수 넣어서 리스트로 만든 담에 출력해달라고 하면... 되지.. .않으려나 몰겠네\n",
    "# 아니면 아예 name 변수를 list로 선언해버리기\n",
    "name = list(\"[Dave], [David], [Andy], [Juliet]\")\n",
    "#name1 = [\"Dave, David, Andy, Juliet\"]\n",
    "\n",
    "for name1 in name :\n",
    "   print(name1)"
   ]
  },
  {
   "cell_type": "code",
   "execution_count": 93,
   "id": "4540db6d-e147-46b8-857f-9a9c2b9d3b66",
   "metadata": {},
   "outputs": [
    {
     "name": "stdout",
     "output_type": "stream",
     "text": [
      "Dave\n",
      "David\n",
      "Andy\n",
      "Juliet\n"
     ]
    }
   ],
   "source": [
    "# 정답\n",
    "\n",
    "name = \"[Dave],[David],[Andy],[Juliet]\"\n",
    "\n",
    "name01 = name.split(\",\")\n",
    "\n",
    "for str_name in name01 :\n",
    "    print(str_name[1:-1])                "
   ]
  },
  {
   "cell_type": "code",
   "execution_count": null,
   "id": "363430ac-2cca-4f55-b3f0-f91c52a2b08d",
   "metadata": {},
   "outputs": [],
   "source": [
    "- 1부터 30까지 숫자 중 3의 배수만 출력해주세요 (*while문을 활용해서 값을 도출하세요)"
   ]
  },
  {
   "cell_type": "code",
   "execution_count": 94,
   "id": "a0fa14c8-33fb-4a2c-8f05-a65645e9c740",
   "metadata": {},
   "outputs": [
    {
     "name": "stdout",
     "output_type": "stream",
     "text": [
      "3\n",
      "6\n",
      "9\n",
      "12\n",
      "15\n",
      "18\n",
      "21\n",
      "24\n",
      "27\n",
      "30\n"
     ]
    }
   ],
   "source": [
    "# while문을 사용해서 3의 배수만 출력하되 for문을 이용해서 1부터 30을 늘리면 되지 않을까?\n",
    "# 도움 1부터 30까지의 숫자를 반복문을 활용해서 생성 및 찾아오기\n",
    "# 생성 및 찾아온 숮자 중에서 3의 배수를 찾는다 => 3의로 나누었을 때, 나머지 값이 0=> % 연산자 필요\n",
    "\n",
    "num = 0\n",
    "\n",
    "while num < 30 :\n",
    "    num += 1\n",
    "    if num % 3 == 0 :\n",
    "        print(num)"
   ]
  },
  {
   "cell_type": "markdown",
   "id": "adc2ca9b-1c8a-4880-bc47-8a8bcb458b2a",
   "metadata": {},
   "source": [
    "- 1부터 30까지 숫자 중 3의 배수만 출력해주세요 (*for문 활용해서 값을 도출하세요)"
   ]
  },
  {
   "cell_type": "code",
   "execution_count": 100,
   "id": "ff76d057-d124-42cd-a979-a4703dec0b3c",
   "metadata": {},
   "outputs": [
    {
     "name": "stdout",
     "output_type": "stream",
     "text": [
      "3\n",
      "6\n",
      "9\n",
      "12\n",
      "15\n",
      "18\n",
      "21\n",
      "24\n",
      "27\n",
      "30\n"
     ]
    }
   ],
   "source": [
    "num = 0\n",
    "\n",
    "for num in range(1,31) :\n",
    "    if num % 3 == 0 :\n",
    "        print(num)\n",
    "\n",
    "\n",
    "#for문은 조건식 필요없음        "
   ]
  },
  {
   "cell_type": "markdown",
   "id": "b430452e-5708-4318-bbdb-b600d047c712",
   "metadata": {},
   "source": [
    "- 다음 리스트 자료구조에서 음수값을 삭제하고, 양수값만 가지고 있는 새로운 리스트 변수로 만들어서 출력해주세요\n",
    "- num_list = [0, -11, 31, 22, -11, 33, -44, -55]"
   ]
  },
  {
   "cell_type": "code",
   "execution_count": 113,
   "id": "6c3b108b-4d02-4ff9-9adb-f25906ffb377",
   "metadata": {},
   "outputs": [
    {
     "ename": "SyntaxError",
     "evalue": "invalid syntax (886561653.py, line 9)",
     "output_type": "error",
     "traceback": [
      "\u001b[1;36m  Cell \u001b[1;32mIn[113], line 9\u001b[1;36m\u001b[0m\n\u001b[1;33m    real_list = (int)list\u001b[0m\n\u001b[1;37m                     ^\u001b[0m\n\u001b[1;31mSyntaxError\u001b[0m\u001b[1;31m:\u001b[0m invalid syntax\n"
     ]
    }
   ],
   "source": [
    "#0보다 크는 애들 출력해달라고 하자~~~!\n",
    "#0보다 큰 애들 출력해달라고 하고 그걸 새로운 변수에 넣고 출력하셈\n",
    "\n",
    "num_list = [0, -11, 31, 22, -11, 33, -44, -55]\n",
    "\n",
    "for list in num_list :\n",
    "       if list >= 0 :\n",
    "        for real_list in list :\n",
    "            real_list = (int)list\n",
    "            print(real_list)"
   ]
  },
  {
   "cell_type": "code",
   "execution_count": 121,
   "id": "2463c0cb-d231-46e9-8f81-0d2c1a0d9afa",
   "metadata": {},
   "outputs": [
    {
     "ename": "TypeError",
     "evalue": "'int' object is not callable",
     "output_type": "error",
     "traceback": [
      "\u001b[1;31m---------------------------------------------------------------------------\u001b[0m",
      "\u001b[1;31mTypeError\u001b[0m                                 Traceback (most recent call last)",
      "Cell \u001b[1;32mIn[121], line 3\u001b[0m\n\u001b[0;32m      1\u001b[0m \u001b[38;5;66;03m# 정답\u001b[39;00m\n\u001b[0;32m      2\u001b[0m num_list \u001b[38;5;241m=\u001b[39m [\u001b[38;5;241m0\u001b[39m, \u001b[38;5;241m-\u001b[39m\u001b[38;5;241m11\u001b[39m, \u001b[38;5;241m31\u001b[39m, \u001b[38;5;241m22\u001b[39m, \u001b[38;5;241m-\u001b[39m\u001b[38;5;241m11\u001b[39m, \u001b[38;5;241m33\u001b[39m, \u001b[38;5;241m-\u001b[39m\u001b[38;5;241m44\u001b[39m, \u001b[38;5;241m-\u001b[39m\u001b[38;5;241m55\u001b[39m]\n\u001b[1;32m----> 3\u001b[0m new_list \u001b[38;5;241m=\u001b[39m \u001b[38;5;28mlist\u001b[39m()\n\u001b[0;32m      5\u001b[0m \u001b[38;5;28;01mfor\u001b[39;00m num \u001b[38;5;129;01min\u001b[39;00m num_list :\n\u001b[0;32m      6\u001b[0m     \u001b[38;5;28;01mif\u001b[39;00m num \u001b[38;5;241m>\u001b[39m\u001b[38;5;241m=\u001b[39m \u001b[38;5;241m0\u001b[39m :\n",
      "\u001b[1;31mTypeError\u001b[0m: 'int' object is not callable"
     ]
    }
   ],
   "source": [
    "# 정답\n",
    "num_list = [0, -11, 31, 22, -11, 33, -44, -55]\n",
    "new_list = list()\n",
    "\n",
    "for num in num_list :\n",
    "    if num >= 0 :\n",
    "        new_list.append(num)\n",
    "new_list"
   ]
  },
  {
   "cell_type": "code",
   "execution_count": null,
   "id": "6f1e399a-4bce-4f0c-9df5-b9c64e2f0e51",
   "metadata": {},
   "outputs": [],
   "source": [
    "- 아래 리스트에 있는 데이터들의 길이를 출력해주세요. (*단, 1줄에 1개씩 구분해서 출력)\n",
    "- list_data = [\"Java\", \"C++\", \"Python\", \"Node\"]               "
   ]
  },
  {
   "cell_type": "code",
   "execution_count": 136,
   "id": "f282f761-da58-4a9f-91e4-3cb6abee8ae1",
   "metadata": {},
   "outputs": [
    {
     "data": {
      "text/plain": [
       "4"
      ]
     },
     "execution_count": 136,
     "metadata": {},
     "output_type": "execute_result"
    }
   ],
   "source": [
    "# 리스트 데이터 변수 선언\n",
    "# for문 사용해서 리스트를 나열하고 lan() 함수를 사용해서 나열하고 싶음\n",
    "\n",
    "list_data = [\"Java\", \"C++\", \"Python\", \"Node\"]  \n",
    "\n",
    "for language in list_data :\n",
    "     result = len(language)\n",
    "    \n",
    "result"
   ]
  },
  {
   "cell_type": "code",
   "execution_count": 135,
   "id": "0c216a15-c864-465b-aa61-df3f35f7ca70",
   "metadata": {},
   "outputs": [
    {
     "name": "stdout",
     "output_type": "stream",
     "text": [
      "4\n",
      "3\n",
      "6\n",
      "4\n"
     ]
    }
   ],
   "source": [
    "# 정답\n",
    "\n",
    "list_data = [\"Java\", \"C++\", \"Python\", \"Node\"]  \n",
    "\n",
    "for data in list_data :\n",
    "    print(len(data))"
   ]
  },
  {
   "cell_type": "code",
   "execution_count": null,
   "id": "3d255aea-7041-4ea4-b061-bb88c3c18553",
   "metadata": {},
   "outputs": [],
   "source": [
    "filelist = [\"excise01.docx\", \"excise02.docx\", \"excise03.docx\", \"excise04.docx\"]\n",
    "```\n",
    "excise01\n",
    "excise02\n",
    "excise03\n",
    "excise04\n",
    "```"
   ]
  },
  {
   "cell_type": "code",
   "execution_count": 146,
   "id": "986aaaa2-3e11-48d3-9516-29f6e17d45b7",
   "metadata": {},
   "outputs": [
    {
     "name": "stdout",
     "output_type": "stream",
     "text": [
      "['excise01.docx']\n",
      "['excise02.docx']\n",
      "['excise03.docx']\n",
      "['excise04.docx']\n"
     ]
    }
   ],
   "source": [
    "# for문 사용해서 출력하고 split() 사용해서 .docx 없애버리장~~~\n",
    "\n",
    "filelist = [\"excise01.docx\", \"excise02.docx\", \"excise03.docx\", \"excise04.docx\"]\n",
    "\n",
    "for list in filelist :\n",
    "      print(list.split())"
   ]
  },
  {
   "cell_type": "code",
   "execution_count": 150,
   "id": "14add4a7-2a13-469a-a4a7-72ea47db9bd8",
   "metadata": {},
   "outputs": [
    {
     "name": "stdout",
     "output_type": "stream",
     "text": [
      "excise01\n",
      "excise02\n",
      "excise03\n",
      "excise04\n"
     ]
    }
   ],
   "source": [
    "# 정답\n",
    "\n",
    "filelist = [\"excise01.docx\", \"excise02.docx\", \"excise03.docx\", \"excise04.docx\"]\n",
    "\n",
    "for filename in filelist :\n",
    "    print(filename.split(\".\")[0])"
   ]
  },
  {
   "cell_type": "code",
   "execution_count": null,
   "id": "feddd890-fdc7-44d6-861b-304b28691a80",
   "metadata": {},
   "outputs": [],
   "source": [
    "filelist = [\"excise01.csv\", \"excise02.csv\", \"excise03.txt\", \"excise04.csv\"]\n",
    "- 확장자가 \"txt\"인 값만 출력!"
   ]
  },
  {
   "cell_type": "code",
   "execution_count": 158,
   "id": "1ac731f9-d16e-4e7a-a6c1-c9d0d6ed8a70",
   "metadata": {},
   "outputs": [
    {
     "ename": "IndentationError",
     "evalue": "expected an indented block after 'if' statement on line 4 (590777209.py, line 5)",
     "output_type": "error",
     "traceback": [
      "\u001b[1;36m  Cell \u001b[1;32mIn[158], line 5\u001b[1;36m\u001b[0m\n\u001b[1;33m    print(findtxt)\u001b[0m\n\u001b[1;37m    ^\u001b[0m\n\u001b[1;31mIndentationError\u001b[0m\u001b[1;31m:\u001b[0m expected an indented block after 'if' statement on line 4\n"
     ]
    }
   ],
   "source": [
    "filelist = [\"excise01.csv\", \"excise02.csv\", \"excise03.txt\", \"excise04.csv\"]\n",
    "\n",
    "for findtxt in filelist :\n",
    "    if findtxt.split(\".\")[1] == \"txt\" :\n",
    "    print(findtxt)"
   ]
  }
 ],
 "metadata": {
  "kernelspec": {
   "display_name": "Python 3 (ipykernel)",
   "language": "python",
   "name": "python3"
  },
  "language_info": {
   "codemirror_mode": {
    "name": "ipython",
    "version": 3
   },
   "file_extension": ".py",
   "mimetype": "text/x-python",
   "name": "python",
   "nbconvert_exporter": "python",
   "pygments_lexer": "ipython3",
   "version": "3.13.5"
  }
 },
 "nbformat": 4,
 "nbformat_minor": 5
}
