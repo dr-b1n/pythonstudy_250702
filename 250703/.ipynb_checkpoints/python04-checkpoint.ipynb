{
 "cells": [
  {
   "cell_type": "markdown",
   "id": "e4da0615-16bd-47fd-ab6e-695c87b8fe39",
   "metadata": {},
   "source": [
    "#### 자료구조 형태\n",
    "- 숫자, 문자, 불리언\n",
    "- 리스트(list)\n",
    "- 튜플(Tuple)\n",
    "    - 리스트와 달리 튜플은 소괄호 형태를 띄고 있음\n",
    "    - 튜플은 최초 생성 후 값을 삭제, 추가할 수 없음\n",
    "    - 단, 튜플 간 병합가능 혹은 튜플 자체의 복제 등은 가능함\n",
    "    - 튜플은 리스트처럼 이터러블한 객체 속성을 가지고 있음 => 반복문을 사용할 수 있음 && 튜플 내부 아이템은 각각 저마다의 고유한 인덱스값을 가지고 있다는 의미이기도 함\n",
    "    - 함수의 반환값으로 찾아온 값을 활용해서 일반 변수 안에 값을 넣을 때, 구조분해할당의 형식으로 값을 전달할 수 있음\n",
    "    - 튜플을 수정, 편집, 삭제를 하고 싶다면 => 리스트로 바꿔주세요 => list(튜플자료형) => 리스트가 됨"
   ]
  },
  {
   "cell_type": "code",
   "execution_count": 2,
   "id": "49175fd1-685f-49de-b38a-dcab20850daf",
   "metadata": {},
   "outputs": [
    {
     "name": "stdout",
     "output_type": "stream",
     "text": [
      "<class 'list'>\n",
      "<class 'tuple'>\n"
     ]
    }
   ],
   "source": [
    "listItems = []\n",
    "tupleItems = (1, 2, 3)\n",
    "# 값이 변경이 안 되기 때문에, 최초 생성할 때 정하고 해줘야함\n",
    "print(type(listItems))\n",
    "print(type(tupleItems))"
   ]
  },
  {
   "cell_type": "code",
   "execution_count": 5,
   "id": "3743d603-15fb-4b65-9284-99d1cce00660",
   "metadata": {},
   "outputs": [
    {
     "name": "stdout",
     "output_type": "stream",
     "text": [
      "1\n",
      "2\n",
      "3\n"
     ]
    }
   ],
   "source": [
    "for item in tupleItems :\n",
    "    print(item)"
   ]
  },
  {
   "cell_type": "code",
   "execution_count": 11,
   "id": "b0c42465-03b6-44f5-846b-83084608609b",
   "metadata": {},
   "outputs": [
    {
     "name": "stdout",
     "output_type": "stream",
     "text": [
      "(1, 2, 3, 4)\n",
      "(1, 2, 1, 2, 1, 2)\n"
     ]
    }
   ],
   "source": [
    "# del tupleItems[1]\n",
    "# tupleItems.append(4)\n",
    "# tupleItems[4] = 4\n",
    "\n",
    "tuple01 = (1, 2)\n",
    "tuple02 = (3, 4)\n",
    "\n",
    "#튜플끼리는 값을 합칠 수 있다\n",
    "print(tuple01+tuple02)\n",
    "print(tuple01*3)\n",
    "\n",
    "#파이썬이 없어지지 않는 이상 튜플의 형태는 죽어도 바꿀 수 없다"
   ]
  },
  {
   "cell_type": "code",
   "execution_count": 27,
   "id": "5594ac25-8cdf-42dc-af65-37e56e3cffc3",
   "metadata": {},
   "outputs": [],
   "source": [
    "x = 1\n",
    "y = 2"
   ]
  },
  {
   "cell_type": "code",
   "execution_count": 18,
   "id": "719629dc-332f-4a3e-8f54-0247f1c07a35",
   "metadata": {},
   "outputs": [],
   "source": [
    "# temp = x\n",
    "# x = y\n",
    "# y = temp"
   ]
  },
  {
   "cell_type": "code",
   "execution_count": 29,
   "id": "4206680e-4737-4ed1-83a2-040f15e6536b",
   "metadata": {},
   "outputs": [],
   "source": [
    "(x, y) = (y, x)\n",
    "#파이썬 튜플은 값을 추가하거나 없앨 수는 없으나 속성간에 교환할 수 있음"
   ]
  },
  {
   "cell_type": "code",
   "execution_count": 30,
   "id": "7c0bf261-8030-4edc-8437-793865e72de3",
   "metadata": {},
   "outputs": [
    {
     "data": {
      "text/plain": [
       "2"
      ]
     },
     "execution_count": 30,
     "metadata": {},
     "output_type": "execute_result"
    }
   ],
   "source": [
    "x"
   ]
  },
  {
   "cell_type": "code",
   "execution_count": 38,
   "id": "4cbef03b-f44b-4b61-96aa-e250b5a8270b",
   "metadata": {},
   "outputs": [],
   "source": [
    "def quot_and_rem(x, y) :\n",
    "    quot = x // y\n",
    "    rem = x % y\n",
    "    return quot, rem"
   ]
  },
  {
   "cell_type": "code",
   "execution_count": 35,
   "id": "cc60f04f-22cf-4956-9f04-d7aace18c7d3",
   "metadata": {},
   "outputs": [],
   "source": [
    "# result = quot_and_rem(10, 3)\n",
    "# type(result)\n",
    "\n",
    "(quot01, rem01) = quot_and_rem(10, 3)"
   ]
  },
  {
   "cell_type": "code",
   "execution_count": 36,
   "id": "48564a28-785b-41e8-9772-2cf5138e11b6",
   "metadata": {},
   "outputs": [
    {
     "data": {
      "text/plain": [
       "int"
      ]
     },
     "execution_count": 36,
     "metadata": {},
     "output_type": "execute_result"
    }
   ],
   "source": [
    "type(quot01)"
   ]
  },
  {
   "cell_type": "code",
   "execution_count": 37,
   "id": "edc349ec-6ea1-4788-98e8-6d1a9dc6eacf",
   "metadata": {},
   "outputs": [
    {
     "data": {
      "text/plain": [
       "1"
      ]
     },
     "execution_count": 37,
     "metadata": {},
     "output_type": "execute_result"
    }
   ],
   "source": [
    "rem01"
   ]
  },
  {
   "cell_type": "code",
   "execution_count": 40,
   "id": "fc24164f-c6b1-491d-8cff-1a9b9ea79d9e",
   "metadata": {},
   "outputs": [
    {
     "data": {
      "text/plain": [
       "tuple"
      ]
     },
     "execution_count": 40,
     "metadata": {},
     "output_type": "execute_result"
    }
   ],
   "source": [
    "data1 = (1, 2, 3)\n",
    "type(data1)"
   ]
  },
  {
   "cell_type": "code",
   "execution_count": 44,
   "id": "ba163a8d-2312-407f-b250-3df15f4a7792",
   "metadata": {},
   "outputs": [
    {
     "data": {
      "text/plain": [
       "[1, 2, 3]"
      ]
     },
     "execution_count": 44,
     "metadata": {},
     "output_type": "execute_result"
    }
   ],
   "source": [
    "#리스트로 끌고 오는 방법\n",
    "\n",
    "list(data1)\n",
    "\n",
    "#튜플을 리스트로 바꾸게 되면 수정, 편집, 삭제가 가능해짐"
   ]
  }
 ],
 "metadata": {
  "kernelspec": {
   "display_name": "Python 3 (ipykernel)",
   "language": "python",
   "name": "python3"
  },
  "language_info": {
   "codemirror_mode": {
    "name": "ipython",
    "version": 3
   },
   "file_extension": ".py",
   "mimetype": "text/x-python",
   "name": "python",
   "nbconvert_exporter": "python",
   "pygments_lexer": "ipython3",
   "version": "3.13.5"
  }
 },
 "nbformat": 4,
 "nbformat_minor": 5
}
