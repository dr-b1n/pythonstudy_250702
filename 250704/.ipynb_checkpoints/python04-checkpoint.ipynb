{
 "cells": [
  {
   "cell_type": "markdown",
   "id": "5010197c-0c29-49ea-aa61-39395175027f",
   "metadata": {},
   "source": [
    "- 사용자로부터 어떤 값을 받고, 해당 값을 한화로 바꿔서 출력되도록 해주세요\n",
    "- ex) 100 => 환율 1112원 // 111200원으로 출력되도록 해주세요\n"
   ]
  },
  {
   "cell_type": "code",
   "execution_count": 12,
   "id": "f2eeda48-833c-447d-8da5-2cb0dee0094d",
   "metadata": {},
   "outputs": [
    {
     "ename": "IndentationError",
     "evalue": "unexpected indent (664731353.py, line 15)",
     "output_type": "error",
     "traceback": [
      "\u001b[1;36m  Cell \u001b[1;32mIn[12], line 15\u001b[1;36m\u001b[0m\n\u001b[1;33m    if cash1 > 0 :\u001b[0m\n\u001b[1;37m    ^\u001b[0m\n\u001b[1;31mIndentationError\u001b[0m\u001b[1;31m:\u001b[0m unexpected indent\n"
     ]
    }
   ],
   "source": [
    "# 엥 뭘 응용해야하지\n",
    "# 사용자로부터 값 받고 한화로 환전\n",
    "# 돈 받으면 곱해주세요 해야지 근데 다른 응용방법을 모르겠어\n",
    "\n",
    "cash = input(\"환전할 금액을 입력해주세요 ex)100달러\") \n",
    "\n",
    "k_cash = 1112\n",
    "\n",
    "while cash == \"달러\" :\n",
    "    # print(cash)\n",
    "    cash.strip(\"달러\")\n",
    "    # 캐시를 int로 바꾸고 싶음\n",
    "    cash1 = int(cash)\n",
    "    print(cash1)\n",
    "            if cash1 > 0 :\n",
    "                exchange = cash1*k_cash\n",
    "                    print(f\"{exchange}원 환전 되었습니다.\")"
   ]
  },
  {
   "cell_type": "code",
   "execution_count": 17,
   "id": "686bfd6d-5c3e-44d0-9941-ae091ab7fefe",
   "metadata": {},
   "outputs": [
    {
     "name": "stdin",
     "output_type": "stream",
     "text": [
      "환전하고 싶은 달러를 입력해주세요, ex)100달러 100달러\n"
     ]
    },
    {
     "name": "stdout",
     "output_type": "stream",
     "text": [
      "111,200원\n"
     ]
    }
   ],
   "source": [
    "# 정답\n",
    "# 수학능력평가시험 => 수학 => 논리성!!\n",
    "# 문제를 풀던 못 풀던 일단은 내가 해결하고 싶은 것을 말로 표현\n",
    "# 국어\n",
    "\n",
    "# 1. 사용자에게 값을 받는다 (완료)\n",
    "# input(), int()\n",
    "\n",
    "# 2. 사전에 환율을 정의해서 특정 변수에 할당해놓는다  (완료)\n",
    "# 변수 정의만 하면 됨\n",
    "\n",
    "# 3. 사용자에게 받은 값을 사전에 정의해놓은 환율과 계산한다\n",
    "# 연산자만 알면 됨\n",
    "\n",
    "# 4. 사용자의 값과 환율을 계산한 결과값을 출력한다\n",
    "# print()만 알면 됨\n",
    "\n",
    "price = (input(\"환전하고 싶은 달러를 입력해주세요, ex)100달러\"))\n",
    "exchange = 1112\n",
    "\n",
    "dollar = int(price.replace(\"달러\", \"\"))\n",
    "result = dollar * exchange\n",
    "\n",
    "print(f\"{result:,}원\")"
   ]
  },
  {
   "cell_type": "markdown",
   "id": "2b2062a6-1bde-4e27-9299-cbbdcd8409a6",
   "metadata": {},
   "source": [
    "- 달러의 환율을 1112원으로 설정, 위안화의 환율을 171원, 엔화의 환율을 1010원으로 설정을 하시되, 해당 화폐당 환율의 값을 딕셔너리라는 자료구조로 정의하시고, 사용자가 달러 혹은 엔화 혹은 위안화 값을 입력했을 때, 해당 값을 한화로 바꿔서 출력될 수 있도록 해주세요\n",
    "- ex) 100달러 => 111,200원 // 100위안 ==>> 17,100원"
   ]
  },
  {
   "cell_type": "code",
   "execution_count": 23,
   "id": "5ad9d464-1194-475e-a76b-b480bd7704fa",
   "metadata": {},
   "outputs": [
    {
     "name": "stdin",
     "output_type": "stream",
     "text": [
      "환전할 금액을 입력해주세요 100달러\n"
     ]
    },
    {
     "ename": "TypeError",
     "evalue": "slice indices must be integers or None or have an __index__ method",
     "output_type": "error",
     "traceback": [
      "\u001b[1;31m---------------------------------------------------------------------------\u001b[0m",
      "\u001b[1;31mTypeError\u001b[0m                                 Traceback (most recent call last)",
      "Cell \u001b[1;32mIn[23], line 3\u001b[0m\n\u001b[0;32m      1\u001b[0m \u001b[38;5;66;03m#값을 입력받는다\u001b[39;00m\n\u001b[0;32m      2\u001b[0m price \u001b[38;5;241m=\u001b[39m \u001b[38;5;28minput\u001b[39m(\u001b[38;5;124m\"\u001b[39m\u001b[38;5;124m환전할 금액을 입력해주세요\u001b[39m\u001b[38;5;124m\"\u001b[39m)\n\u001b[1;32m----> 3\u001b[0m price\u001b[38;5;241m.\u001b[39mfind(\u001b[38;5;124m\"\u001b[39m\u001b[38;5;124m달러\u001b[39m\u001b[38;5;124m\"\u001b[39m, \u001b[38;5;124m\"\u001b[39m\u001b[38;5;124m위안\u001b[39m\u001b[38;5;124m\"\u001b[39m, \u001b[38;5;124m\"\u001b[39m\u001b[38;5;124m엔\u001b[39m\u001b[38;5;124m\"\u001b[39m)\n\u001b[0;32m      5\u001b[0m \u001b[38;5;66;03m# 딕셔너리로 키랑 밸류값을 각 나라별 환전으로 정의한다\u001b[39;00m\n\u001b[0;32m      6\u001b[0m cash_dict \u001b[38;5;241m=\u001b[39m {\u001b[38;5;124m\"\u001b[39m\u001b[38;5;124m달러\u001b[39m\u001b[38;5;124m\"\u001b[39m:\u001b[38;5;241m1112\u001b[39m, \u001b[38;5;124m\"\u001b[39m\u001b[38;5;124m위안\u001b[39m\u001b[38;5;124m\"\u001b[39m:\u001b[38;5;241m171\u001b[39m, \u001b[38;5;124m\"\u001b[39m\u001b[38;5;124m엔\u001b[39m\u001b[38;5;124m\"\u001b[39m:\u001b[38;5;241m1010\u001b[39m}\n",
      "\u001b[1;31mTypeError\u001b[0m: slice indices must be integers or None or have an __index__ method"
     ]
    }
   ],
   "source": [
    "\n",
    "\n",
    "#값을 입력받는다\n",
    "price = input(\"환전할 금액을 입력해주세요\")\n",
    "price.find(\"달러\", \"위안\", \"엔\")ㅠ\n",
    "\n",
    "# 딕셔너리로 키랑 밸류값을 각 나라별 환전으로 정의한다\n",
    "cash_dict = {\"달러\":1112, \"위안\":171, \"엔\":1010}\n",
    "\n",
    "keys = cash_dict.keys()\n",
    "values = cash_dict.values()\n",
    "values1 = int(values)\n",
    "\n",
    "if keys == \"달러\" :\n",
    "    price*values1[0]    \n",
    "\n",
    "elif keys == \"위안\" :\n",
    "     price*values1[1]   \n",
    "\n",
    "elif keys == \"엔\" :\n",
    "     price*values1[2]       \n",
    "\n",
    "print(f\"{result:,}원\")"
   ]
  },
  {
   "cell_type": "code",
   "execution_count": 21,
   "id": "af68ef03-3180-4b29-8115-78d291547cd0",
   "metadata": {},
   "outputs": [
    {
     "name": "stdin",
     "output_type": "stream",
     "text": [
      "환전하고 싶은 금액 입력! 150엔화\n"
     ]
    },
    {
     "name": "stdout",
     "output_type": "stream",
     "text": [
      "151,500원\n"
     ]
    }
   ],
   "source": [
    "exchange_list = {\"달러\":1112, \"위안\":171, \"엔화\":1010}\n",
    "\n",
    "user_money = input(\"환전하고 싶은 금액 입력!\")\n",
    "\n",
    "#100달러\n",
    "\n",
    "if user_money[-2:] == \"달러\" :\n",
    "      print(f\"{exchange_list['달러'] * int(user_money[:-2]):,}원\")\n",
    "elif user_money[-2:] == \"위안\" :\n",
    "      print(f\"{exchange_list['위안'] * int(user_money[:-2]):,}원\")\n",
    "elif user_money[-2:] == \"엔화\" :\n",
    "      print(f\"{exchange_list['엔화'] * int(user_money[:-2]):,}원\")\n",
    "else :\n",
    "    print(\"달러, 위안, 엔화 중 하나를 입력해주세요!\")\n",
    "    #프로그래밍 언어에서 밖에 큰 따옴표가 있다면 안에는 무조건 작은 따옴표를 써야함"
   ]
  },
  {
   "cell_type": "code",
   "execution_count": null,
   "id": "43f33f2d-2fb8-4b8a-9a20-9757faadec30",
   "metadata": {},
   "outputs": [],
   "source": [
    "# 2~9단까지 => 1) 숫자 2부터 9까지 반복순회!! 2) 피연산자로 1부터 9까지 반복순회 2*1 = 2"
   ]
  },
  {
   "cell_type": "code",
   "execution_count": 28,
   "id": "178c6b55-72cf-4f2b-94ed-3144991d9022",
   "metadata": {},
   "outputs": [
    {
     "name": "stdout",
     "output_type": "stream",
     "text": [
      "-------------\n",
      "- 구구단 2단\n",
      "-------------\n",
      "2 x 1 = 2\n",
      "2 x 2 = 4\n",
      "2 x 3 = 6\n",
      "2 x 4 = 8\n",
      "2 x 5 = 10\n",
      "2 x 6 = 12\n",
      "2 x 7 = 14\n",
      "2 x 8 = 16\n",
      "2 x 9 = 18\n",
      "\n",
      "\n",
      "-------------\n",
      "- 구구단 3단\n",
      "-------------\n",
      "3 x 1 = 3\n",
      "3 x 2 = 6\n",
      "3 x 3 = 9\n",
      "3 x 4 = 12\n",
      "3 x 5 = 15\n",
      "3 x 6 = 18\n",
      "3 x 7 = 21\n",
      "3 x 8 = 24\n",
      "3 x 9 = 27\n",
      "\n",
      "\n",
      "-------------\n",
      "- 구구단 4단\n",
      "-------------\n",
      "4 x 1 = 4\n",
      "4 x 2 = 8\n",
      "4 x 3 = 12\n",
      "4 x 4 = 16\n",
      "4 x 5 = 20\n",
      "4 x 6 = 24\n",
      "4 x 7 = 28\n",
      "4 x 8 = 32\n",
      "4 x 9 = 36\n",
      "\n",
      "\n",
      "-------------\n",
      "- 구구단 5단\n",
      "-------------\n",
      "5 x 1 = 5\n",
      "5 x 2 = 10\n",
      "5 x 3 = 15\n",
      "5 x 4 = 20\n",
      "5 x 5 = 25\n",
      "5 x 6 = 30\n",
      "5 x 7 = 35\n",
      "5 x 8 = 40\n",
      "5 x 9 = 45\n",
      "\n",
      "\n",
      "-------------\n",
      "- 구구단 6단\n",
      "-------------\n",
      "6 x 1 = 6\n",
      "6 x 2 = 12\n",
      "6 x 3 = 18\n",
      "6 x 4 = 24\n",
      "6 x 5 = 30\n",
      "6 x 6 = 36\n",
      "6 x 7 = 42\n",
      "6 x 8 = 48\n",
      "6 x 9 = 54\n",
      "\n",
      "\n",
      "-------------\n",
      "- 구구단 7단\n",
      "-------------\n",
      "7 x 1 = 7\n",
      "7 x 2 = 14\n",
      "7 x 3 = 21\n",
      "7 x 4 = 28\n",
      "7 x 5 = 35\n",
      "7 x 6 = 42\n",
      "7 x 7 = 49\n",
      "7 x 8 = 56\n",
      "7 x 9 = 63\n",
      "\n",
      "\n",
      "-------------\n",
      "- 구구단 8단\n",
      "-------------\n",
      "8 x 1 = 8\n",
      "8 x 2 = 16\n",
      "8 x 3 = 24\n",
      "8 x 4 = 32\n",
      "8 x 5 = 40\n",
      "8 x 6 = 48\n",
      "8 x 7 = 56\n",
      "8 x 8 = 64\n",
      "8 x 9 = 72\n",
      "\n",
      "\n",
      "-------------\n",
      "- 구구단 9단\n",
      "-------------\n",
      "9 x 1 = 9\n",
      "9 x 2 = 18\n",
      "9 x 3 = 27\n",
      "9 x 4 = 36\n",
      "9 x 5 = 45\n",
      "9 x 6 = 54\n",
      "9 x 7 = 63\n",
      "9 x 8 = 72\n",
      "9 x 9 = 81\n",
      "\n",
      "\n"
     ]
    }
   ],
   "source": [
    "for num01 in range(2,10) :\n",
    "    print(\"-------------\")\n",
    "    print(f\"- 구구단 {num01}단\")\n",
    "    print(\"-------------\")\n",
    "    for num02 in range(1, 10) :\n",
    "        print(f\"{num01} x {num02} = {num01*num02}\")\n",
    "    print(\"\\n\")    "
   ]
  },
  {
   "cell_type": "markdown",
   "id": "75676bc7-e5a6-452b-a760-676c4f16a102",
   "metadata": {},
   "source": [
    "- 위에서 작성한 코드를 활용해서 다음과 같은 결과를 출력해주세요. 구구단 2~9단까지 출력하되, 계산된 결과값이 짝수인 경우만 출력해주세요! 예 3*3 = 9이기 때문에 출력되면 안 됨"
   ]
  },
  {
   "cell_type": "code",
   "execution_count": 41,
   "id": "3f307014-38d4-4373-b322-ebb1f47c45fe",
   "metadata": {},
   "outputs": [
    {
     "name": "stdout",
     "output_type": "stream",
     "text": [
      "-------------\n",
      "- 구구단 2단\n",
      "-------------\n",
      "2 x 1 = 2\n",
      "2 x 2 = 4\n",
      "2 x 3 = 6\n",
      "2 x 4 = 8\n",
      "2 x 5 = 10\n",
      "2 x 6 = 12\n",
      "2 x 7 = 14\n",
      "2 x 8 = 16\n",
      "2 x 9 = 18\n",
      "\n",
      "\n",
      "-------------\n",
      "- 구구단 3단\n",
      "-------------\n",
      "3 x 2 = 6\n",
      "3 x 4 = 12\n",
      "3 x 6 = 18\n",
      "3 x 8 = 24\n",
      "\n",
      "\n",
      "-------------\n",
      "- 구구단 4단\n",
      "-------------\n",
      "4 x 1 = 4\n",
      "4 x 2 = 8\n",
      "4 x 3 = 12\n",
      "4 x 4 = 16\n",
      "4 x 5 = 20\n",
      "4 x 6 = 24\n",
      "4 x 7 = 28\n",
      "4 x 8 = 32\n",
      "4 x 9 = 36\n",
      "\n",
      "\n",
      "-------------\n",
      "- 구구단 5단\n",
      "-------------\n",
      "5 x 2 = 10\n",
      "5 x 4 = 20\n",
      "5 x 6 = 30\n",
      "5 x 8 = 40\n",
      "\n",
      "\n",
      "-------------\n",
      "- 구구단 6단\n",
      "-------------\n",
      "6 x 1 = 6\n",
      "6 x 2 = 12\n",
      "6 x 3 = 18\n",
      "6 x 4 = 24\n",
      "6 x 5 = 30\n",
      "6 x 6 = 36\n",
      "6 x 7 = 42\n",
      "6 x 8 = 48\n",
      "6 x 9 = 54\n",
      "\n",
      "\n",
      "-------------\n",
      "- 구구단 7단\n",
      "-------------\n",
      "7 x 2 = 14\n",
      "7 x 4 = 28\n",
      "7 x 6 = 42\n",
      "7 x 8 = 56\n",
      "\n",
      "\n",
      "-------------\n",
      "- 구구단 8단\n",
      "-------------\n",
      "8 x 1 = 8\n",
      "8 x 2 = 16\n",
      "8 x 3 = 24\n",
      "8 x 4 = 32\n",
      "8 x 5 = 40\n",
      "8 x 6 = 48\n",
      "8 x 7 = 56\n",
      "8 x 8 = 64\n",
      "8 x 9 = 72\n",
      "\n",
      "\n",
      "-------------\n",
      "- 구구단 9단\n",
      "-------------\n",
      "9 x 2 = 18\n",
      "9 x 4 = 36\n",
      "9 x 6 = 54\n",
      "9 x 8 = 72\n",
      "\n",
      "\n"
     ]
    }
   ],
   "source": [
    "for num in range(2,10) :\n",
    "    print(\"-------------\")\n",
    "    print(f\"- 구구단 {num}단\")\n",
    "    print(\"-------------\")\n",
    "    for num1 in range (1,10) :\n",
    "        result = num*num1\n",
    "        if result % 2 == 0 :\n",
    "            print (f\"{num} x {num1} = {num*num1}\")\n",
    "    print(\"\\n\")"
   ]
  },
  {
   "cell_type": "markdown",
   "id": "2ff3d890-2b30-4ffd-9365-5fd72ca1478d",
   "metadata": {},
   "source": [
    "dongs = [\"6209동\", \"6208동\", \"6207동\"]\n",
    "hos = [\"101호\", \"102호\", \"103호\", \"104호\"]\n",
    "\n",
    "```\n",
    "6209동 101호\n",
    "6209동 102호\n",
    "6209동 103호\n",
    "6209동 104호\n",
    "\n",
    "6208동 101호\n",
    "6208동 102호\n",
    "6208동 103호\n",
    "6208동 104호\n",
    "\n",
    "6207동 101호\n",
    "6207동 102호\n",
    "6207동 103호\n",
    "6207동 104호\n",
    "```"
   ]
  },
  {
   "cell_type": "code",
   "execution_count": 45,
   "id": "7a019438-7904-4271-83b8-3c5792683ce6",
   "metadata": {},
   "outputs": [
    {
     "name": "stdout",
     "output_type": "stream",
     "text": [
      "6209동 101호\n",
      "6209동 102호\n",
      "6209동 103호\n",
      "6209동 104호\n",
      "\n",
      "6208동 101호\n",
      "6208동 102호\n",
      "6208동 103호\n",
      "6208동 104호\n",
      "\n",
      "6207동 101호\n",
      "6207동 102호\n",
      "6207동 103호\n",
      "6207동 104호\n",
      "\n"
     ]
    }
   ],
   "source": [
    "dongs = [\"6209동\", \"6208동\", \"6207동\"] \n",
    "hos = [\"101호\", \"102호\", \"103호\", \"104호\"]\n",
    "\n",
    "for dong in dongs :\n",
    "    for ho in hos :\n",
    "        print(dong,ho)\n",
    "    print()   "
   ]
  },
  {
   "cell_type": "code",
   "execution_count": 48,
   "id": "f1b2533e-d0c3-4b14-ba2a-7a9778b34065",
   "metadata": {},
   "outputs": [
    {
     "data": {
      "text/plain": [
       "('coding01', 'coding02', 'coding03', 'coading04')"
      ]
     },
     "execution_count": 48,
     "metadata": {},
     "output_type": "execute_result"
    }
   ],
   "source": [
    "tupledata = (\"coding01\", \"coding02\", \"coding03\")\n",
    "#temp_list = list(tupledata)\n",
    "#temp_list.append(\"coding04\")\n",
    "\n",
    "#result = tuple(temp_list)\n",
    "\n",
    "#tupleAdd = (\"coading04\")\n",
    "#result = tupledata + tupleAdd\n",
    "\n",
    "tuple(list(tupledata) + [\"coading04\"])"
   ]
  },
  {
   "cell_type": "markdown",
   "id": "1431add6-1216-48b6-a7cd-2756623479d2",
   "metadata": {},
   "source": [
    "- 딕셔너리 형태의 자료구조를 하나 만들어서 아래와 같이 값을 출력해주세요\n",
    "\n",
    "  ```\n",
    "  environment : 환경\n",
    "  company : 회사\n",
    "  goverment : 정부\n",
    "  face : 얼굴\n",
    "  ```"
   ]
  },
  {
   "cell_type": "code",
   "execution_count": 56,
   "id": "7d43de2a-fb77-4c46-9a8b-cfba88ccfcab",
   "metadata": {},
   "outputs": [
    {
     "name": "stdout",
     "output_type": "stream",
     "text": [
      "environment : 환경\n",
      "environment : 회사\n",
      "environment : 정부\n",
      "environment : 얼굴\n",
      "company : 환경\n",
      "company : 회사\n",
      "company : 정부\n",
      "company : 얼굴\n",
      "goverment : 환경\n",
      "goverment : 회사\n",
      "goverment : 정부\n",
      "goverment : 얼굴\n",
      "face : 환경\n",
      "face : 회사\n",
      "face : 정부\n",
      "face : 얼굴\n"
     ]
    }
   ],
   "source": [
    "word = {\"environment\":\"환경\", \"company\":\"회사\", \"goverment\":\"정부\", \"face\":\"얼굴\"}\n",
    "\n",
    "#딕셔너리로 값 바꿔서 리스트로 바꾸기\n",
    "wordk = word.keys()\n",
    "wordv= word.values()\n",
    "\n",
    "for words1 in wordk :\n",
    "    for words2 in wordv :\n",
    "        print(f\"{words1} : {words2}\")"
   ]
  },
  {
   "cell_type": "code",
   "execution_count": 59,
   "id": "f5d25197-8e4f-487b-8a2b-ecd67c5697dd",
   "metadata": {},
   "outputs": [
    {
     "name": "stdout",
     "output_type": "stream",
     "text": [
      "environment : 환경\n",
      "company : 회사\n",
      "goverment : 정부\n",
      "face : 얼굴\n"
     ]
    }
   ],
   "source": [
    "# data = {\n",
    "    \"environment\":\"환경\",\n",
    "    \"company\":\"회사\",\n",
    "    \"goverment\":\"정부\",\n",
    "    \"face\":\"얼굴\"\n",
    "}\n",
    "\n",
    "# for item in data.keys() :\n",
    "#    print(f\"{item} : {data[item]}\")"
   ]
  },
  {
   "cell_type": "code",
   "execution_count": null,
   "id": "1c262ed8-b3ff-4d94-bc7d-75d3f6d471f3",
   "metadata": {},
   "outputs": [],
   "source": [
    "data = {\n",
    "    \"environment\":[\"환경\",\"x\"]\n",
    "    \"company\":[\"회사\",\"o\"]\n",
    "    \"goverment\":[\"정부\", \"x\"]\n",
    "    \"face\":[\"얼굴\", \"x\"]\n",
    "}"
   ]
  },
  {
   "cell_type": "markdown",
   "id": "92f72ea2-bdf1-4f25-95bb-c525131890b1",
   "metadata": {},
   "source": [
    "- 사용자로부터 사전에 등록되어있는 단어들 중 1개를 입력 받으세요. 그러면 입력받은 단어의 경우, 외음표시 o 표시로 수정하고, 아직 외우지 못 한 단어들만 출력하는 프로그램 코드를 작성해주세요!!"
   ]
  },
  {
   "cell_type": "code",
   "execution_count": 62,
   "id": "3b045915-e386-479a-bbaf-78f1df234454",
   "metadata": {},
   "outputs": [
    {
     "name": "stdin",
     "output_type": "stream",
     "text": [
      "외운 단어를 입력해주세요 환경\n"
     ]
    },
    {
     "name": "stdout",
     "output_type": "stream",
     "text": [
      "dict_values([['환경', 'x'], ['회사', 'o'], ['정부', 'x'], ['얼굴', 'x']])\n"
     ]
    }
   ],
   "source": [
    "#단어 등록\n",
    "wordData = {\n",
    "    \"environment\":[\"환경\",\"x\"],\n",
    "    \"company\":[\"회사\",\"o\"],\n",
    "    \"goverment\":[\"정부\", \"x\"],\n",
    "    \"face\":[\"얼굴\", \"x\"]\n",
    "}\n",
    "\n",
    "#단어 입력받기\n",
    "# word = input(\"외운 단어를 입력해주세요\")\n",
    "\n",
    "#딕셔너리로 키와 밸류값을 정해주고, 밸류의 인덱스[1]과 비교하여 표시하고 싶음\n",
    "\n",
    "#wdk = wordData.keys()\n",
    "#wdv = wordData.values()\n",
    "#print(wdv)\n",
    " #if wdv["
   ]
  },
  {
   "cell_type": "code",
   "execution_count": 68,
   "id": "8ce57597-84ff-42a1-b143-704d9977ac7b",
   "metadata": {},
   "outputs": [
    {
     "name": "stdin",
     "output_type": "stream",
     "text": [
      "다 외운 단어 입력하기 dsga\n"
     ]
    },
    {
     "name": "stdout",
     "output_type": "stream",
     "text": [
      "사전에 존재하지 않은 단어입니다!\n"
     ]
    }
   ],
   "source": [
    "# 정답\n",
    "english = input(\"다 외운 단어 입력하기\")\n",
    "\n",
    "if english in data.keys() :\n",
    "    data[english][1] = \"o\"\n",
    "else :\n",
    "    print(\"사전에 존재하지 않은 단어입니다!\") #유효성검사\n",
    "\n",
    "for item in data.keys() :\n",
    "    data_list = data[item]\n",
    "    if data_list[1] == \"x\" :\n",
    "        print(item)"
   ]
  },
  {
   "cell_type": "markdown",
   "id": "e09734b8-686e-405b-b84f-005507c95824",
   "metadata": {},
   "source": [
    "- dict_all = {\"environment\":\"환경\", \"goverment\", \"정부\"}\n",
    "- dict2 = {\"company\":\"회사\", \"face\", \"얼굴\"}\n",
    "- dict3 = {\"apple\":\"사과\"}\n",
    "- dict_all 안에 dict2와 dict3 값을 모두 넣어주세요! 그리고 dict_all 값을 출력해주세요"
   ]
  },
  {
   "cell_type": "code",
   "execution_count": 73,
   "id": "c2849fff-c9c2-48f2-8d97-fe4f8ca0f35b",
   "metadata": {},
   "outputs": [
    {
     "data": {
      "text/plain": [
       "{'environment': '환경',\n",
       " 'goverment': '정부',\n",
       " 'company': '회사',\n",
       " 'face': '얼굴',\n",
       " 'apple': '사과'}"
      ]
     },
     "execution_count": 73,
     "metadata": {},
     "output_type": "execute_result"
    }
   ],
   "source": [
    "dict_all = {\"environment\":\"환경\", \"goverment\":\"정부\"}\n",
    "dict2 = {\"company\":\"회사\", \"face\":\"얼굴\"}\n",
    "dict3 = {\"apple\":\"사과\"}\n",
    "\n",
    "for item in dict2.keys() :\n",
    "    dict_all[item] = dict2[item]\n",
    "    \n",
    "for item in dict3.keys() :\n",
    "    dict_all[item] = dict3[item]\n",
    "\n",
    "dict_all\n"
   ]
  },
  {
   "cell_type": "code",
   "execution_count": 78,
   "id": "623b6f0f-dc34-4d84-8938-dd07dd9a4cb1",
   "metadata": {},
   "outputs": [
    {
     "data": {
      "text/plain": [
       "{1, 3, 4, 5, 6}"
      ]
     },
     "execution_count": 78,
     "metadata": {},
     "output_type": "execute_result"
    }
   ],
   "source": [
    "number_list = {1, 2, 3}\n",
    "number_list.add(4)\n",
    "#number_list.add(5,6)\n",
    "#set이라는 자료구조는 add()는 값을 추가할 수는 있으나 값을 하나에 한 번씩 밖에 주지 못 한다.\n",
    "\n",
    "number_list.update([5,6])\n",
    "#set이라는 자료구조는 복수의 값을 추가하고 싶을 때 이터러블한 값으로 추가해야 하기 때문에 리스트로 바꿔주면 됨\n",
    "\n",
    "number_list.remove(2)\n",
    "number_list"
   ]
  },
  {
   "cell_type": "markdown",
   "id": "6040fbbb-bba0-475a-9e3e-6de125d79abb",
   "metadata": {},
   "source": [
    "- 임의의 숫자 2개를 사용자에게 받으면 해당 2개에 숫자를 곱한 값을 반환하는 함수를 만들고, 해당 함수의 결과값을 화면에 출력해주세요"
   ]
  },
  {
   "cell_type": "code",
   "execution_count": 92,
   "id": "de2d5a0d-3a17-4939-b624-be04a1d073a7",
   "metadata": {},
   "outputs": [
    {
     "name": "stdin",
     "output_type": "stream",
     "text": [
      "숫자를 입력하세요! 5\n",
      "숫자를 입력하세요! 6\n"
     ]
    },
    {
     "name": "stdout",
     "output_type": "stream",
     "text": [
      "30\n"
     ]
    }
   ],
   "source": [
    "#number1 = int(input(\"숫자를 입력해주세요\"))\n",
    "#number2 = int(input(\"숫자를 입력해주세요\"))\n",
    "\n",
    "num_all = [int(input(\"숫자를 입력하세요!\")) for _ in range(2)]\n",
    "def multi (num1, num2) :\n",
    "   return num1 * num2\n",
    "\n",
    "print(multi(num_all[0], num_all[1]))"
   ]
  },
  {
   "cell_type": "markdown",
   "id": "6198dd60-3dde-4159-a8cf-ec5ee3e62be1",
   "metadata": {},
   "source": [
    "- 인자값 3개를 받을 수 있는 함수를 호출합니다.\n",
    "- func1(인자값1, 인자값2, 인자값3)\n",
    "- 해당 함수에 3번째 인자값 = 인자값3, + => 첫번째 인자값과 두번째 인자값을 더한 결과값을 반환하도록 해주시고 만약 3번째 인자값이 *라면, 첫번째 인자값과 두번째 인자값을 곱한 결과값을 반환해주세요, 그런데 만약에 인자값이 +도 아니고 *도 아니라면 무조건 0이라는 값을 반환하도록 하는 함수를 만들어주세요"
   ]
  },
  {
   "cell_type": "code",
   "execution_count": 95,
   "id": "2dd4f472-1878-42b6-a028-68e30d38efcd",
   "metadata": {},
   "outputs": [],
   "source": [
    "\n",
    "# 인자값 3개를 받을 수 있는 함수를 호출 \n",
    "\n",
    "def func1(a, b, c) :\n",
    "    num1 = int(input(\"숫자를 입력해주세요\")) \n",
    "    num1 = a\n",
    "    num2 = int(input(\"숫자를 입력해주세요\"))\n",
    "    num2 = b\n",
    "    str = (\"연산자를 입력해주세요\")\n",
    "    str = c\n",
    "    return \n",
    "    \n",
    "    if c == \"+\" :\n",
    "        print(a+b)\n",
    "    elif c == \"*\" :\n",
    "        print(a*b) \n",
    "    elif c != \"+\" and c!= \"*\" :\n",
    "        print(0)"
   ]
  },
  {
   "cell_type": "code",
   "execution_count": 97,
   "id": "507976b7-644f-49ea-b141-4663c48146e3",
   "metadata": {},
   "outputs": [
    {
     "name": "stdout",
     "output_type": "stream",
     "text": [
      "3 6 0\n"
     ]
    }
   ],
   "source": [
    "# 정답\n",
    "\n",
    "def calc(data1, data2, way) :\n",
    "    if way == \"+\" :\n",
    "        return data1 + data2\n",
    "    elif way == \"*\" :\n",
    "        return data1 * data2\n",
    "    else :\n",
    "        return 0\n",
    "\n",
    "data01 = calc(1, 2, \"+\")\n",
    "data02 = calc(3, 2, \"*\")\n",
    "data03 = calc(2, 4, \"-\")\n",
    "\n",
    "print(data01, data02, data03)"
   ]
  }
 ],
 "metadata": {
  "kernelspec": {
   "display_name": "Python 3 (ipykernel)",
   "language": "python",
   "name": "python3"
  },
  "language_info": {
   "codemirror_mode": {
    "name": "ipython",
    "version": 3
   },
   "file_extension": ".py",
   "mimetype": "text/x-python",
   "name": "python",
   "nbconvert_exporter": "python",
   "pygments_lexer": "ipython3",
   "version": "3.13.5"
  }
 },
 "nbformat": 4,
 "nbformat_minor": 5
}
