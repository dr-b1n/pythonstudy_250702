{
 "cells": [
  {
   "cell_type": "markdown",
   "id": "ff7e682a-e39d-4b00-bb96-b3f8284f09ef",
   "metadata": {},
   "source": [
    "### 자료구조 : set = 집합\n",
    "- 서로 다른 그룹간 연산 작업을 보다 쉽게 하기 위한 목적으로 탄생된 자료구조\n",
    "- set() // list() // tuple() // dict()\n",
    "- 리스트 (*각각의 세부값에 인덱스 값을 부여, 이터러블한 객체, 반복문 사용 가능)\n",
    "- 튜플 (*각각의 세부값에 인덱스 값을 부여, 이터러블한 객체, 반복문 사용 가능)\n",
    "- 딕셔너리 (*각각의 세부값에 인덱스 값을 부여 x, 이터러블한 객체 x, 반복문 사용 불가)\n",
    "- 세트(*이터러블한 객체임에는 분명하나, 인덱스 값을 부여받지 않는다, 반복문 사용 가능)\n",
    "*세트를 다른 언어에서는 유사배열이라고 한다\n",
    "- 크롤링 시, 찾아온 값이 거의 대부분 리스트의 형태로 들어옴 > 굳이 반복적으로 불필요하게 값을 찾아오는 경우가 부지기수 > 중복된 값을 하나로 정리하는 기능을 가장 많이 사용함"
   ]
  },
  {
   "cell_type": "code",
   "execution_count": 6,
   "id": "d4b59efc-b9a2-4a88-afbd-420f0b2d8217",
   "metadata": {},
   "outputs": [
    {
     "data": {
      "text/plain": [
       "set"
      ]
     },
     "execution_count": 6,
     "metadata": {},
     "output_type": "execute_result"
    }
   ],
   "source": [
    "data_set01 = set()\n",
    "type(data_set01)"
   ]
  },
  {
   "cell_type": "code",
   "execution_count": 7,
   "id": "5ddc7d14-a18b-4074-91f7-f77fa8dfdb52",
   "metadata": {},
   "outputs": [
    {
     "data": {
      "text/plain": [
       "{'apple', 'dell', 'lg', 'samsung'}"
      ]
     },
     "execution_count": 7,
     "metadata": {},
     "output_type": "execute_result"
    }
   ],
   "source": [
    "data_set02 = {\"apple\", \"dell\", \"samsung\", \"lg\"}\n",
    "data_set02\n",
    "\n",
    "#외관이 중괄호인데 속성의 형태를 띄고 있지 않다면 set()\n",
    "# set의 목적은 서로 다른 그룹간의 데이터가 어떠한 차이가 있는지 확인하기 위해서 쓰는 것"
   ]
  },
  {
   "cell_type": "code",
   "execution_count": 8,
   "id": "27c5caa5-1ef1-42a7-9243-5f9c3f35aaa2",
   "metadata": {},
   "outputs": [
    {
     "data": {
      "text/plain": [
       "{'a', 'e', 'l', 'p'}"
      ]
     },
     "execution_count": 8,
     "metadata": {},
     "output_type": "execute_result"
    }
   ],
   "source": [
    "data_set03 = set(\"apple\")\n",
    "data_set03\n",
    "# 단일값이기에 set으로 허용해준다"
   ]
  },
  {
   "cell_type": "code",
   "execution_count": 10,
   "id": "ff50b8c5-98aa-4289-b60c-6d201c556a1f",
   "metadata": {},
   "outputs": [
    {
     "data": {
      "text/plain": [
       "{'jyp', 'sm'}"
      ]
     },
     "execution_count": 10,
     "metadata": {},
     "output_type": "execute_result"
    }
   ],
   "source": [
    "# data_set03 = set(\"sm\", \"jyp\")\n",
    "{\"sm\", \"jyp\"}"
   ]
  },
  {
   "cell_type": "code",
   "execution_count": 11,
   "id": "4b51affd-80d5-4a63-9c8c-bd5e7ed61a28",
   "metadata": {},
   "outputs": [
    {
     "name": "stdout",
     "output_type": "stream",
     "text": [
      "lg\n",
      "dell\n",
      "apple\n",
      "samsung\n"
     ]
    }
   ],
   "source": [
    "for data in data_set02 :\n",
    "    print(data)"
   ]
  },
  {
   "cell_type": "code",
   "execution_count": 14,
   "id": "aa337e96-8132-4634-b27d-dddd21e8273f",
   "metadata": {},
   "outputs": [
    {
     "name": "stdout",
     "output_type": "stream",
     "text": [
      "False\n",
      "True\n"
     ]
    }
   ],
   "source": [
    "# data_set02[0]\n",
    "\n",
    "print(\"motorola\" in data_set02)\n",
    "print(\"apple\" in data_set02)"
   ]
  },
  {
   "cell_type": "code",
   "execution_count": 28,
   "id": "e7c8d976-dd6a-4ac0-90b0-2b943448fe19",
   "metadata": {},
   "outputs": [],
   "source": [
    "data04 = {\"피카츄\", \"라이츄\", \"꼬부기\"}"
   ]
  },
  {
   "cell_type": "code",
   "execution_count": 29,
   "id": "6b2b8a1f-df70-47ab-9021-a370e6a5db17",
   "metadata": {},
   "outputs": [],
   "source": [
    "data05 = {\"잠만보\", \"파이리\", \"피카츄\"}"
   ]
  },
  {
   "cell_type": "code",
   "execution_count": 30,
   "id": "475e7f24-b5d1-40c9-b302-0213d1ac62e3",
   "metadata": {},
   "outputs": [
    {
     "data": {
      "text/plain": [
       "{'피카츄'}"
      ]
     },
     "execution_count": 30,
     "metadata": {},
     "output_type": "execute_result"
    }
   ],
   "source": [
    "data04 & data05 # 교집합"
   ]
  },
  {
   "cell_type": "code",
   "execution_count": 33,
   "id": "b9298b44-b6ae-431c-afd2-61b135e38fe7",
   "metadata": {},
   "outputs": [
    {
     "data": {
      "text/plain": [
       "{'꼬부기', '라이츄', '잠만보', '파이리', '피카츄'}"
      ]
     },
     "execution_count": 33,
     "metadata": {},
     "output_type": "execute_result"
    }
   ],
   "source": [
    "data04 | data05 #합집합\n",
    "\n",
    "#set()은 데이터의 중복값을 덜어내기 위해서 탄생함"
   ]
  },
  {
   "cell_type": "code",
   "execution_count": 36,
   "id": "a1437952-2d31-4d12-a7f8-59cd764cb5fb",
   "metadata": {},
   "outputs": [
    {
     "data": {
      "text/plain": [
       "{'꼬부기', '라이츄'}"
      ]
     },
     "execution_count": 36,
     "metadata": {},
     "output_type": "execute_result"
    }
   ],
   "source": [
    "data04 - data05 #차집합"
   ]
  },
  {
   "cell_type": "code",
   "execution_count": 35,
   "id": "a9c43f32-40e3-4558-8102-e94256a5a67f",
   "metadata": {},
   "outputs": [
    {
     "data": {
      "text/plain": [
       "{'잠만보', '파이리'}"
      ]
     },
     "execution_count": 35,
     "metadata": {},
     "output_type": "execute_result"
    }
   ],
   "source": [
    "data05 - data04"
   ]
  },
  {
   "cell_type": "code",
   "execution_count": 38,
   "id": "ddbb7614-4d86-4131-ad05-a57a1638ddd6",
   "metadata": {},
   "outputs": [
    {
     "data": {
      "text/plain": [
       "{'꼬부기', '라이츄', '잠만보', '파이리'}"
      ]
     },
     "execution_count": 38,
     "metadata": {},
     "output_type": "execute_result"
    }
   ],
   "source": [
    "data04 ^ data05 #교집합을 제외한 나머지 집합들"
   ]
  }
 ],
 "metadata": {
  "kernelspec": {
   "display_name": "Python 3 (ipykernel)",
   "language": "python",
   "name": "python3"
  },
  "language_info": {
   "codemirror_mode": {
    "name": "ipython",
    "version": 3
   },
   "file_extension": ".py",
   "mimetype": "text/x-python",
   "name": "python",
   "nbconvert_exporter": "python",
   "pygments_lexer": "ipython3",
   "version": "3.13.5"
  }
 },
 "nbformat": 4,
 "nbformat_minor": 5
}
