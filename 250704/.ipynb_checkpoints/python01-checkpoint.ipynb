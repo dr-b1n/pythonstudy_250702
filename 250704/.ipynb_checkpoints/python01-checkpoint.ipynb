{
 "cells": [
  {
   "cell_type": "markdown",
   "id": "827237cf-80bf-4f6f-b38d-e0052d61da82",
   "metadata": {},
   "source": [
    "### 파이썬 자료구조\n",
    "- list > 하나의 그룹 안에 순번을 매겨서 값을 저장해놓은 형태 (*단일 값을 수정, 삭제 등을 변경 허용)\n",
    "- tuple > 하나의 그룹 안에 순번을 매겨서 값을 저장해놓은 형태 (*단일 값을 수정, 삭제 등 변경 허용x)\n",
    "- dictionary > 사전 (*단어: 뜻, 형태, 예시 등등 세부정보) => key(*단어) & value(*해당 단어에 대한 의미) => 속성 (*property)\n",
    "- CRUD > 웹 사이트 구현 정도 // 프로그램 난이도 // 고급언어인지, 저급언어인지 등을 구분\n",
    "- Create // Read // Update // Delete => 고급언어로 난이도 상단계 포지션\n",
    "- 프로그래밍 언어는 절대 정답 x = > 예제 문제 => 제가 문제를 해결한 방법 // 수강생 분들이 문제를 해결한 방법 => x\n",
    "- 2 => 1+1 / 10/5 / 2*1\n",
    "- 문자열 => 숫자 => 문법 해결\n",
    "- 문자열 => 문법 해결\n",
    "- 세상에 듣도보도 못한 어떤 문법체계를 가져와서 문제를 해결\n",
    "- 개발영역 => 결과가 도출된다면 모두 답 => 어떤 답이 \"효과\"적 || \"효율\"이 있는가?\n",
    "- 만들고자 하는 프로그램이 지향하는 것이 무엇이냐? => 안정성 // 속도// 메모리?\n",
    "- 얼마나 빠른 시간 내에 이 코드를 처리할 수 있는가? > 시간복잡도 라는 개념\n",
    "- 어떤 코드가 실행되는 데 있어서 얼만큼 빨리 처리하냐 => 빅오메가 // 빅세타 // 빅오 개념 => 컴퓨터의 성능차이에 따라서 빅오메가와 빅세타로 넘어갈 수 있다\n",
    "- 빅오 시간 체크 => 가장 많은 시간을 차지하는 것 하나를 체크 => 반복문"
   ]
  },
  {
   "cell_type": "code",
   "execution_count": 3,
   "id": "0c2dd0ce-16db-4e5e-9983-cc84e24ddcc2",
   "metadata": {},
   "outputs": [
    {
     "data": {
      "text/plain": [
       "{'name': 'David'}"
      ]
     },
     "execution_count": 3,
     "metadata": {},
     "output_type": "execute_result"
    }
   ],
   "source": [
    "dict1 = {\"name\" : \"David\"}\n",
    "dict1"
   ]
  },
  {
   "cell_type": "code",
   "execution_count": 12,
   "id": "ec743aed-5390-458e-82b7-25d5a9dcc1da",
   "metadata": {},
   "outputs": [
    {
     "data": {
      "text/plain": [
       "{'korean': 95, 'math': 100, 'science': 80}"
      ]
     },
     "execution_count": 12,
     "metadata": {},
     "output_type": "execute_result"
    }
   ],
   "source": [
    "dict2 = {\"korean\":95,\"math\":100, \"science\":80}\n",
    "dict2"
   ]
  },
  {
   "cell_type": "code",
   "execution_count": 41,
   "id": "e0d843a3-0f06-4b52-a18a-5f5c05ed42ac",
   "metadata": {},
   "outputs": [
    {
     "ename": "TypeError",
     "evalue": "'dict' object is not callable",
     "output_type": "error",
     "traceback": [
      "\u001b[1;31m---------------------------------------------------------------------------\u001b[0m",
      "\u001b[1;31mTypeError\u001b[0m                                 Traceback (most recent call last)",
      "Cell \u001b[1;32mIn[41], line 6\u001b[0m\n\u001b[0;32m      1\u001b[0m \u001b[38;5;66;03m# list1 = [] | [1,2] | list[]\u001b[39;00m\n\u001b[0;32m      2\u001b[0m \u001b[38;5;66;03m# tup1 = () | (1,2) | tuple()\u001b[39;00m\n\u001b[0;32m      3\u001b[0m \u001b[38;5;66;03m#{} => set 자료구조일 수도 있음\u001b[39;00m\n\u001b[0;32m      5\u001b[0m dict1 \u001b[38;5;241m=\u001b[39m {} \n\u001b[1;32m----> 6\u001b[0m dict2 \u001b[38;5;241m=\u001b[39m \u001b[38;5;28mdict\u001b[39m()\n\u001b[0;32m      8\u001b[0m \u001b[38;5;28mprint\u001b[39m(\u001b[38;5;28mtype\u001b[39m(dict2))\n",
      "\u001b[1;31mTypeError\u001b[0m: 'dict' object is not callable"
     ]
    }
   ],
   "source": [
    "# list1 = [] | [1,2] | list[]\n",
    "# tup1 = () | (1,2) | tuple()\n",
    "#{} => set 자료구조일 수도 있음\n",
    "\n",
    "dict1 = {} \n",
    "dict2 = dict()\n",
    "\n",
    "print(type(dict2))"
   ]
  },
  {
   "cell_type": "code",
   "execution_count": 34,
   "id": "db0732b9-50dd-4956-8c07-c6eb10066487",
   "metadata": {},
   "outputs": [],
   "source": [
    "data_dict = {\"한국\":\"KR\", \"일본\":\"JP\", \"중국\":\"CN\"}"
   ]
  },
  {
   "cell_type": "code",
   "execution_count": 35,
   "id": "d5bca825-db65-4268-b3dd-7cee344d4958",
   "metadata": {},
   "outputs": [
    {
     "data": {
      "text/plain": [
       "'KR'"
      ]
     },
     "execution_count": 35,
     "metadata": {},
     "output_type": "execute_result"
    }
   ],
   "source": [
    "data_dict[\"한국\"]"
   ]
  },
  {
   "cell_type": "code",
   "execution_count": 36,
   "id": "6b274a35-fb10-43a5-9f38-a67ccadc5a06",
   "metadata": {},
   "outputs": [],
   "source": [
    "data_dict[\"미국\"] = \"US\""
   ]
  },
  {
   "cell_type": "code",
   "execution_count": 37,
   "id": "cb5f2063-c8c0-400c-890c-b87134095d1a",
   "metadata": {},
   "outputs": [
    {
     "data": {
      "text/plain": [
       "{'한국': 'KR', '일본': 'JP', '중국': 'CN', '미국': 'US'}"
      ]
     },
     "execution_count": 37,
     "metadata": {},
     "output_type": "execute_result"
    }
   ],
   "source": [
    "data_dict"
   ]
  },
  {
   "cell_type": "code",
   "execution_count": 38,
   "id": "2d0db595-8aea-43c8-ad16-4d4c6db149ec",
   "metadata": {},
   "outputs": [],
   "source": [
    "del data_dict[\"일본\"]"
   ]
  },
  {
   "cell_type": "code",
   "execution_count": 39,
   "id": "96de00cd-a1b0-41bd-b640-e5988bc8cf74",
   "metadata": {},
   "outputs": [],
   "source": [
    "data_dict[\"미국\"] = \"USA\""
   ]
  },
  {
   "cell_type": "code",
   "execution_count": 40,
   "id": "7bc62425-be15-4488-b80f-d0972a60a308",
   "metadata": {},
   "outputs": [
    {
     "data": {
      "text/plain": [
       "{'한국': 'KR', '중국': 'CN', '미국': 'USA'}"
      ]
     },
     "execution_count": 40,
     "metadata": {},
     "output_type": "execute_result"
    }
   ],
   "source": [
    "data_dict"
   ]
  },
  {
   "cell_type": "code",
   "execution_count": 25,
   "id": "de3e0630-884d-4223-bd49-25396c114423",
   "metadata": {},
   "outputs": [
    {
     "name": "stdout",
     "output_type": "stream",
     "text": [
      "dict_keys(['한국', '중국', '미국'])\n",
      "type[dict_keys(['한국', '중국', '미국'])]\n"
     ]
    }
   ],
   "source": [
    "keys = data_dict.keys()\n",
    "print(keys)\n",
    "print(type[keys]) \n",
    "\n",
    "#dictionary 객체가 가지고 있는 메소드들을 분류해야 반복문으로 돌릴 수 있음\n",
    "# keys, values는 반환값이 리스트로 반환해줌\n",
    "# items는 리스트가 아닌 tuple 형태로 반환해준다"
   ]
  },
  {
   "cell_type": "code",
   "execution_count": 27,
   "id": "06cadcdd-46b7-4365-8a5b-243fb4e8ffef",
   "metadata": {},
   "outputs": [
    {
     "name": "stdout",
     "output_type": "stream",
     "text": [
      "dict_values(['KR', 'CN', 'USA'])\n"
     ]
    }
   ],
   "source": [
    "values = data_dict.values()\n",
    "print(values)"
   ]
  },
  {
   "cell_type": "code",
   "execution_count": 28,
   "id": "c187214b-d2f7-498a-8437-5e02d1279463",
   "metadata": {},
   "outputs": [
    {
     "name": "stdout",
     "output_type": "stream",
     "text": [
      "dict_items([('한국', 'KR'), ('중국', 'CN'), ('미국', 'USA')])\n"
     ]
    }
   ],
   "source": [
    "items = data_dict.items()\n",
    "print(items)"
   ]
  },
  {
   "cell_type": "code",
   "execution_count": 42,
   "id": "a11c9db5-b876-4255-9db8-20997c6555fd",
   "metadata": {},
   "outputs": [
    {
     "name": "stdout",
     "output_type": "stream",
     "text": [
      "한국\n",
      "중국\n",
      "미국\n"
     ]
    }
   ],
   "source": [
    "for key in keys :\n",
    "    print(key)"
   ]
  },
  {
   "cell_type": "code",
   "execution_count": 43,
   "id": "cc90fc45-c5bf-4304-b363-8d598e15e1a7",
   "metadata": {},
   "outputs": [
    {
     "name": "stdout",
     "output_type": "stream",
     "text": [
      "('한국', 'KR')\n",
      "('중국', 'CN')\n",
      "('미국', 'US')\n"
     ]
    }
   ],
   "source": [
    "for item in items :\n",
    "    print(item)"
   ]
  },
  {
   "cell_type": "markdown",
   "id": "665f8cf2-2483-42a6-a730-81e65c43fdd6",
   "metadata": {},
   "source": [
    "#### 리스트\n"
   ]
  },
  {
   "cell_type": "markdown",
   "id": "b7371f5f-139d-4e86-bc4f-00e5dcc89d65",
   "metadata": {},
   "source": [
    "- HTML 문서상에 제목이 여러 개 있는 경우"
   ]
  },
  {
   "cell_type": "code",
   "execution_count": 47,
   "id": "ad59809c-4bdc-46b5-8810-052af416ad2b",
   "metadata": {},
   "outputs": [
    {
     "name": "stdout",
     "output_type": "stream",
     "text": [
      "뉴스A\n",
      "뉴스B\n",
      "뉴스C\n",
      "뉴스A\n"
     ]
    }
   ],
   "source": [
    "titles = [\"뉴스A\", \"뉴스B\", \"뉴스C\", \"뉴스A\"]\n",
    "\n",
    "for title in titles :\n",
    "    print(title)"
   ]
  },
  {
   "cell_type": "markdown",
   "id": "9fb80515-2e31-49e8-b5c3-a21659f9c24c",
   "metadata": {},
   "source": [
    "### 딕셔너리"
   ]
  },
  {
   "cell_type": "code",
   "execution_count": 48,
   "id": "a5c9b3cc-9c0c-4965-91d0-d6125c07f5fa",
   "metadata": {},
   "outputs": [
    {
     "ename": "NameError",
     "evalue": "name 'article01' is not defined",
     "output_type": "error",
     "traceback": [
      "\u001b[1;31m---------------------------------------------------------------------------\u001b[0m",
      "\u001b[1;31mNameError\u001b[0m                                 Traceback (most recent call last)",
      "Cell \u001b[1;32mIn[48], line 14\u001b[0m\n\u001b[0;32m      6\u001b[0m article02 \u001b[38;5;241m=\u001b[39m {\n\u001b[0;32m      7\u001b[0m     \u001b[38;5;124m\"\u001b[39m\u001b[38;5;124mtitle\u001b[39m\u001b[38;5;124m\"\u001b[39m : \u001b[38;5;124m\"\u001b[39m\u001b[38;5;124m뉴스B\u001b[39m\u001b[38;5;124m\"\u001b[39m, \n\u001b[0;32m      8\u001b[0m     \u001b[38;5;124m\"\u001b[39m\u001b[38;5;124mlink\u001b[39m\u001b[38;5;124m\"\u001b[39m:\u001b[38;5;124m\"\u001b[39m\u001b[38;5;124mhttps://www.naver.com\u001b[39m\u001b[38;5;124m\"\u001b[39m\n\u001b[0;32m      9\u001b[0m     \n\u001b[0;32m     10\u001b[0m }\n\u001b[0;32m     11\u001b[0m \u001b[38;5;66;03m# 딕셔너리의 특성: 속성을 원하는 갯수만큼 만들 수 있음\u001b[39;00m\n\u001b[0;32m     12\u001b[0m \u001b[38;5;66;03m# 속성이 여러 개 있을 경우 개행하여 가독성이 좋게 해줌\u001b[39;00m\n\u001b[1;32m---> 14\u001b[0m articleList \u001b[38;5;241m=\u001b[39m [article01, article02]\n",
      "\u001b[1;31mNameError\u001b[0m: name 'article01' is not defined"
     ]
    }
   ],
   "source": [
    "article = {\n",
    "    \"title\" : \"뉴스A\", \n",
    "    \"link\":\"https://www.naver.com\"\n",
    "    \n",
    "}\n",
    "article02 = {\n",
    "    \"title\" : \"뉴스B\", \n",
    "    \"link\":\"https://www.naver.com\"\n",
    "    \n",
    "}\n",
    "# 딕셔너리의 특성: 속성을 원하는 갯수만큼 만들 수 있음\n",
    "# 속성이 여러 개 있을 경우 개행하여 가독성이 좋게 해줌\n",
    "\n",
    "articleList = [article01, article02]"
   ]
  }
 ],
 "metadata": {
  "kernelspec": {
   "display_name": "Python 3 (ipykernel)",
   "language": "python",
   "name": "python3"
  },
  "language_info": {
   "codemirror_mode": {
    "name": "ipython",
    "version": 3
   },
   "file_extension": ".py",
   "mimetype": "text/x-python",
   "name": "python",
   "nbconvert_exporter": "python",
   "pygments_lexer": "ipython3",
   "version": "3.13.5"
  }
 },
 "nbformat": 4,
 "nbformat_minor": 5
}
