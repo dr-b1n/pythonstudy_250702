{
 "cells": [
  {
   "cell_type": "markdown",
   "id": "9468feae-1b10-4647-a57c-887fbe420cb3",
   "metadata": {},
   "source": [
    "### 웹 사이트 데이터를 크롤링 해오자\n",
    "- 크롤링: 마치 동물의 발톱 혹은 갈퀴로 어떤 정보를 잡아채온다는 개념\n",
    "- 크롤링은 파이썬에서만 할 수 있나요? x, 파이썬이 아닌 언어로도 충분히 예전부터 할 수 있는 기능이었음\n",
    "- 파이썬은 문법이 타 언어대비 굉장히 심플 & 간소 => 초심자가 학습하기에 매우 적절\n",
    "- 꼭 굳이 개발자가 아니더라도 비개발자가 보다 쉽고 간편하고 빠르게 개발언어를 활용해서 크롤링을 할 수 있도록 도와주는 거의 유일한 언어\n",
    "- 왜 다른 언어는 굳이 복잡한 것일까? => 파이썬 언어는 내부 혹은 외부 라이브러리 소스를 가져다가 사용할 수 있는 기회 혹은 상황이 정말 많음\n",
    "- beautifulsoup4 : 아래에 requests를 통해서 찾아온 HTML 문서를 파싱\n",
    "  *파싱(parsing):\n",
    "  근래에는 beautifilsoup4에서는 크롤링 하기가 많이 어려워짐, 왜?\n",
    "  1. 웹 시장 자체가 static(정적인)한 분위기였음 > 웹페이지가 동적인 사이트로 바뀌게 됨\n",
    "  2. 결국 JS를 많이 사용해야 했었는데, 사이트를 구현하는데 시간이 많이 걸리게됨\n",
    "  3. 그래서 meta가 만들어게 된 언어가 React\n",
    "  4. 셀레니움, 스크래피 > 프레임워크\n",
    "- 프레임워크와 라이브러리는 무엇인가 ?\n",
    "- request : 크롤링 해오고자 하는 웹 사이트를 요청 => html 문서 안에 있는 코드를 가져오는 역할"
   ]
  },
  {
   "cell_type": "code",
   "execution_count": 3,
   "id": "e0bf6f46-7c00-4b62-9269-d7f20bf4d639",
   "metadata": {},
   "outputs": [
    {
     "name": "stdout",
     "output_type": "stream",
     "text": [
      "Requirement already satisfied: requests in c:\\users\\user\\anaconda3\\lib\\site-packages (2.32.3)\n",
      "Requirement already satisfied: charset-normalizer<4,>=2 in c:\\users\\user\\anaconda3\\lib\\site-packages (from requests) (3.3.2)\n",
      "Requirement already satisfied: idna<4,>=2.5 in c:\\users\\user\\anaconda3\\lib\\site-packages (from requests) (3.7)\n",
      "Requirement already satisfied: urllib3<3,>=1.21.1 in c:\\users\\user\\anaconda3\\lib\\site-packages (from requests) (2.3.0)\n",
      "Requirement already satisfied: certifi>=2017.4.17 in c:\\users\\user\\anaconda3\\lib\\site-packages (from requests) (2025.4.26)\n",
      "Note: you may need to restart the kernel to use updated packages.\n"
     ]
    }
   ],
   "source": [
    "pip install requests "
   ]
  },
  {
   "cell_type": "code",
   "execution_count": 4,
   "id": "c5db270b-7a4c-4a67-b6a3-304915cfb561",
   "metadata": {},
   "outputs": [
    {
     "name": "stdout",
     "output_type": "stream",
     "text": [
      "Requirement already satisfied: beautifulsoup4 in c:\\users\\user\\anaconda3\\lib\\site-packages (4.12.3)\n",
      "Requirement already satisfied: soupsieve>1.2 in c:\\users\\user\\anaconda3\\lib\\site-packages (from beautifulsoup4) (2.5)\n",
      "Note: you may need to restart the kernel to use updated packages.\n"
     ]
    }
   ],
   "source": [
    "pip install beautifulsoup4"
   ]
  },
  {
   "cell_type": "code",
   "execution_count": 6,
   "id": "f1d3ca46-def9-4d8c-8607-9661ff9ad624",
   "metadata": {},
   "outputs": [
    {
     "name": "stdout",
     "output_type": "stream",
     "text": [
      "Requirement already satisfied: requests in c:\\users\\user\\anaconda3\\lib\\site-packages (2.32.3)Note: you may need to restart the kernel to use updated packages.\n",
      "\n",
      "Requirement already satisfied: beautifulsoup4 in c:\\users\\user\\anaconda3\\lib\\site-packages (4.12.3)\n",
      "Requirement already satisfied: charset-normalizer<4,>=2 in c:\\users\\user\\anaconda3\\lib\\site-packages (from requests) (3.3.2)\n",
      "Requirement already satisfied: idna<4,>=2.5 in c:\\users\\user\\anaconda3\\lib\\site-packages (from requests) (3.7)\n",
      "Requirement already satisfied: urllib3<3,>=1.21.1 in c:\\users\\user\\anaconda3\\lib\\site-packages (from requests) (2.3.0)\n",
      "Requirement already satisfied: certifi>=2017.4.17 in c:\\users\\user\\anaconda3\\lib\\site-packages (from requests) (2025.4.26)\n",
      "Requirement already satisfied: soupsieve>1.2 in c:\\users\\user\\anaconda3\\lib\\site-packages (from beautifulsoup4) (2.5)\n"
     ]
    }
   ],
   "source": [
    "pip install requests beautifulsoup4\n",
    "\n",
    "## 한 번에 설치해야하면 이렇게"
   ]
  },
  {
   "cell_type": "code",
   "execution_count": 22,
   "id": "e027df39-8367-42c4-a2b8-a6a893e00cf3",
   "metadata": {},
   "outputs": [
    {
     "name": "stdout",
     "output_type": "stream",
     "text": [
      "1번째 상품 / 상품 카테고리 => 매트리스커버 관련 상품 추천 / 상품이미지 =>  https://static.coupangcdn.com/image/retail/images/2017/10/11/16/6/bf3b2157-528d-4b24-9991-b601a24f4c6f.jpg\n",
      "2번째 상품 / 상품 카테고리 => 매트리스커버 관련 상품 추천 / 상품이미지 =>  https://static.coupangcdn.com/image/product/image/vendoritem/2018/11/28/3647689009/d72a996d-1e4e-42be-a23c-f9f6872214bb.jpg\n",
      "3번째 상품 / 상품 카테고리 => 매트리스커버 관련 상품 추천 / 상품이미지 =>  https://static.coupangcdn.com/image/product/image/vendoritem/2019/06/11/3361297461/699c49cc-5f9f-4927-ab26-b184f90c1571.jpg\n",
      "4번째 상품 / 상품 카테고리 => 매트리스커버 관련 상품 추천 / 상품이미지 =>  https://static.coupangcdn.com/image/retail/images/2018/10/26/16/9/c6dfa004-442c-4f48-9ff1-b76d81bae046.jpg\n",
      "5번째 상품 / 상품 카테고리 => 매트리스커버 관련 상품 추천 / 상품이미지 =>  https://static.coupangcdn.com/image/retail/images/2019/04/01/22/6/f9566f49-cf8c-48dd-bc73-b543a3f47f62.jpg\n",
      "6번째 상품 / 상품 카테고리 => 매트리스커버 관련 상품 추천 / 상품이미지 =>  https://static.coupangcdn.com/image/retail/images/12859794410743-0ab1b2fe-1cd4-4599-b38a-3fb22f3bf620.jpg\n",
      "7번째 상품 / 상품 카테고리 => 매트리스커버 관련 상품 추천 / 상품이미지 =>  https://static.coupangcdn.com/image/retail/images/2019/03/28/19/3/2d9f9b52-0cc9-424f-8639-8f298429d244.jpg\n",
      "8번째 상품 / 상품 카테고리 => 매트리스커버 관련 상품 추천 / 상품이미지 =>  https://static.coupangcdn.com/image/retail/images/2017/10/19/15/4/95b93d25-7014-458a-a2a5-9b93189cdcef.jpg\n",
      "9번째 상품 / 상품 카테고리 => 행거도어 관련 상품 추천 / 상품이미지 =>  https://static.coupangcdn.com/image/retail/images/2019/07/29/12/3/704931d7-4dbd-4af7-9247-856831bdc61e.jpg\n",
      "10번째 상품 / 상품 카테고리 => 매트리스커버 관련 상품 추천 / 상품이미지 =>  https://static.coupangcdn.com/image/retail/images/2017/10/13/10/3/8379ffd3-63be-4da4-98f9-895aaa0c9b52.jpg\n",
      "11번째 상품 / 상품 카테고리 => 매트리스커버 관련 상품 추천 / 상품이미지 =>  https://static.coupangcdn.com/image/retail/images/2018/09/17/19/4/329dbb2f-a0ad-44d4-af46-1eea0c548b67.jpg\n",
      "12번째 상품 / 상품 카테고리 => 매트리스커버 관련 상품 추천 / 상품이미지 =>  https://static.coupangcdn.com/image/retail/images/339338956730835-5cbe0521-2a03-4fe2-8eb7-7a7ae9ff187f.jpg\n"
     ]
    }
   ],
   "source": [
    "import requests\n",
    "from bs4 import BeautifulSoup\n",
    "\n",
    "url = \"https://davelee-fun.github.io\"\n",
    "response = requests.get(url) \n",
    "# requests라는 객체는 get()함수를 통해서 사이트의 인자값을 찾아옴\n",
    "soup = BeautifulSoup(response.text, \"html.parser\")\n",
    "#html.parser = 문자열이긴 하지만, 이러한 형태로서 text를 찾아오라는 명령어\n",
    "#해당 사이트 들어가서 제품 선택하여 이미지에 검사 누르기\n",
    "\n",
    "cards = soup.select(\"div.maxthumb img\")\n",
    "#\"div.maxthumb img\" : 한 칸 띄우고 하는 건 후손 클래스를 찾아와달라는 것\n",
    "# 직계를 찾고 싶으면 div.maxthumb > img로 해야함\n",
    "#리스트의 자료형태로 끌어와줌\n",
    "\n",
    "\n",
    "card_data = []\n",
    "\n",
    "\n",
    "for idx, card in enumerate(cards, start=1) :\n",
    "    # print(card)\n",
    "    # print(card.get(\"src\"))  # 링크만 찾아와줌\n",
    "    # print(card.get(\"alt\", \"제목 없음\").strip()) \n",
    "    # print(card.get(\"src\", \"\").strip()) #핵심적인 문자열만 갖고 오겠다\n",
    "    # enum : 숫자 형태의 무언가를 카운트해줌\n",
    "    # enumerate() : 해당 값의 인덱스값을 찾아와준다(인자값들을 넘버링해주기 위한 함수)\n",
    "    # start=1 : 인덱스값을 1부터 시작하라고 설정해주는 것\n",
    "    title = card.get(\"alt\", \"제목 없음\").strip()\n",
    "    img_url = card.get(\"src\", \"\").strip()\n",
    "\n",
    "    card_info = (idx, title, img_url)\n",
    "    #카드 정보와 이미지가 튜플의 형태로 갖고 있고\n",
    "    card_data.append(card_info)\n",
    "    #튜플로 구성된 데이터들을 리스트로 만들어줌\n",
    "\n",
    "for item in card_data :\n",
    "    print(f\"{item[0]}번째 상품 / 상품 카테고리 => {item[1]} / 상품이미지 =>  {item[2]}\")"
   ]
  }
 ],
 "metadata": {
  "kernelspec": {
   "display_name": "Python 3 (ipykernel)",
   "language": "python",
   "name": "python3"
  },
  "language_info": {
   "codemirror_mode": {
    "name": "ipython",
    "version": 3
   },
   "file_extension": ".py",
   "mimetype": "text/x-python",
   "name": "python",
   "nbconvert_exporter": "python",
   "pygments_lexer": "ipython3",
   "version": "3.13.5"
  }
 },
 "nbformat": 4,
 "nbformat_minor": 5
}
