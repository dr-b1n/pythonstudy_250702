{
 "cells": [
  {
   "cell_type": "code",
   "execution_count": 1,
   "id": "088b58b6-7dc6-4429-8862-f656992ce3b8",
   "metadata": {},
   "outputs": [
    {
     "name": "stdout",
     "output_type": "stream",
     "text": [
      "Hello world\n"
     ]
    }
   ],
   "source": [
    "print(\"Hello world\")"
   ]
  },
  {
   "cell_type": "code",
   "execution_count": 5,
   "id": "8e2d63f2-0603-450e-8fc2-b667e8a1ff2d",
   "metadata": {},
   "outputs": [
    {
     "name": "stdout",
     "output_type": "stream",
     "text": [
      "3.1415\n"
     ]
    }
   ],
   "source": [
    "num = 3.1415\n",
    "\n",
    "print(format(num,\".1f\"))"
   ]
  },
  {
   "cell_type": "code",
   "execution_count": 8,
   "id": "8a55486f-05bf-4032-b6bc-43dc3c2a0519",
   "metadata": {},
   "outputs": [
    {
     "name": "stdout",
     "output_type": "stream",
     "text": [
      "720\n"
     ]
    }
   ],
   "source": [
    "str = \"720\"\n",
    "\n",
    "print(int(str))"
   ]
  },
  {
   "cell_type": "code",
   "execution_count": null,
   "id": "9c1639c5-2f98-426d-8862-3d73f42be95f",
   "metadata": {},
   "outputs": [],
   "source": [
    "print(6**2)"
   ]
  },
  {
   "cell_type": "code",
   "execution_count": null,
   "id": "f0b7c762-936f-419b-9e8b-ba0ecd7c533f",
   "metadata": {},
   "outputs": [],
   "source": [
    "num1 = print((f\"첫번째 숫자를 입력하시오{input()}\"))\n",
    "num2 = print((f\"두번째 숫자를 입력하시오{input()}\"))\n",
    "\n",
    "num3 = (num1+num2)\n",
    "print(num3)"
   ]
  }
 ],
 "metadata": {
  "kernelspec": {
   "display_name": "Python 3 (ipykernel)",
   "language": "python",
   "name": "python3"
  },
  "language_info": {
   "codemirror_mode": {
    "name": "ipython",
    "version": 3
   },
   "file_extension": ".py",
   "mimetype": "text/x-python",
   "name": "python",
   "nbconvert_exporter": "python",
   "pygments_lexer": "ipython3",
   "version": "3.13.5"
  }
 },
 "nbformat": 4,
 "nbformat_minor": 5
}
