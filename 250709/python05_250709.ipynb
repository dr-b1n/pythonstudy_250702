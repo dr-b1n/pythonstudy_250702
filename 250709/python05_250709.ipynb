{
 "cells": [
  {
   "cell_type": "code",
   "execution_count": 8,
   "id": "da27d305-f213-4391-b5df-230b5d4be3d9",
   "metadata": {},
   "outputs": [
    {
     "name": "stdout",
     "output_type": "stream",
     "text": [
      "잔금대출에도 DTI 규제 적용 검토\n"
     ]
    }
   ],
   "source": [
    "import requests\n",
    "from bs4 import BeautifulSoup\n",
    "\n",
    "res = requests.get(\"https://v.daum.net/v/20170615203441266\")\n",
    "soup = BeautifulSoup(res.content, \"html.parser\")\n",
    "\n",
    "\n",
    "data = soup.find(\"h3\", class_ = \"tit_view\")\n",
    "print(data.string)"
   ]
  },
  {
   "cell_type": "code",
   "execution_count": 17,
   "id": "ee325b16-cecd-426d-b6c6-bc350e032313",
   "metadata": {},
   "outputs": [
    {
     "name": "stdout",
     "output_type": "stream",
     "text": [
      "잔금대출에도 DTI 규제 적용 검토\n"
     ]
    }
   ],
   "source": [
    "# 정답\n",
    "\n",
    "import requests\n",
    "from bs4 import BeautifulSoup\n",
    "\n",
    "res = requests.get(\"https://v.daum.net/v/20170615203441266\")\n",
    "soup = BeautifulSoup(res.content, \"html.parser\")\n",
    "\n",
    "# 문법상 오류가 아닌 문맥상 오류 mydata = soup.find(\"h3\", attrs = {\"class\" : \"tit_view01\"}) \n",
    "mydata = soup.find(\"h3\", attrs = {\"class\" : \"tit_view\"}) \n",
    "print(mydata.string)"
   ]
  },
  {
   "cell_type": "code",
   "execution_count": 20,
   "id": "ae3e21aa-c9a1-4ea8-9b67-16500bb57057",
   "metadata": {},
   "outputs": [
    {
     "name": "stdout",
     "output_type": "stream",
     "text": [
      "2017. 6. 15. 20:34\n"
     ]
    }
   ],
   "source": [
    "import requests\n",
    "from bs4 import BeautifulSoup\n",
    "\n",
    "res1 = requests.get(\"https://v.daum.net/v/20170615203441266\")\n",
    "soup1 = BeautifulSoup(res1.content, \"html.parser\")\n",
    "\n",
    "data1 = soup.find(\"span\", attrs = {\"class\" : \"num_date\"})\n",
    "print(data1.string)"
   ]
  },
  {
   "cell_type": "code",
   "execution_count": 26,
   "id": "aab4e878-eaa2-4763-b8c2-0d19d0bfc527",
   "metadata": {},
   "outputs": [
    {
     "name": "stdout",
     "output_type": "stream",
     "text": [
      "2017. 6. 15. 20:34\n"
     ]
    }
   ],
   "source": [
    "# 정답\n",
    "\n",
    "import requests\n",
    "from bs4 import BeautifulSoup\n",
    "\n",
    "res = requests.get(\"https://v.daum.net/v/20170615203441266\")\n",
    "soup = BeautifulSoup(res.content, \"html.parser\")\n",
    "\n",
    "# mydata = soup.find(\"span\", class_=\"num_date\")\n",
    "# print(mydata.string)\n",
    "\n",
    "mydata = soup.find_all(\"span\", class_ = \"txt_info\")\n",
    "\n",
    "print(mydata[1].get_text())"
   ]
  },
  {
   "cell_type": "markdown",
   "id": "62718701-e88b-4bd9-8cff-1c5333b3b29e",
   "metadata": {},
   "source": [
    "###### 해당 문서에서 li 태그이면서 course라는 클래스값을 가지고 있는 요소들의 텍스트만 크롤링해서 주피터 노트북에 출력해주세요"
   ]
  },
  {
   "cell_type": "code",
   "execution_count": 42,
   "id": "edd03d91-c7a4-44b5-a3e7-2a33e16004ce",
   "metadata": {},
   "outputs": [
    {
     "name": "stdout",
     "output_type": "stream",
     "text": [
      "\n",
      "\n",
      "(왕초보) - 클래스 소개\n",
      "\n",
      "\n"
     ]
    }
   ],
   "source": [
    "import requests\n",
    "from bs4 import BeautifulSoup\n",
    "\n",
    "res = requests.get(\"https://crawlingtest.netlify.app/\")\n",
    "soup = BeautifulSoup(res.content, \"html.parser\")\n",
    "\n",
    "data = soup.find(\"li\", attrs = {\"class\":\"course\"})\n",
    "\n",
    "for ss in data :\n",
    "    print(ss.get_text())\n",
    "\n",
    "    \n",
    "# for li in data :\n",
    "#     print(data.get_text())"
   ]
  },
  {
   "cell_type": "code",
   "execution_count": null,
   "id": "603762c7-ebf7-4b95-922e-ab2b33813ab5",
   "metadata": {},
   "outputs": [],
   "source": []
  }
 ],
 "metadata": {
  "kernelspec": {
   "display_name": "Python 3 (ipykernel)",
   "language": "python",
   "name": "python3"
  },
  "language_info": {
   "codemirror_mode": {
    "name": "ipython",
    "version": 3
   },
   "file_extension": ".py",
   "mimetype": "text/x-python",
   "name": "python",
   "nbconvert_exporter": "python",
   "pygments_lexer": "ipython3",
   "version": "3.13.5"
  }
 },
 "nbformat": 4,
 "nbformat_minor": 5
}
