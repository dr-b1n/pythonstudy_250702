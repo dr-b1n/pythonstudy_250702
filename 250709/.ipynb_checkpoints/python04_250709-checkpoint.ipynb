{
 "cells": [
  {
   "cell_type": "code",
   "execution_count": 4,
   "id": "c25fb916-232b-4617-a01b-6e649ee3a9a0",
   "metadata": {},
   "outputs": [
    {
     "name": "stdout",
     "output_type": "stream",
     "text": [
      "<h1 id=\"title\">[1] 크롤링이란? </h1>\n",
      "[1] 크롤링이란? \n",
      "[1] 크롤링이란? \n"
     ]
    }
   ],
   "source": [
    "from bs4 import BeautifulSoup\n",
    "\n",
    "html = \"<html>\\\n",
    "            <body>\\\n",
    "                <h1 id = 'title'>[1] 크롤링이란? </h1>\\\n",
    "                <p class = 'cssstyle'>웹페이지에서 필요한 데이터를 추출하는 것</p>\\\n",
    "                <p id ='body' align = 'center'>파이썬을 중심으로 다양한 웹크롤링 기술 발달</p>\\\n",
    "            </body>\\\n",
    "        </html>\"\n",
    "\n",
    "soup = BeautifulSoup(html, \"html.parser\")\n",
    "data = soup.find(\"h1\")\n",
    "print(data)\n",
    "print(data.string)\n",
    "print(data.get_text())"
   ]
  },
  {
   "cell_type": "code",
   "execution_count": 8,
   "id": "748aa070-05b0-43ec-aeab-ad805812ced9",
   "metadata": {},
   "outputs": [
    {
     "name": "stdout",
     "output_type": "stream",
     "text": [
      "<body> <h1 id=\"title\">[1] 크롤링이란? </h1> <p class=\"cssstyle\">웹페이지에서 필요한 데이터를 추출하는 것</p> <p align=\"center\" id=\"body\">파이썬을 중심으로 다양한 웹크롤링 기술 발달</p> </body>\n",
      " [1] 크롤링이란?  웹페이지에서 필요한 데이터를 추출하는 것 파이썬을 중심으로 다양한 웹크롤링 기술 발달 \n"
     ]
    }
   ],
   "source": [
    "html = \"<html>\\\n",
    "            <body>\\\n",
    "                <h1 id = 'title'>[1] 크롤링이란? </h1>\\\n",
    "                <p class = 'cssstyle'>웹페이지에서 필요한 데이터를 추출하는 것</p>\\\n",
    "                <p id ='body' align = 'center'>파이썬을 중심으로 다양한 웹크롤링 기술 발달</p>\\\n",
    "            </body>\\\n",
    "        </html>\"\n",
    "\n",
    "soup = BeautifulSoup(html, \"html.parser\")\n",
    "data = soup.find(\"body\")\n",
    "print(data)\n",
    "#print(data.string)\n",
    "print(data.get_text())\n",
    "\n",
    "# None: 찾아와야 할 값이 존재하지 않는 것\n",
    "# string : 크롤링하고자 하는 대상의 직접적인 텍스트 문자열을 찾아와야 할 때\n",
    "# get_text(): 자식요소의 텍스트 문자열까지 크롤링 하고자 할 때\n"
   ]
  },
  {
   "cell_type": "code",
   "execution_count": 10,
   "id": "a6323c0e-5023-48f1-a013-d0de583af684",
   "metadata": {},
   "outputs": [
    {
     "name": "stdout",
     "output_type": "stream",
     "text": [
      "웹페이지에서 필요한 데이터를 추출하는 것\n"
     ]
    }
   ],
   "source": [
    "html = \"<html>\\\n",
    "            <body>\\\n",
    "                <h1 id = 'title'>[1] 크롤링이란? </h1>\\\n",
    "                <p class = 'cssstyle'>웹페이지에서 필요한 데이터를 추출하는 것</p>\\\n",
    "                <p id ='body' align = 'center'>파이썬을 중심으로 다양한 웹크롤링 기술 발달</p>\\\n",
    "            </body>\\\n",
    "        </html>\"\n",
    "\n",
    "soup = BeautifulSoup(html, \"html.parser\")\n",
    "data = soup.find(\"p\")\n",
    "print(data.string)"
   ]
  },
  {
   "cell_type": "code",
   "execution_count": 14,
   "id": "d8e10642-ee46-4146-bd53-7affe244255f",
   "metadata": {},
   "outputs": [
    {
     "name": "stdout",
     "output_type": "stream",
     "text": [
      "웹페이지에서 필요한 데이터를 추출하는 것\n",
      "파이썬을 중심으로 다양한 웹크롤링 기술 발달\n"
     ]
    }
   ],
   "source": [
    "html = \"<html>\\\n",
    "            <body>\\\n",
    "                <h1 id = 'title'>[1] 크롤링이란? </h1>\\\n",
    "                <p class = 'cssstyle'>웹페이지에서 필요한 데이터를 추출하는 것</p>\\\n",
    "                <p id ='body' align = 'center'>파이썬을 중심으로 다양한 웹크롤링 기술 발달</p>\\\n",
    "            </body>\\\n",
    "        </html>\"\n",
    "\n",
    "#find_all : <p> 태그값을 모두 찾아오라는 의미, 복수의 값을 찾아온다는 것은 리스트 형태로 찾아오는 것이기 때문에 \n",
    "#           애초에 string이라는 속성을 쓸 수가 없었기 때문에 syntax error가 났던 것\n",
    "\n",
    "soup = BeautifulSoup(html, \"html.parser\")\n",
    "data = soup.find_all(\"p\")\n",
    "# print(data.string)\n",
    "data\n",
    "\n",
    "for item in data :\n",
    "    print(item.string)"
   ]
  },
  {
   "cell_type": "code",
   "execution_count": 16,
   "id": "af132ed1-5b5b-43eb-b032-b0942daff90f",
   "metadata": {},
   "outputs": [
    {
     "name": "stdout",
     "output_type": "stream",
     "text": [
      "파이썬을 중심으로 다양한 웹크롤링 기술 발달\n"
     ]
    }
   ],
   "source": [
    "html = \"<html>\\\n",
    "            <body>\\\n",
    "                <h1 id = 'title'>[1] 크롤링이란? </h1>\\\n",
    "                <p class = 'cssstyle'>웹페이지에서 필요한 데이터를 추출하는 것</p>\\\n",
    "                <p id ='body' align = 'center'>파이썬을 중심으로 다양한 웹크롤링 기술 발달</p>\\\n",
    "            </body>\\\n",
    "        </html>\"\n",
    "\n",
    "#id는 속성, id의 body는 값\n",
    "soup = BeautifulSoup(html, \"html.parser\")\n",
    "data = soup.find(\"p\", attrs = {\"align\":\"center\"})\n",
    "print(data.string)"
   ]
  },
  {
   "cell_type": "code",
   "execution_count": 31,
   "id": "21c73fa7-f677-48c4-b9a7-b699f743a077",
   "metadata": {},
   "outputs": [
    {
     "name": "stdout",
     "output_type": "stream",
     "text": [
      "파이썬을 중심으로 다양한 웹크롤링 기술 발달=2\n"
     ]
    }
   ],
   "source": [
    "html = \"<html>\\\n",
    "            <body>\\\n",
    "                <h1 id = 'title'>[1] 크롤링이란? </h1>\\\n",
    "                <p class = 'cssstyle'>웹페이지에서 필요한 데이터를 추출하는 것</p>\\\n",
    "                <p id ='body01' align = 'center'>파이썬을 중심으로 다양한 웹크롤링 기술 발달-1</p>\\\n",
    "                <p id ='body02' align = 'center'>파이썬을 중심으로 다양한 웹크롤링 기술 발달=2</p>\\\n",
    "            </body>\\\n",
    "        </html>\"\n",
    "\n",
    "#id는 속성, id의 body는 값\n",
    "soup = BeautifulSoup(html, \"html.parser\")\n",
    "# data = soup.find(\"p\", attrs = {\"id\":\"body02\", \"align\":\"center\"})\n",
    "data = soup.find(\"p\", id = \"body02\")\n",
    "print(data.string)"
   ]
  },
  {
   "cell_type": "code",
   "execution_count": 30,
   "id": "5b57df79-84b6-490c-af0f-30b443cefe21",
   "metadata": {},
   "outputs": [
    {
     "name": "stdout",
     "output_type": "stream",
     "text": [
      "웹페이지에서 필요한 데이터를 추출하는 것 -2\n"
     ]
    }
   ],
   "source": [
    "html = \"<html>\\\n",
    "            <body>\\\n",
    "                <h1 id = 'title'>[1] 크롤링이란? </h1>\\\n",
    "                <p class = 'cssstyle01'>웹페이지에서 필요한 데이터를 추출하는 것 -1</p>\\\n",
    "                <p class = 'cssstyle02'>웹페이지에서 필요한 데이터를 추출하는 것 -2</p>\\\n",
    "                <p id ='body01' align = 'center'>파이썬을 중심으로 다양한 웹크롤링 기술 발달-1</p>\\\n",
    "                <p id ='body02' align = 'center'>파이썬을 중심으로 다양한 웹크롤링 기술 발달=2</p>\\\n",
    "            </body>\\\n",
    "        </html>\"\n",
    "\n",
    "#id는 속성, id의 body는 값\n",
    "soup = BeautifulSoup(html, \"html.parser\")\n",
    "# data = soup.find(\"p\", attrs = {\"id\":\"body02\", \"align\":\"center\"})\n",
    "# data = soup.find(\"p\", attrs={\"class\":\"cssstyle02\"})\n",
    "# data = soup.find(\"p\", class_ = \"cssstyle02\")\n",
    "data = soup.find(\"p\", \"cssstyle02\")\n",
    "print(data.string)"
   ]
  },
  {
   "cell_type": "code",
   "execution_count": null,
   "id": "5fa93cc1-ed9d-4e7c-815a-4ca4d1e38649",
   "metadata": {},
   "outputs": [],
   "source": []
  }
 ],
 "metadata": {
  "kernelspec": {
   "display_name": "Python 3 (ipykernel)",
   "language": "python",
   "name": "python3"
  },
  "language_info": {
   "codemirror_mode": {
    "name": "ipython",
    "version": 3
   },
   "file_extension": ".py",
   "mimetype": "text/x-python",
   "name": "python",
   "nbconvert_exporter": "python",
   "pygments_lexer": "ipython3",
   "version": "3.13.5"
  }
 },
 "nbformat": 4,
 "nbformat_minor": 5
}
