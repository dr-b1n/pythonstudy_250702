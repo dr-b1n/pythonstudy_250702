{
 "cells": [
  {
   "cell_type": "markdown",
   "id": "2889995d-f316-4ff1-9780-6d7a48bad098",
   "metadata": {},
   "source": [
    "#### 파이썬 크롤링\n",
    "1. 크롤링을 하는 수많은 프로그래밍 언어와 툴이 존재하는데 왜 파이썬인가?\n",
    "    - 파이썬은 라이브러리의 천국이다\n",
    "    - 라이브러리란? > 도서관을 의미, 특정 분야에 대한 전문 지식을 습득하기 위해서 해당 책을 우리는 빌려보거나 서재에서 가져다가 참고할 수 있다\n",
    "    - 크롤링을 하려고 하는데, atoz까지 직접 크롤링을 위한 코드를 작성한다면 시간과 효율이 매우 안 좋을것임\n",
    "    - 파이썬은 미리 크롤링 할 수 있도록 도와줄 수 있는 일종의 참고 서적을 만들어놓은 것 (*참고서적 = 라이브러리)\n",
    "    - 특정 라이브러리를 가져와서 사용하려면 import라는 예약어(*명령어)를 사용!\n",
    "    - 만약에 해당 라이브러리가 파이썬에 내장되어 있는 라이브러리가 아니라고 한다면 반드시 사전에 설치가 필요함\n",
    "        - !pip = (python install package)\n",
    "        - !pip install 설치하고 싶은 라이브러리명 입력 = pandas"
   ]
  },
  {
   "cell_type": "code",
   "execution_count": 2,
   "id": "607382e0-b54b-4fdd-9f07-25badf521448",
   "metadata": {},
   "outputs": [
    {
     "name": "stdout",
     "output_type": "stream",
     "text": [
      "Requirement already satisfied: pandas in c:\\users\\user\\anaconda3\\lib\\site-packages (2.2.3)\n",
      "Requirement already satisfied: numpy>=1.26.0 in c:\\users\\user\\anaconda3\\lib\\site-packages (from pandas) (2.1.3)\n",
      "Requirement already satisfied: python-dateutil>=2.8.2 in c:\\users\\user\\anaconda3\\lib\\site-packages (from pandas) (2.9.0.post0)\n",
      "Requirement already satisfied: pytz>=2020.1 in c:\\users\\user\\anaconda3\\lib\\site-packages (from pandas) (2024.1)\n",
      "Requirement already satisfied: tzdata>=2022.7 in c:\\users\\user\\anaconda3\\lib\\site-packages (from pandas) (2025.2)\n",
      "Requirement already satisfied: six>=1.5 in c:\\users\\user\\anaconda3\\lib\\site-packages (from python-dateutil>=2.8.2->pandas) (1.17.0)\n"
     ]
    }
   ],
   "source": [
    "!pip install pandas"
   ]
  },
  {
   "cell_type": "code",
   "execution_count": 3,
   "id": "4b1325d6-b6c4-4228-9df9-e5386c05cd77",
   "metadata": {},
   "outputs": [],
   "source": [
    "import pandas"
   ]
  },
  {
   "cell_type": "code",
   "execution_count": 15,
   "id": "e8d7eb74-a6a2-460c-bb76-a4c2262c1416",
   "metadata": {},
   "outputs": [
    {
     "data": {
      "text/plain": [
       "2.5"
      ]
     },
     "execution_count": 15,
     "metadata": {},
     "output_type": "execute_result"
    }
   ],
   "source": [
    "# import statistics\n",
    "# from statistics import mean, stdev\n",
    "#statitics로부터 mean()만 쓸 것이다\n",
    "# from statistics import *\n",
    "# import statistics as s\n",
    "\n",
    "from statistics import mean as m\n",
    "\n",
    "data = [1, 2, 3, 4]\n",
    "\n",
    "m(data)\n",
    "\n",
    "\n",
    "# mean(data)\n",
    "#stdev(data)\n",
    "# print(statistics.mean(data))\n",
    "# mean이라는 메소드 함수를 쓰고 있다면 statistics는 객체임을 알 수 있다\n",
    "# print(statistics.stdev(data))\n",
    "#s.mean(data)\n",
    "#s.stdev(data)"
   ]
  },
  {
   "cell_type": "code",
   "execution_count": null,
   "id": "2a2d3fb3-22de-4318-a97a-903c715667eb",
   "metadata": {},
   "outputs": [],
   "source": []
  }
 ],
 "metadata": {
  "kernelspec": {
   "display_name": "Python 3 (ipykernel)",
   "language": "python",
   "name": "python3"
  },
  "language_info": {
   "codemirror_mode": {
    "name": "ipython",
    "version": 3
   },
   "file_extension": ".py",
   "mimetype": "text/x-python",
   "name": "python",
   "nbconvert_exporter": "python",
   "pygments_lexer": "ipython3",
   "version": "3.13.5"
  }
 },
 "nbformat": 4,
 "nbformat_minor": 5
}
