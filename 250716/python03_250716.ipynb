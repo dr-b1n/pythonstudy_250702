{
 "cells": [
  {
   "cell_type": "markdown",
   "id": "63bf0969-9dbd-4464-a18d-785a11f716b1",
   "metadata": {},
   "source": [
    "### 미션\n",
    "- 공공데이터포털 사이트 > 캠핑장 정보를 api로 찾아온다\n",
    "- 100개의 캠핑장 정보만 엑셀에 저장\n",
    "- No 캠핑장의 아이디 (contentId) / 캠핑장이름 (facltNm) / 위치 (doNm) / 주소 (addr1) / 홈페이지 (homepage)\n",
    "- 엑셀 저장"
   ]
  },
  {
   "cell_type": "code",
   "execution_count": null,
   "id": "b5ef996c-074d-46d1-b3f6-919b8f830b8b",
   "metadata": {},
   "outputs": [],
   "source": [
    "import requests\n",
    "import openpyxl\n",
    "\n",
    "url_base = \"http://apis.data.go.kr/B551011/GoCamping/basedList?serviceKey=ServiceKey&numOfRows=10&pageNo=1&MobileOS=ETC&MobileApp=TestApp&_type=json\"\n",
    "\n",
    "\n",
    "\n",
    "excel_file = openpyxl.Workbook()\n",
    "excel_sheet = excel_file.active\n",
    "excel_sheet.column_dimensions[\"E\", \"F\"].width = 100\n",
    "excel_sheet.append([\"ID\", \"이름\", \"위치\", \"주소\", \"홈페이지\"])"
   ]
  }
 ],
 "metadata": {
  "kernelspec": {
   "display_name": "Python 3 (ipykernel)",
   "language": "python",
   "name": "python3"
  },
  "language_info": {
   "codemirror_mode": {
    "name": "ipython",
    "version": 3
   },
   "file_extension": ".py",
   "mimetype": "text/x-python",
   "name": "python",
   "nbconvert_exporter": "python",
   "pygments_lexer": "ipython3",
   "version": "3.13.5"
  }
 },
 "nbformat": 4,
 "nbformat_minor": 5
}
